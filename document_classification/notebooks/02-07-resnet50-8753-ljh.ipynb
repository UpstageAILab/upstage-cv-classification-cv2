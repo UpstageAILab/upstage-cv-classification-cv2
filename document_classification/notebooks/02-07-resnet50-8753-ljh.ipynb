{
 "cells": [
  {
   "cell_type": "code",
   "execution_count": 1,
   "metadata": {},
   "outputs": [],
   "source": [
    "import os\n",
    "import time\n",
    "import random\n",
    "import timm\n",
    "import torch\n",
    "import albumentations as A\n",
    "import pandas as pd\n",
    "import numpy as np\n",
    "import torch.nn as nn\n",
    "from albumentations.pytorch import ToTensorV2\n",
    "from torch.optim import Adam\n",
    "from torchvision import transforms\n",
    "from torch.utils.data import Dataset, DataLoader\n",
    "from PIL import Image\n",
    "from tqdm import tqdm\n",
    "from sklearn.metrics import accuracy_score, f1_score\n",
    "from augraphy import *\n",
    "from sklearn.model_selection import KFold\n",
    "from glob import glob\n",
    "import cv2\n",
    "# 시드를 고정합니다.\n",
    "SEED = 42\n",
    "os.environ['PYTHONHASHSEED'] = str(SEED)\n",
    "random.seed(SEED)\n",
    "np.random.seed(SEED)\n",
    "torch.manual_seed(SEED)\n",
    "torch.cuda.manual_seed(SEED)\n",
    "torch.cuda.manual_seed_all(SEED)\n",
    "torch.backends.cudnn.benchmark = True"
   ]
  },
  {
   "cell_type": "code",
   "execution_count": 2,
   "metadata": {},
   "outputs": [],
   "source": [
    "# 데이터셋 클래스를 정의합니다.\n",
    "class ImageDataset(Dataset):\n",
    "    def __init__(self, csv, path, transform=None):\n",
    "        self.df = pd.read_csv(csv).values\n",
    "        self.path = path\n",
    "        self.transform = transform\n",
    "\n",
    "    def __len__(self):\n",
    "        return len(self.df)\n",
    "\n",
    "    def __getitem__(self, idx):\n",
    "        name, target = self.df[idx]\n",
    "        img_path = os.path.join(self.path, name)\n",
    "        img = np.array(Image.open(os.path.join(self.path, name)))\n",
    "        if self.transform:\n",
    "            img = self.transform(image=img)['image']\n",
    "        return img, target, img_path"
   ]
  },
  {
   "cell_type": "code",
   "execution_count": 3,
   "metadata": {},
   "outputs": [],
   "source": [
    "# one epoch 학습을 위한 함수입니다.\n",
    "def train_one_epoch(loader, model, optimizer, loss_fn, device):\n",
    "    model.train()\n",
    "    train_loss = 0\n",
    "    preds_list = []\n",
    "    targets_list = []\n",
    "\n",
    "    pbar = tqdm(loader)\n",
    "    for image, targets, _ in pbar:\n",
    "        image = image.to(device)\n",
    "        targets = targets.to(device)\n",
    "\n",
    "        model.zero_grad(set_to_none=True)\n",
    "\n",
    "        preds = model(image)\n",
    "        loss = loss_fn(preds, targets)\n",
    "        loss.backward()\n",
    "        optimizer.step()\n",
    "\n",
    "        train_loss += loss.item()\n",
    "        preds_list.extend(preds.argmax(dim=1).detach().cpu().numpy())\n",
    "        targets_list.extend(targets.detach().cpu().numpy())\n",
    "\n",
    "        pbar.set_description(f\"Loss: {loss.item():.4f}\")\n",
    "\n",
    "    train_loss /= len(loader)\n",
    "    train_acc = accuracy_score(targets_list, preds_list)\n",
    "    train_f1 = f1_score(targets_list, preds_list, average='macro')\n",
    "\n",
    "    ret = {\n",
    "        \"train_loss\": train_loss,\n",
    "        \"train_acc\": train_acc,\n",
    "        \"train_f1\": train_f1,\n",
    "    }\n",
    "\n",
    "    return model, ret\n",
    "\n",
    "\n",
    "\n",
    "\n",
    "def evaluation_one_epoch(loader, model, optimizer, loss_fn, device):\n",
    "    model.eval()  # 모델을 평가 모드로 설정\n",
    "    valid_loss = 0.0\n",
    "    valid_accuracy = 0\n",
    "    preds_list = []\n",
    "    targets_list = []\n",
    "\n",
    "    with torch.no_grad(): # model의 업데이트 막기\n",
    "        pbar = tqdm(loader)\n",
    "        for images, targets, _ in pbar:\n",
    "            images = images.to(device)\n",
    "            targets = targets.to(device)\n",
    "\n",
    "            # 순전파\n",
    "            preds = model(images)\n",
    "            loss = loss_fn(preds, targets)\n",
    "\n",
    "            # 손실과 정확도 계산\n",
    "            valid_loss += loss.item()\n",
    "            preds_list.extend(preds.argmax(dim=1).detach().cpu().numpy())\n",
    "            targets_list.extend(targets.detach().cpu().numpy())\n",
    "\n",
    "            pbar.set_description(f\"Loss: {loss.item():.4f}\")\n",
    "\n",
    "        valid_loss /= len(loader)\n",
    "        valid_acc = accuracy_score(targets_list, preds_list)\n",
    "        valid_f1 = f1_score(targets_list, preds_list, average='macro')\n",
    "\n",
    "    ret = {\n",
    "        \"valid_loss\": valid_loss,\n",
    "        \"valid_acc\": valid_acc,\n",
    "        \"valid_f1\": valid_f1,\n",
    "    }\n",
    "\n",
    "    return model, ret\n"
   ]
  },
  {
   "cell_type": "code",
   "execution_count": 4,
   "metadata": {},
   "outputs": [],
   "source": [
    "# device\n",
    "device = torch.device('cuda' if torch.cuda.is_available() else 'cpu')\n",
    "\n",
    "# data config\n",
    "data_path = 'data/aug_1'\n",
    "\n",
    "# model config\n",
    "model_name = 'resnet50' # 'resnet50' 'efficientnet-b0', ...\n",
    "\n",
    "# training config\n",
    "img_size = 224\n",
    "LR = 1e-3\n",
    "EPOCHS = 1\n",
    "BATCH_SIZE = 32\n",
    "num_workers = 0"
   ]
  },
  {
   "cell_type": "code",
   "execution_count": 5,
   "metadata": {},
   "outputs": [],
   "source": [
    "# augmentation을 위한 transform 코드\n",
    "#이미 albumentation에서 진행\n",
    "trn_transform = A.Compose([\n",
    "    # 이미지 크기 조정\n",
    "    A.Resize(height=img_size, width=img_size), \n",
    "    # images normalization\n",
    "    A.Normalize(mean=[0.485, 0.456, 0.406], std=[0.229, 0.224, 0.225]),\n",
    "    # numpy 이미지나 PIL 이미지를 PyTorch 텐서로 변환\n",
    "    ToTensorV2(),\n",
    "])\n",
    "\n",
    "# test image 변환을 위한 transform 코드\n",
    "tst_transform = A.Compose([\n",
    "    A.Resize(height=224, width=224),\n",
    "    A.Normalize(mean=[0.485, 0.456, 0.406], std=[0.229, 0.224, 0.225]),\n",
    "    ToTensorV2(),\n",
    "])"
   ]
  },
  {
   "cell_type": "code",
   "execution_count": 6,
   "metadata": {},
   "outputs": [
    {
     "name": "stdout",
     "output_type": "stream",
     "text": [
      "23550 3140\n"
     ]
    }
   ],
   "source": [
    "# Dataset 정의\n",
    "aug_path = '/data/ephemeral/home/new_aug.csv'\n",
    "\n",
    "\n",
    "trn_dataset = ImageDataset(\n",
    "    aug_path,\n",
    "    \"data/aug_2/\",\n",
    "    transform=trn_transform\n",
    ")\n",
    "tst_dataset = ImageDataset(\n",
    "    \"data/sample_submission.csv\",\n",
    "    \"data/test/\",\n",
    "    transform=tst_transform\n",
    ")\n",
    "print(len(trn_dataset), len(tst_dataset))"
   ]
  },
  {
   "cell_type": "code",
   "execution_count": 7,
   "metadata": {},
   "outputs": [],
   "source": [
    "df = pd.read_csv(aug_path)"
   ]
  },
  {
   "cell_type": "code",
   "execution_count": 9,
   "metadata": {},
   "outputs": [
    {
     "data": {
      "text/html": [
       "<div>\n",
       "<style scoped>\n",
       "    .dataframe tbody tr th:only-of-type {\n",
       "        vertical-align: middle;\n",
       "    }\n",
       "\n",
       "    .dataframe tbody tr th {\n",
       "        vertical-align: top;\n",
       "    }\n",
       "\n",
       "    .dataframe thead th {\n",
       "        text-align: right;\n",
       "    }\n",
       "</style>\n",
       "<table border=\"1\" class=\"dataframe\">\n",
       "  <thead>\n",
       "    <tr style=\"text-align: right;\">\n",
       "      <th></th>\n",
       "      <th>ID</th>\n",
       "      <th>target</th>\n",
       "    </tr>\n",
       "  </thead>\n",
       "  <tbody>\n",
       "    <tr>\n",
       "      <th>0</th>\n",
       "      <td>augmented_0_a1ab865095b2d312_ljh.jpg</td>\n",
       "      <td>2</td>\n",
       "    </tr>\n",
       "    <tr>\n",
       "      <th>1</th>\n",
       "      <td>augmented_1_a1ab865095b2d312_ljh.jpg</td>\n",
       "      <td>2</td>\n",
       "    </tr>\n",
       "    <tr>\n",
       "      <th>2</th>\n",
       "      <td>augmented_2_a1ab865095b2d312_ljh.jpg</td>\n",
       "      <td>2</td>\n",
       "    </tr>\n",
       "    <tr>\n",
       "      <th>3</th>\n",
       "      <td>augmented_3_a1ab865095b2d312_ljh.jpg</td>\n",
       "      <td>2</td>\n",
       "    </tr>\n",
       "    <tr>\n",
       "      <th>4</th>\n",
       "      <td>augmented_4_a1ab865095b2d312_ljh.jpg</td>\n",
       "      <td>2</td>\n",
       "    </tr>\n",
       "  </tbody>\n",
       "</table>\n",
       "</div>"
      ],
      "text/plain": [
       "                                     ID  target\n",
       "0  augmented_0_a1ab865095b2d312_ljh.jpg       2\n",
       "1  augmented_1_a1ab865095b2d312_ljh.jpg       2\n",
       "2  augmented_2_a1ab865095b2d312_ljh.jpg       2\n",
       "3  augmented_3_a1ab865095b2d312_ljh.jpg       2\n",
       "4  augmented_4_a1ab865095b2d312_ljh.jpg       2"
      ]
     },
     "execution_count": 9,
     "metadata": {},
     "output_type": "execute_result"
    }
   ],
   "source": [
    "df.head()"
   ]
  },
  {
   "cell_type": "code",
   "execution_count": 10,
   "metadata": {},
   "outputs": [
    {
     "name": "stdout",
     "output_type": "stream",
     "text": [
      "Training dataset size: 18840\n",
      "Validation dataset size: 4710\n",
      "Test dataset size: 3140\n"
     ]
    }
   ],
   "source": [
    "from torch.utils.data import DataLoader, random_split\n",
    "\n",
    "# 데이터셋 크기 정의\n",
    "total_size = len(trn_dataset)\n",
    "train_size = int(total_size * 0.8)  # 예를 들어, 전체 데이터의 80%\n",
    "val_size = total_size - train_size  # 나머지 20%\n",
    "\n",
    "# 데이터셋 분할\n",
    "train_dataset, val_dataset = random_split(trn_dataset, [train_size, val_size])\n",
    "\n",
    "# DataLoader 정의\n",
    "train_loader = DataLoader(\n",
    "    train_dataset,\n",
    "    batch_size=BATCH_SIZE,\n",
    "    shuffle=True,\n",
    "    num_workers=num_workers,\n",
    "    pin_memory=True,\n",
    "    drop_last=False\n",
    ")\n",
    "\n",
    "val_loader = DataLoader(\n",
    "    val_dataset, batch_size = BATCH_SIZE, shuffle = True, num_workers = num_workers, \n",
    "    pin_memory = True, drop_last = False\n",
    ")\n",
    "\n",
    "test_loader = DataLoader(\n",
    "    tst_dataset,\n",
    "    batch_size=BATCH_SIZE,\n",
    "    shuffle=False,\n",
    "    num_workers=0,\n",
    "    pin_memory=True\n",
    ")\n",
    "\n",
    "\n",
    "print(f\"Training dataset size: {len(train_dataset)}\")\n",
    "print(f\"Validation dataset size: {len(val_dataset)}\")\n",
    "print(f\"Test dataset size: {len(tst_dataset)}\")\n"
   ]
  },
  {
   "cell_type": "code",
   "execution_count": 11,
   "metadata": {},
   "outputs": [],
   "source": [
    "# load model\n",
    "model = timm.create_model(\n",
    "    model_name,\n",
    "    pretrained=True,\n",
    "    num_classes=17\n",
    ").to(device)\n",
    "loss_fn = nn.CrossEntropyLoss()\n",
    "optimizer = Adam(model.parameters(), lr=LR)"
   ]
  },
  {
   "cell_type": "code",
   "execution_count": 12,
   "metadata": {},
   "outputs": [
    {
     "name": "stdout",
     "output_type": "stream",
     "text": [
      "----------------------------------------------------------------\n",
      "        Layer (type)               Output Shape         Param #\n",
      "================================================================\n",
      "            Conv2d-1         [-1, 64, 112, 112]           9,408\n",
      "       BatchNorm2d-2         [-1, 64, 112, 112]             128\n",
      "              ReLU-3         [-1, 64, 112, 112]               0\n",
      "         MaxPool2d-4           [-1, 64, 56, 56]               0\n",
      "            Conv2d-5           [-1, 64, 56, 56]           4,096\n",
      "       BatchNorm2d-6           [-1, 64, 56, 56]             128\n",
      "              ReLU-7           [-1, 64, 56, 56]               0\n",
      "            Conv2d-8           [-1, 64, 56, 56]          36,864\n",
      "       BatchNorm2d-9           [-1, 64, 56, 56]             128\n",
      "         Identity-10           [-1, 64, 56, 56]               0\n",
      "             ReLU-11           [-1, 64, 56, 56]               0\n",
      "         Identity-12           [-1, 64, 56, 56]               0\n",
      "           Conv2d-13          [-1, 256, 56, 56]          16,384\n",
      "      BatchNorm2d-14          [-1, 256, 56, 56]             512\n",
      "           Conv2d-15          [-1, 256, 56, 56]          16,384\n",
      "      BatchNorm2d-16          [-1, 256, 56, 56]             512\n",
      "             ReLU-17          [-1, 256, 56, 56]               0\n",
      "       Bottleneck-18          [-1, 256, 56, 56]               0\n",
      "           Conv2d-19           [-1, 64, 56, 56]          16,384\n",
      "      BatchNorm2d-20           [-1, 64, 56, 56]             128\n",
      "             ReLU-21           [-1, 64, 56, 56]               0\n",
      "           Conv2d-22           [-1, 64, 56, 56]          36,864\n",
      "      BatchNorm2d-23           [-1, 64, 56, 56]             128\n",
      "         Identity-24           [-1, 64, 56, 56]               0\n",
      "             ReLU-25           [-1, 64, 56, 56]               0\n",
      "         Identity-26           [-1, 64, 56, 56]               0\n",
      "           Conv2d-27          [-1, 256, 56, 56]          16,384\n",
      "      BatchNorm2d-28          [-1, 256, 56, 56]             512\n",
      "             ReLU-29          [-1, 256, 56, 56]               0\n",
      "       Bottleneck-30          [-1, 256, 56, 56]               0\n",
      "           Conv2d-31           [-1, 64, 56, 56]          16,384\n",
      "      BatchNorm2d-32           [-1, 64, 56, 56]             128\n",
      "             ReLU-33           [-1, 64, 56, 56]               0\n",
      "           Conv2d-34           [-1, 64, 56, 56]          36,864\n",
      "      BatchNorm2d-35           [-1, 64, 56, 56]             128\n",
      "         Identity-36           [-1, 64, 56, 56]               0\n",
      "             ReLU-37           [-1, 64, 56, 56]               0\n",
      "         Identity-38           [-1, 64, 56, 56]               0\n",
      "           Conv2d-39          [-1, 256, 56, 56]          16,384\n",
      "      BatchNorm2d-40          [-1, 256, 56, 56]             512\n",
      "             ReLU-41          [-1, 256, 56, 56]               0\n",
      "       Bottleneck-42          [-1, 256, 56, 56]               0\n",
      "           Conv2d-43          [-1, 128, 56, 56]          32,768\n",
      "      BatchNorm2d-44          [-1, 128, 56, 56]             256\n",
      "             ReLU-45          [-1, 128, 56, 56]               0\n",
      "           Conv2d-46          [-1, 128, 28, 28]         147,456\n",
      "      BatchNorm2d-47          [-1, 128, 28, 28]             256\n",
      "         Identity-48          [-1, 128, 28, 28]               0\n",
      "             ReLU-49          [-1, 128, 28, 28]               0\n",
      "         Identity-50          [-1, 128, 28, 28]               0\n",
      "           Conv2d-51          [-1, 512, 28, 28]          65,536\n",
      "      BatchNorm2d-52          [-1, 512, 28, 28]           1,024\n",
      "           Conv2d-53          [-1, 512, 28, 28]         131,072\n",
      "      BatchNorm2d-54          [-1, 512, 28, 28]           1,024\n",
      "             ReLU-55          [-1, 512, 28, 28]               0\n",
      "       Bottleneck-56          [-1, 512, 28, 28]               0\n",
      "           Conv2d-57          [-1, 128, 28, 28]          65,536\n",
      "      BatchNorm2d-58          [-1, 128, 28, 28]             256\n",
      "             ReLU-59          [-1, 128, 28, 28]               0\n",
      "           Conv2d-60          [-1, 128, 28, 28]         147,456\n",
      "      BatchNorm2d-61          [-1, 128, 28, 28]             256\n",
      "         Identity-62          [-1, 128, 28, 28]               0\n",
      "             ReLU-63          [-1, 128, 28, 28]               0\n",
      "         Identity-64          [-1, 128, 28, 28]               0\n",
      "           Conv2d-65          [-1, 512, 28, 28]          65,536\n",
      "      BatchNorm2d-66          [-1, 512, 28, 28]           1,024\n",
      "             ReLU-67          [-1, 512, 28, 28]               0\n",
      "       Bottleneck-68          [-1, 512, 28, 28]               0\n",
      "           Conv2d-69          [-1, 128, 28, 28]          65,536\n",
      "      BatchNorm2d-70          [-1, 128, 28, 28]             256\n",
      "             ReLU-71          [-1, 128, 28, 28]               0\n",
      "           Conv2d-72          [-1, 128, 28, 28]         147,456\n",
      "      BatchNorm2d-73          [-1, 128, 28, 28]             256\n",
      "         Identity-74          [-1, 128, 28, 28]               0\n",
      "             ReLU-75          [-1, 128, 28, 28]               0\n",
      "         Identity-76          [-1, 128, 28, 28]               0\n",
      "           Conv2d-77          [-1, 512, 28, 28]          65,536\n",
      "      BatchNorm2d-78          [-1, 512, 28, 28]           1,024\n",
      "             ReLU-79          [-1, 512, 28, 28]               0\n",
      "       Bottleneck-80          [-1, 512, 28, 28]               0\n",
      "           Conv2d-81          [-1, 128, 28, 28]          65,536\n",
      "      BatchNorm2d-82          [-1, 128, 28, 28]             256\n",
      "             ReLU-83          [-1, 128, 28, 28]               0\n",
      "           Conv2d-84          [-1, 128, 28, 28]         147,456\n",
      "      BatchNorm2d-85          [-1, 128, 28, 28]             256\n",
      "         Identity-86          [-1, 128, 28, 28]               0\n",
      "             ReLU-87          [-1, 128, 28, 28]               0\n",
      "         Identity-88          [-1, 128, 28, 28]               0\n",
      "           Conv2d-89          [-1, 512, 28, 28]          65,536\n",
      "      BatchNorm2d-90          [-1, 512, 28, 28]           1,024\n",
      "             ReLU-91          [-1, 512, 28, 28]               0\n",
      "       Bottleneck-92          [-1, 512, 28, 28]               0\n",
      "           Conv2d-93          [-1, 256, 28, 28]         131,072\n",
      "      BatchNorm2d-94          [-1, 256, 28, 28]             512\n",
      "             ReLU-95          [-1, 256, 28, 28]               0\n",
      "           Conv2d-96          [-1, 256, 14, 14]         589,824\n",
      "      BatchNorm2d-97          [-1, 256, 14, 14]             512\n",
      "         Identity-98          [-1, 256, 14, 14]               0\n",
      "             ReLU-99          [-1, 256, 14, 14]               0\n",
      "        Identity-100          [-1, 256, 14, 14]               0\n",
      "          Conv2d-101         [-1, 1024, 14, 14]         262,144\n",
      "     BatchNorm2d-102         [-1, 1024, 14, 14]           2,048\n",
      "          Conv2d-103         [-1, 1024, 14, 14]         524,288\n",
      "     BatchNorm2d-104         [-1, 1024, 14, 14]           2,048\n",
      "            ReLU-105         [-1, 1024, 14, 14]               0\n",
      "      Bottleneck-106         [-1, 1024, 14, 14]               0\n",
      "          Conv2d-107          [-1, 256, 14, 14]         262,144\n",
      "     BatchNorm2d-108          [-1, 256, 14, 14]             512\n",
      "            ReLU-109          [-1, 256, 14, 14]               0\n",
      "          Conv2d-110          [-1, 256, 14, 14]         589,824\n",
      "     BatchNorm2d-111          [-1, 256, 14, 14]             512\n",
      "        Identity-112          [-1, 256, 14, 14]               0\n",
      "            ReLU-113          [-1, 256, 14, 14]               0\n",
      "        Identity-114          [-1, 256, 14, 14]               0\n",
      "          Conv2d-115         [-1, 1024, 14, 14]         262,144\n",
      "     BatchNorm2d-116         [-1, 1024, 14, 14]           2,048\n",
      "            ReLU-117         [-1, 1024, 14, 14]               0\n",
      "      Bottleneck-118         [-1, 1024, 14, 14]               0\n",
      "          Conv2d-119          [-1, 256, 14, 14]         262,144\n",
      "     BatchNorm2d-120          [-1, 256, 14, 14]             512\n",
      "            ReLU-121          [-1, 256, 14, 14]               0\n",
      "          Conv2d-122          [-1, 256, 14, 14]         589,824\n",
      "     BatchNorm2d-123          [-1, 256, 14, 14]             512\n",
      "        Identity-124          [-1, 256, 14, 14]               0\n",
      "            ReLU-125          [-1, 256, 14, 14]               0\n",
      "        Identity-126          [-1, 256, 14, 14]               0\n",
      "          Conv2d-127         [-1, 1024, 14, 14]         262,144\n",
      "     BatchNorm2d-128         [-1, 1024, 14, 14]           2,048\n",
      "            ReLU-129         [-1, 1024, 14, 14]               0\n",
      "      Bottleneck-130         [-1, 1024, 14, 14]               0\n",
      "          Conv2d-131          [-1, 256, 14, 14]         262,144\n",
      "     BatchNorm2d-132          [-1, 256, 14, 14]             512\n",
      "            ReLU-133          [-1, 256, 14, 14]               0\n",
      "          Conv2d-134          [-1, 256, 14, 14]         589,824\n",
      "     BatchNorm2d-135          [-1, 256, 14, 14]             512\n",
      "        Identity-136          [-1, 256, 14, 14]               0\n",
      "            ReLU-137          [-1, 256, 14, 14]               0\n",
      "        Identity-138          [-1, 256, 14, 14]               0\n",
      "          Conv2d-139         [-1, 1024, 14, 14]         262,144\n",
      "     BatchNorm2d-140         [-1, 1024, 14, 14]           2,048\n",
      "            ReLU-141         [-1, 1024, 14, 14]               0\n",
      "      Bottleneck-142         [-1, 1024, 14, 14]               0\n",
      "          Conv2d-143          [-1, 256, 14, 14]         262,144\n",
      "     BatchNorm2d-144          [-1, 256, 14, 14]             512\n",
      "            ReLU-145          [-1, 256, 14, 14]               0\n",
      "          Conv2d-146          [-1, 256, 14, 14]         589,824\n",
      "     BatchNorm2d-147          [-1, 256, 14, 14]             512\n",
      "        Identity-148          [-1, 256, 14, 14]               0\n",
      "            ReLU-149          [-1, 256, 14, 14]               0\n",
      "        Identity-150          [-1, 256, 14, 14]               0\n",
      "          Conv2d-151         [-1, 1024, 14, 14]         262,144\n",
      "     BatchNorm2d-152         [-1, 1024, 14, 14]           2,048\n",
      "            ReLU-153         [-1, 1024, 14, 14]               0\n",
      "      Bottleneck-154         [-1, 1024, 14, 14]               0\n",
      "          Conv2d-155          [-1, 256, 14, 14]         262,144\n",
      "     BatchNorm2d-156          [-1, 256, 14, 14]             512\n",
      "            ReLU-157          [-1, 256, 14, 14]               0\n",
      "          Conv2d-158          [-1, 256, 14, 14]         589,824\n",
      "     BatchNorm2d-159          [-1, 256, 14, 14]             512\n",
      "        Identity-160          [-1, 256, 14, 14]               0\n",
      "            ReLU-161          [-1, 256, 14, 14]               0\n",
      "        Identity-162          [-1, 256, 14, 14]               0\n",
      "          Conv2d-163         [-1, 1024, 14, 14]         262,144\n",
      "     BatchNorm2d-164         [-1, 1024, 14, 14]           2,048\n",
      "            ReLU-165         [-1, 1024, 14, 14]               0\n",
      "      Bottleneck-166         [-1, 1024, 14, 14]               0\n",
      "          Conv2d-167          [-1, 512, 14, 14]         524,288\n",
      "     BatchNorm2d-168          [-1, 512, 14, 14]           1,024\n",
      "            ReLU-169          [-1, 512, 14, 14]               0\n",
      "          Conv2d-170            [-1, 512, 7, 7]       2,359,296\n",
      "     BatchNorm2d-171            [-1, 512, 7, 7]           1,024\n",
      "        Identity-172            [-1, 512, 7, 7]               0\n",
      "            ReLU-173            [-1, 512, 7, 7]               0\n",
      "        Identity-174            [-1, 512, 7, 7]               0\n",
      "          Conv2d-175           [-1, 2048, 7, 7]       1,048,576\n",
      "     BatchNorm2d-176           [-1, 2048, 7, 7]           4,096\n",
      "          Conv2d-177           [-1, 2048, 7, 7]       2,097,152\n",
      "     BatchNorm2d-178           [-1, 2048, 7, 7]           4,096\n",
      "            ReLU-179           [-1, 2048, 7, 7]               0\n",
      "      Bottleneck-180           [-1, 2048, 7, 7]               0\n",
      "          Conv2d-181            [-1, 512, 7, 7]       1,048,576\n",
      "     BatchNorm2d-182            [-1, 512, 7, 7]           1,024\n",
      "            ReLU-183            [-1, 512, 7, 7]               0\n",
      "          Conv2d-184            [-1, 512, 7, 7]       2,359,296\n",
      "     BatchNorm2d-185            [-1, 512, 7, 7]           1,024\n",
      "        Identity-186            [-1, 512, 7, 7]               0\n",
      "            ReLU-187            [-1, 512, 7, 7]               0\n",
      "        Identity-188            [-1, 512, 7, 7]               0\n",
      "          Conv2d-189           [-1, 2048, 7, 7]       1,048,576\n",
      "     BatchNorm2d-190           [-1, 2048, 7, 7]           4,096\n",
      "            ReLU-191           [-1, 2048, 7, 7]               0\n",
      "      Bottleneck-192           [-1, 2048, 7, 7]               0\n",
      "          Conv2d-193            [-1, 512, 7, 7]       1,048,576\n",
      "     BatchNorm2d-194            [-1, 512, 7, 7]           1,024\n",
      "            ReLU-195            [-1, 512, 7, 7]               0\n",
      "          Conv2d-196            [-1, 512, 7, 7]       2,359,296\n",
      "     BatchNorm2d-197            [-1, 512, 7, 7]           1,024\n",
      "        Identity-198            [-1, 512, 7, 7]               0\n",
      "            ReLU-199            [-1, 512, 7, 7]               0\n",
      "        Identity-200            [-1, 512, 7, 7]               0\n",
      "          Conv2d-201           [-1, 2048, 7, 7]       1,048,576\n",
      "     BatchNorm2d-202           [-1, 2048, 7, 7]           4,096\n",
      "            ReLU-203           [-1, 2048, 7, 7]               0\n",
      "      Bottleneck-204           [-1, 2048, 7, 7]               0\n",
      "AdaptiveAvgPool2d-205           [-1, 2048, 1, 1]               0\n",
      "         Flatten-206                 [-1, 2048]               0\n",
      "SelectAdaptivePool2d-207                 [-1, 2048]               0\n",
      "          Linear-208                   [-1, 17]          34,833\n",
      "================================================================\n",
      "Total params: 23,542,865\n",
      "Trainable params: 23,542,865\n",
      "Non-trainable params: 0\n",
      "----------------------------------------------------------------\n",
      "Input size (MB): 0.57\n",
      "Forward/backward pass size (MB): 307.64\n",
      "Params size (MB): 89.81\n",
      "Estimated Total Size (MB): 398.02\n",
      "----------------------------------------------------------------\n"
     ]
    }
   ],
   "source": [
    "import torchsummary\n",
    "torchsummary.summary(model, input_size = (3,224,224))"
   ]
  },
  {
   "cell_type": "code",
   "execution_count": 14,
   "metadata": {},
   "outputs": [],
   "source": [
    "from torch.utils.tensorboard import SummaryWriter\n",
    "\n",
    "\n",
    "def training_loop(model, train_loader, val_loader, loss_fn, optimizer, device, num_epochs, patience, model_name):\n",
    "    writer = SummaryWriter(f'runs/{model_name}')  # TensorBoard 요약 작성자 초기화\n",
    "    best_valid_loss = float('inf')  # 가장 좋은 validation loss를 저장\n",
    "    early_stop_counter = 0  # 카운터\n",
    "    valid_max_accuracy = -1\n",
    "    valid_max_f1 = -1\n",
    "    best_max_f1 = -1\n",
    "\n",
    "    for epoch in range(num_epochs):\n",
    "        model, ret = train_one_epoch(train_loader, model, optimizer, loss_fn, device)\n",
    "        model, ret_val = evaluation_one_epoch(val_loader, model, optimizer, loss_fn, device)\n",
    "\n",
    "        writer.add_scalar('Loss/train', ret['train_loss'], epoch)\n",
    "        writer.add_scalar('Accuracy/train', ret['train_acc'], epoch)\n",
    "        writer.add_scalar('F1/train', ret['train_f1'], epoch)\n",
    "\n",
    "        # TensorBoard에 검증 지표 기록\n",
    "        writer.add_scalar('Loss/valid', ret_val['valid_loss'], epoch)\n",
    "        writer.add_scalar('Accuracy/valid', ret_val['valid_acc'], epoch)\n",
    "        writer.add_scalar('F1/valid', ret_val['valid_f1'], epoch)\n",
    "\n",
    "        \n",
    "        if ret_val['valid_acc'] > valid_max_accuracy:\n",
    "            valid_max_accuracy = ret_val['valid_acc']\n",
    "\n",
    "        if ret_val['valid_f1'] < best_max_f1:\n",
    "            best_max_f1 = ret_val['valid_f1']\n",
    "        \n",
    "        # validation loss가 감소하면 모델 저장 및 카운터 리셋\n",
    "        if ret_val['valid_loss'] < best_valid_loss:\n",
    "            best_valid_loss = ret_val['valid_loss']\n",
    "            torch.save(model.state_dict(), f\"./model_{model_name}.pt\")\n",
    "            early_stop_counter = 0\n",
    "\n",
    "\n",
    "        \n",
    "        # validation loss가 증가하거나 같으면 카운터 증가\n",
    "        else:\n",
    "            early_stop_counter += 1\n",
    "\n",
    "        print(f\"Epoch [{epoch + 1}/{num_epochs}], Train Loss: {ret['train_loss']:.4f}, Train Accuracy: {ret['train_acc']:.4f} Valid Loss: {ret_val['valid_loss']:.4f}, Valid Accuracy: {ret_val['valid_acc']:.4f}\")\n",
    "\n",
    "        # 조기 종료 카운터가 설정한 patience를 초과하면 학습 종료\n",
    "        if early_stop_counter >= patience:\n",
    "            print(\"Early stopping\")\n",
    "            break\n",
    "    writer.close()\n",
    "    return model, valid_max_accuracy, ret, ret_val"
   ]
  },
  {
   "cell_type": "code",
   "execution_count": 15,
   "metadata": {},
   "outputs": [
    {
     "name": "stderr",
     "output_type": "stream",
     "text": [
      "Loss: 0.3623: 100%|██████████| 589/589 [01:16<00:00,  7.71it/s]\n",
      "Loss: 0.1244: 100%|██████████| 148/148 [00:12<00:00, 11.90it/s]\n"
     ]
    },
    {
     "name": "stdout",
     "output_type": "stream",
     "text": [
      "Epoch [1/100], Train Loss: 0.6435, Train Accuracy: 0.7815 Valid Loss: 0.3264, Valid Accuracy: 0.8737\n"
     ]
    },
    {
     "name": "stderr",
     "output_type": "stream",
     "text": [
      "Loss: 0.1966: 100%|██████████| 589/589 [01:17<00:00,  7.64it/s]\n",
      "Loss: 0.0261: 100%|██████████| 148/148 [00:11<00:00, 12.55it/s]\n"
     ]
    },
    {
     "name": "stdout",
     "output_type": "stream",
     "text": [
      "Epoch [2/100], Train Loss: 0.1965, Train Accuracy: 0.9276 Valid Loss: 0.2017, Valid Accuracy: 0.9297\n"
     ]
    },
    {
     "name": "stderr",
     "output_type": "stream",
     "text": [
      "Loss: 0.3238: 100%|██████████| 589/589 [01:15<00:00,  7.77it/s]\n",
      "Loss: 0.0222: 100%|██████████| 148/148 [00:12<00:00, 11.43it/s]\n"
     ]
    },
    {
     "name": "stdout",
     "output_type": "stream",
     "text": [
      "Epoch [3/100], Train Loss: 0.1243, Train Accuracy: 0.9558 Valid Loss: 0.2367, Valid Accuracy: 0.9238\n"
     ]
    },
    {
     "name": "stderr",
     "output_type": "stream",
     "text": [
      "Loss: 0.0166: 100%|██████████| 589/589 [01:16<00:00,  7.65it/s]\n",
      "Loss: 0.0017: 100%|██████████| 148/148 [00:13<00:00, 11.35it/s]\n"
     ]
    },
    {
     "name": "stdout",
     "output_type": "stream",
     "text": [
      "Epoch [4/100], Train Loss: 0.0737, Train Accuracy: 0.9757 Valid Loss: 0.1675, Valid Accuracy: 0.9444\n"
     ]
    },
    {
     "name": "stderr",
     "output_type": "stream",
     "text": [
      "Loss: 0.0843: 100%|██████████| 589/589 [01:15<00:00,  7.84it/s]\n",
      "Loss: 0.0303: 100%|██████████| 148/148 [00:13<00:00, 11.08it/s]\n"
     ]
    },
    {
     "name": "stdout",
     "output_type": "stream",
     "text": [
      "Epoch [5/100], Train Loss: 0.0641, Train Accuracy: 0.9781 Valid Loss: 0.1898, Valid Accuracy: 0.9378\n"
     ]
    },
    {
     "name": "stderr",
     "output_type": "stream",
     "text": [
      "Loss: 0.0326: 100%|██████████| 589/589 [01:16<00:00,  7.70it/s]\n",
      "Loss: 0.0180: 100%|██████████| 148/148 [00:11<00:00, 12.86it/s]\n"
     ]
    },
    {
     "name": "stdout",
     "output_type": "stream",
     "text": [
      "Epoch [6/100], Train Loss: 0.0548, Train Accuracy: 0.9818 Valid Loss: 0.2919, Valid Accuracy: 0.9176\n"
     ]
    },
    {
     "name": "stderr",
     "output_type": "stream",
     "text": [
      "Loss: 0.0439: 100%|██████████| 589/589 [01:15<00:00,  7.76it/s]\n",
      "Loss: 0.0338: 100%|██████████| 148/148 [00:12<00:00, 12.33it/s]\n"
     ]
    },
    {
     "name": "stdout",
     "output_type": "stream",
     "text": [
      "Epoch [7/100], Train Loss: 0.0472, Train Accuracy: 0.9848 Valid Loss: 0.2135, Valid Accuracy: 0.9412\n"
     ]
    },
    {
     "name": "stderr",
     "output_type": "stream",
     "text": [
      "Loss: 0.1751: 100%|██████████| 589/589 [01:16<00:00,  7.66it/s]\n",
      "Loss: 0.0014: 100%|██████████| 148/148 [00:12<00:00, 11.69it/s]\n"
     ]
    },
    {
     "name": "stdout",
     "output_type": "stream",
     "text": [
      "Epoch [8/100], Train Loss: 0.0346, Train Accuracy: 0.9883 Valid Loss: 0.1640, Valid Accuracy: 0.9507\n"
     ]
    },
    {
     "name": "stderr",
     "output_type": "stream",
     "text": [
      "Loss: 0.1528: 100%|██████████| 589/589 [01:15<00:00,  7.85it/s]\n",
      "Loss: 0.0012: 100%|██████████| 148/148 [00:12<00:00, 11.64it/s]\n"
     ]
    },
    {
     "name": "stdout",
     "output_type": "stream",
     "text": [
      "Epoch [9/100], Train Loss: 0.0374, Train Accuracy: 0.9875 Valid Loss: 0.1653, Valid Accuracy: 0.9488\n"
     ]
    },
    {
     "name": "stderr",
     "output_type": "stream",
     "text": [
      "Loss: 0.0469: 100%|██████████| 589/589 [01:14<00:00,  7.90it/s]\n",
      "Loss: 0.0108: 100%|██████████| 148/148 [00:13<00:00, 11.12it/s]\n"
     ]
    },
    {
     "name": "stdout",
     "output_type": "stream",
     "text": [
      "Epoch [10/100], Train Loss: 0.0352, Train Accuracy: 0.9883 Valid Loss: 0.1435, Valid Accuracy: 0.9518\n"
     ]
    },
    {
     "name": "stderr",
     "output_type": "stream",
     "text": [
      "Loss: 0.0035: 100%|██████████| 589/589 [01:16<00:00,  7.70it/s]\n",
      "Loss: 0.0010: 100%|██████████| 148/148 [00:12<00:00, 12.02it/s]\n"
     ]
    },
    {
     "name": "stdout",
     "output_type": "stream",
     "text": [
      "Epoch [11/100], Train Loss: 0.0279, Train Accuracy: 0.9905 Valid Loss: 0.1698, Valid Accuracy: 0.9527\n"
     ]
    },
    {
     "name": "stderr",
     "output_type": "stream",
     "text": [
      "Loss: 0.1101: 100%|██████████| 589/589 [01:18<00:00,  7.53it/s]\n",
      "Loss: 1.1414: 100%|██████████| 148/148 [00:12<00:00, 11.74it/s]\n"
     ]
    },
    {
     "name": "stdout",
     "output_type": "stream",
     "text": [
      "Epoch [12/100], Train Loss: 0.0294, Train Accuracy: 0.9907 Valid Loss: 0.1462, Valid Accuracy: 0.9575\n"
     ]
    },
    {
     "name": "stderr",
     "output_type": "stream",
     "text": [
      "Loss: 0.1172: 100%|██████████| 589/589 [01:12<00:00,  8.13it/s]\n",
      "Loss: 0.0004: 100%|██████████| 148/148 [00:11<00:00, 12.61it/s]\n"
     ]
    },
    {
     "name": "stdout",
     "output_type": "stream",
     "text": [
      "Epoch [13/100], Train Loss: 0.0196, Train Accuracy: 0.9940 Valid Loss: 0.1512, Valid Accuracy: 0.9588\n"
     ]
    },
    {
     "name": "stderr",
     "output_type": "stream",
     "text": [
      "Loss: 0.0184: 100%|██████████| 589/589 [01:13<00:00,  7.98it/s]\n",
      "Loss: 0.0019: 100%|██████████| 148/148 [00:11<00:00, 12.60it/s]\n"
     ]
    },
    {
     "name": "stdout",
     "output_type": "stream",
     "text": [
      "Epoch [14/100], Train Loss: 0.0254, Train Accuracy: 0.9917 Valid Loss: 0.1625, Valid Accuracy: 0.9548\n"
     ]
    },
    {
     "name": "stderr",
     "output_type": "stream",
     "text": [
      "Loss: 0.0922: 100%|██████████| 589/589 [01:14<00:00,  7.93it/s]\n",
      "Loss: 0.0002: 100%|██████████| 148/148 [00:12<00:00, 11.75it/s]\n"
     ]
    },
    {
     "name": "stdout",
     "output_type": "stream",
     "text": [
      "Epoch [15/100], Train Loss: 0.0287, Train Accuracy: 0.9906 Valid Loss: 0.1808, Valid Accuracy: 0.9452\n"
     ]
    },
    {
     "name": "stderr",
     "output_type": "stream",
     "text": [
      "Loss: 0.0018: 100%|██████████| 589/589 [01:13<00:00,  7.96it/s]\n",
      "Loss: 0.0225: 100%|██████████| 148/148 [00:12<00:00, 12.04it/s]\n"
     ]
    },
    {
     "name": "stdout",
     "output_type": "stream",
     "text": [
      "Epoch [16/100], Train Loss: 0.0202, Train Accuracy: 0.9939 Valid Loss: 0.1811, Valid Accuracy: 0.9556\n"
     ]
    },
    {
     "name": "stderr",
     "output_type": "stream",
     "text": [
      "Loss: 0.0144: 100%|██████████| 589/589 [01:12<00:00,  8.07it/s]\n",
      "Loss: 0.0041: 100%|██████████| 148/148 [00:11<00:00, 12.47it/s]\n"
     ]
    },
    {
     "name": "stdout",
     "output_type": "stream",
     "text": [
      "Epoch [17/100], Train Loss: 0.0198, Train Accuracy: 0.9934 Valid Loss: 0.1591, Valid Accuracy: 0.9531\n"
     ]
    },
    {
     "name": "stderr",
     "output_type": "stream",
     "text": [
      "Loss: 0.0161: 100%|██████████| 589/589 [01:12<00:00,  8.18it/s]\n",
      "Loss: 1.9587: 100%|██████████| 148/148 [00:12<00:00, 12.32it/s]\n"
     ]
    },
    {
     "name": "stdout",
     "output_type": "stream",
     "text": [
      "Epoch [18/100], Train Loss: 0.0193, Train Accuracy: 0.9940 Valid Loss: 0.3258, Valid Accuracy: 0.9195\n"
     ]
    },
    {
     "name": "stderr",
     "output_type": "stream",
     "text": [
      "Loss: 0.0065: 100%|██████████| 589/589 [01:13<00:00,  8.05it/s]\n",
      "Loss: 0.1167: 100%|██████████| 148/148 [00:13<00:00, 10.93it/s]\n"
     ]
    },
    {
     "name": "stdout",
     "output_type": "stream",
     "text": [
      "Epoch [19/100], Train Loss: 0.0163, Train Accuracy: 0.9941 Valid Loss: 0.1382, Valid Accuracy: 0.9584\n"
     ]
    },
    {
     "name": "stderr",
     "output_type": "stream",
     "text": [
      "Loss: 0.1059: 100%|██████████| 589/589 [01:13<00:00,  8.01it/s]\n",
      "Loss: 0.0016: 100%|██████████| 148/148 [00:11<00:00, 12.71it/s]\n"
     ]
    },
    {
     "name": "stdout",
     "output_type": "stream",
     "text": [
      "Epoch [20/100], Train Loss: 0.0167, Train Accuracy: 0.9944 Valid Loss: 0.1290, Valid Accuracy: 0.9635\n"
     ]
    },
    {
     "name": "stderr",
     "output_type": "stream",
     "text": [
      "Loss: 0.0072: 100%|██████████| 589/589 [01:14<00:00,  7.91it/s]\n",
      "Loss: 0.0097: 100%|██████████| 148/148 [00:12<00:00, 12.08it/s]\n"
     ]
    },
    {
     "name": "stdout",
     "output_type": "stream",
     "text": [
      "Epoch [21/100], Train Loss: 0.0151, Train Accuracy: 0.9960 Valid Loss: 0.1434, Valid Accuracy: 0.9635\n"
     ]
    },
    {
     "name": "stderr",
     "output_type": "stream",
     "text": [
      "Loss: 0.0080: 100%|██████████| 589/589 [01:13<00:00,  8.03it/s]\n",
      "Loss: 0.0064: 100%|██████████| 148/148 [00:12<00:00, 12.28it/s]\n"
     ]
    },
    {
     "name": "stdout",
     "output_type": "stream",
     "text": [
      "Epoch [22/100], Train Loss: 0.0241, Train Accuracy: 0.9925 Valid Loss: 0.1208, Valid Accuracy: 0.9637\n"
     ]
    },
    {
     "name": "stderr",
     "output_type": "stream",
     "text": [
      "Loss: 0.0013: 100%|██████████| 589/589 [01:11<00:00,  8.24it/s]\n",
      "Loss: 0.1782: 100%|██████████| 148/148 [00:11<00:00, 13.01it/s]\n"
     ]
    },
    {
     "name": "stdout",
     "output_type": "stream",
     "text": [
      "Epoch [23/100], Train Loss: 0.0107, Train Accuracy: 0.9972 Valid Loss: 0.1398, Valid Accuracy: 0.9637\n"
     ]
    },
    {
     "name": "stderr",
     "output_type": "stream",
     "text": [
      "Loss: 0.1118: 100%|██████████| 589/589 [01:16<00:00,  7.72it/s]\n",
      "Loss: 0.0102: 100%|██████████| 148/148 [00:11<00:00, 12.42it/s]\n"
     ]
    },
    {
     "name": "stdout",
     "output_type": "stream",
     "text": [
      "Epoch [24/100], Train Loss: 0.0191, Train Accuracy: 0.9936 Valid Loss: 0.1592, Valid Accuracy: 0.9550\n"
     ]
    },
    {
     "name": "stderr",
     "output_type": "stream",
     "text": [
      "Loss: 0.0272: 100%|██████████| 589/589 [01:15<00:00,  7.77it/s]\n",
      "Loss: 0.2377: 100%|██████████| 148/148 [00:13<00:00, 10.67it/s]\n"
     ]
    },
    {
     "name": "stdout",
     "output_type": "stream",
     "text": [
      "Epoch [25/100], Train Loss: 0.0153, Train Accuracy: 0.9952 Valid Loss: 0.1741, Valid Accuracy: 0.9535\n"
     ]
    },
    {
     "name": "stderr",
     "output_type": "stream",
     "text": [
      "Loss: 0.0005: 100%|██████████| 589/589 [01:16<00:00,  7.73it/s]\n",
      "Loss: 0.4970: 100%|██████████| 148/148 [00:11<00:00, 12.98it/s]\n"
     ]
    },
    {
     "name": "stdout",
     "output_type": "stream",
     "text": [
      "Epoch [26/100], Train Loss: 0.0129, Train Accuracy: 0.9956 Valid Loss: 0.1398, Valid Accuracy: 0.9582\n"
     ]
    },
    {
     "name": "stderr",
     "output_type": "stream",
     "text": [
      "Loss: 0.0003: 100%|██████████| 589/589 [01:15<00:00,  7.85it/s]\n",
      "Loss: 0.0261: 100%|██████████| 148/148 [00:13<00:00, 11.05it/s]\n"
     ]
    },
    {
     "name": "stdout",
     "output_type": "stream",
     "text": [
      "Epoch [27/100], Train Loss: 0.0110, Train Accuracy: 0.9967 Valid Loss: 0.1830, Valid Accuracy: 0.9480\n"
     ]
    },
    {
     "name": "stderr",
     "output_type": "stream",
     "text": [
      "Loss: 0.0029: 100%|██████████| 589/589 [01:15<00:00,  7.76it/s]\n",
      "Loss: 1.0965: 100%|██████████| 148/148 [00:12<00:00, 12.23it/s]\n"
     ]
    },
    {
     "name": "stdout",
     "output_type": "stream",
     "text": [
      "Epoch [28/100], Train Loss: 0.0175, Train Accuracy: 0.9943 Valid Loss: 0.5112, Valid Accuracy: 0.9002\n"
     ]
    },
    {
     "name": "stderr",
     "output_type": "stream",
     "text": [
      "Loss: 0.0037: 100%|██████████| 589/589 [01:15<00:00,  7.83it/s]\n",
      "Loss: 0.0000: 100%|██████████| 148/148 [00:11<00:00, 12.44it/s]\n"
     ]
    },
    {
     "name": "stdout",
     "output_type": "stream",
     "text": [
      "Epoch [29/100], Train Loss: 0.0143, Train Accuracy: 0.9958 Valid Loss: 0.1295, Valid Accuracy: 0.9658\n"
     ]
    },
    {
     "name": "stderr",
     "output_type": "stream",
     "text": [
      "Loss: 0.0001: 100%|██████████| 589/589 [01:16<00:00,  7.74it/s]\n",
      "Loss: 0.0743: 100%|██████████| 148/148 [00:12<00:00, 12.19it/s]\n"
     ]
    },
    {
     "name": "stdout",
     "output_type": "stream",
     "text": [
      "Epoch [30/100], Train Loss: 0.0047, Train Accuracy: 0.9985 Valid Loss: 0.1897, Valid Accuracy: 0.9577\n"
     ]
    },
    {
     "name": "stderr",
     "output_type": "stream",
     "text": [
      "Loss: 0.0000: 100%|██████████| 589/589 [01:09<00:00,  8.53it/s]\n",
      "Loss: 0.0066: 100%|██████████| 148/148 [00:10<00:00, 14.77it/s]\n"
     ]
    },
    {
     "name": "stdout",
     "output_type": "stream",
     "text": [
      "Epoch [31/100], Train Loss: 0.0181, Train Accuracy: 0.9949 Valid Loss: 0.1337, Valid Accuracy: 0.9601\n"
     ]
    },
    {
     "name": "stderr",
     "output_type": "stream",
     "text": [
      "Loss: 0.0001: 100%|██████████| 589/589 [01:06<00:00,  8.83it/s]\n",
      "Loss: 0.0004: 100%|██████████| 148/148 [00:09<00:00, 14.81it/s]\n"
     ]
    },
    {
     "name": "stdout",
     "output_type": "stream",
     "text": [
      "Epoch [32/100], Train Loss: 0.0065, Train Accuracy: 0.9983 Valid Loss: 0.1432, Valid Accuracy: 0.9682\n"
     ]
    },
    {
     "name": "stderr",
     "output_type": "stream",
     "text": [
      "Loss: 0.0488: 100%|██████████| 589/589 [01:06<00:00,  8.82it/s]\n",
      "Loss: 0.0039: 100%|██████████| 148/148 [00:09<00:00, 14.82it/s]\n"
     ]
    },
    {
     "name": "stdout",
     "output_type": "stream",
     "text": [
      "Epoch [33/100], Train Loss: 0.0188, Train Accuracy: 0.9940 Valid Loss: 0.1268, Valid Accuracy: 0.9639\n"
     ]
    },
    {
     "name": "stderr",
     "output_type": "stream",
     "text": [
      "Loss: 0.0490: 100%|██████████| 589/589 [01:06<00:00,  8.85it/s]\n",
      "Loss: 0.0000: 100%|██████████| 148/148 [00:10<00:00, 14.76it/s]\n"
     ]
    },
    {
     "name": "stdout",
     "output_type": "stream",
     "text": [
      "Epoch [34/100], Train Loss: 0.0066, Train Accuracy: 0.9984 Valid Loss: 0.1567, Valid Accuracy: 0.9582\n"
     ]
    },
    {
     "name": "stderr",
     "output_type": "stream",
     "text": [
      "Loss: 0.0157: 100%|██████████| 589/589 [01:06<00:00,  8.81it/s]\n",
      "Loss: 0.4949: 100%|██████████| 148/148 [00:10<00:00, 14.65it/s]\n"
     ]
    },
    {
     "name": "stdout",
     "output_type": "stream",
     "text": [
      "Epoch [35/100], Train Loss: 0.0162, Train Accuracy: 0.9953 Valid Loss: 0.1202, Valid Accuracy: 0.9673\n"
     ]
    },
    {
     "name": "stderr",
     "output_type": "stream",
     "text": [
      "Loss: 0.0060: 100%|██████████| 589/589 [01:06<00:00,  8.81it/s]\n",
      "Loss: 1.4190: 100%|██████████| 148/148 [00:10<00:00, 14.68it/s]\n"
     ]
    },
    {
     "name": "stdout",
     "output_type": "stream",
     "text": [
      "Epoch [36/100], Train Loss: 0.0043, Train Accuracy: 0.9988 Valid Loss: 0.1346, Valid Accuracy: 0.9694\n"
     ]
    },
    {
     "name": "stderr",
     "output_type": "stream",
     "text": [
      "Loss: 0.0001: 100%|██████████| 589/589 [01:06<00:00,  8.83it/s]\n",
      "Loss: 0.0000: 100%|██████████| 148/148 [00:09<00:00, 14.81it/s]\n"
     ]
    },
    {
     "name": "stdout",
     "output_type": "stream",
     "text": [
      "Epoch [37/100], Train Loss: 0.0122, Train Accuracy: 0.9960 Valid Loss: 0.1196, Valid Accuracy: 0.9688\n"
     ]
    },
    {
     "name": "stderr",
     "output_type": "stream",
     "text": [
      "Loss: 0.0055: 100%|██████████| 589/589 [01:06<00:00,  8.86it/s]\n",
      "Loss: 0.5108: 100%|██████████| 148/148 [00:10<00:00, 14.78it/s]\n"
     ]
    },
    {
     "name": "stdout",
     "output_type": "stream",
     "text": [
      "Epoch [38/100], Train Loss: 0.0053, Train Accuracy: 0.9984 Valid Loss: 0.2230, Valid Accuracy: 0.9499\n"
     ]
    },
    {
     "name": "stderr",
     "output_type": "stream",
     "text": [
      "Loss: 0.2236: 100%|██████████| 589/589 [01:06<00:00,  8.85it/s]\n",
      "Loss: 0.1560: 100%|██████████| 148/148 [00:09<00:00, 14.86it/s]\n"
     ]
    },
    {
     "name": "stdout",
     "output_type": "stream",
     "text": [
      "Epoch [39/100], Train Loss: 0.0177, Train Accuracy: 0.9942 Valid Loss: 0.1811, Valid Accuracy: 0.9544\n"
     ]
    },
    {
     "name": "stderr",
     "output_type": "stream",
     "text": [
      "Loss: 0.0009: 100%|██████████| 589/589 [01:06<00:00,  8.83it/s]\n",
      "Loss: 0.0000: 100%|██████████| 148/148 [00:10<00:00, 14.78it/s]\n"
     ]
    },
    {
     "name": "stdout",
     "output_type": "stream",
     "text": [
      "Epoch [40/100], Train Loss: 0.0103, Train Accuracy: 0.9970 Valid Loss: 0.1163, Valid Accuracy: 0.9669\n"
     ]
    },
    {
     "name": "stderr",
     "output_type": "stream",
     "text": [
      "Loss: 0.0264: 100%|██████████| 589/589 [01:06<00:00,  8.83it/s]\n",
      "Loss: 0.0668: 100%|██████████| 148/148 [00:10<00:00, 14.79it/s]\n"
     ]
    },
    {
     "name": "stdout",
     "output_type": "stream",
     "text": [
      "Epoch [41/100], Train Loss: 0.0102, Train Accuracy: 0.9975 Valid Loss: 0.1298, Valid Accuracy: 0.9669\n"
     ]
    },
    {
     "name": "stderr",
     "output_type": "stream",
     "text": [
      "Loss: 0.0002: 100%|██████████| 589/589 [01:06<00:00,  8.85it/s]\n",
      "Loss: 1.0233: 100%|██████████| 148/148 [00:09<00:00, 14.83it/s]\n"
     ]
    },
    {
     "name": "stdout",
     "output_type": "stream",
     "text": [
      "Epoch [42/100], Train Loss: 0.0063, Train Accuracy: 0.9979 Valid Loss: 0.1956, Valid Accuracy: 0.9490\n"
     ]
    },
    {
     "name": "stderr",
     "output_type": "stream",
     "text": [
      "Loss: 0.0216: 100%|██████████| 589/589 [01:06<00:00,  8.82it/s]\n",
      "Loss: 0.0001: 100%|██████████| 148/148 [00:09<00:00, 14.86it/s]\n"
     ]
    },
    {
     "name": "stdout",
     "output_type": "stream",
     "text": [
      "Epoch [43/100], Train Loss: 0.0114, Train Accuracy: 0.9961 Valid Loss: 0.1513, Valid Accuracy: 0.9635\n"
     ]
    },
    {
     "name": "stderr",
     "output_type": "stream",
     "text": [
      "Loss: 0.0751: 100%|██████████| 589/589 [01:06<00:00,  8.86it/s]\n",
      "Loss: 0.0166: 100%|██████████| 148/148 [00:09<00:00, 14.81it/s]\n"
     ]
    },
    {
     "name": "stdout",
     "output_type": "stream",
     "text": [
      "Epoch [44/100], Train Loss: 0.0098, Train Accuracy: 0.9970 Valid Loss: 0.1340, Valid Accuracy: 0.9650\n"
     ]
    },
    {
     "name": "stderr",
     "output_type": "stream",
     "text": [
      "Loss: 0.0013: 100%|██████████| 589/589 [01:07<00:00,  8.78it/s]\n",
      "Loss: 0.0000: 100%|██████████| 148/148 [00:10<00:00, 14.12it/s]\n"
     ]
    },
    {
     "name": "stdout",
     "output_type": "stream",
     "text": [
      "Epoch [45/100], Train Loss: 0.0104, Train Accuracy: 0.9971 Valid Loss: 0.1412, Valid Accuracy: 0.9616\n"
     ]
    },
    {
     "name": "stderr",
     "output_type": "stream",
     "text": [
      "Loss: 0.0008: 100%|██████████| 589/589 [01:08<00:00,  8.56it/s]\n",
      "Loss: 0.0009: 100%|██████████| 148/148 [00:10<00:00, 13.86it/s]\n"
     ]
    },
    {
     "name": "stdout",
     "output_type": "stream",
     "text": [
      "Epoch [46/100], Train Loss: 0.0031, Train Accuracy: 0.9994 Valid Loss: 0.1377, Valid Accuracy: 0.9656\n"
     ]
    },
    {
     "name": "stderr",
     "output_type": "stream",
     "text": [
      "Loss: 0.0597: 100%|██████████| 589/589 [01:08<00:00,  8.64it/s]\n",
      "Loss: 0.0171: 100%|██████████| 148/148 [00:09<00:00, 14.85it/s]\n"
     ]
    },
    {
     "name": "stdout",
     "output_type": "stream",
     "text": [
      "Epoch [47/100], Train Loss: 0.0061, Train Accuracy: 0.9978 Valid Loss: 0.1802, Valid Accuracy: 0.9529\n"
     ]
    },
    {
     "name": "stderr",
     "output_type": "stream",
     "text": [
      "Loss: 0.0169: 100%|██████████| 589/589 [01:07<00:00,  8.70it/s]\n",
      "Loss: 0.1193: 100%|██████████| 148/148 [00:10<00:00, 14.54it/s]\n"
     ]
    },
    {
     "name": "stdout",
     "output_type": "stream",
     "text": [
      "Epoch [48/100], Train Loss: 0.0110, Train Accuracy: 0.9966 Valid Loss: 0.1301, Valid Accuracy: 0.9637\n"
     ]
    },
    {
     "name": "stderr",
     "output_type": "stream",
     "text": [
      "Loss: 0.0000: 100%|██████████| 589/589 [01:07<00:00,  8.75it/s]\n",
      "Loss: 0.1296: 100%|██████████| 148/148 [00:10<00:00, 14.49it/s]\n"
     ]
    },
    {
     "name": "stdout",
     "output_type": "stream",
     "text": [
      "Epoch [49/100], Train Loss: 0.0060, Train Accuracy: 0.9984 Valid Loss: 0.1306, Valid Accuracy: 0.9677\n"
     ]
    },
    {
     "name": "stderr",
     "output_type": "stream",
     "text": [
      "Loss: 0.0000: 100%|██████████| 589/589 [01:07<00:00,  8.74it/s]\n",
      "Loss: 0.0000: 100%|██████████| 148/148 [00:10<00:00, 14.30it/s]\n"
     ]
    },
    {
     "name": "stdout",
     "output_type": "stream",
     "text": [
      "Epoch [50/100], Train Loss: 0.0098, Train Accuracy: 0.9971 Valid Loss: 0.1466, Valid Accuracy: 0.9628\n"
     ]
    },
    {
     "name": "stderr",
     "output_type": "stream",
     "text": [
      "Loss: 0.0727: 100%|██████████| 589/589 [01:07<00:00,  8.74it/s]\n",
      "Loss: 0.0001: 100%|██████████| 148/148 [00:10<00:00, 14.59it/s]\n"
     ]
    },
    {
     "name": "stdout",
     "output_type": "stream",
     "text": [
      "Epoch [51/100], Train Loss: 0.0090, Train Accuracy: 0.9971 Valid Loss: 0.1216, Valid Accuracy: 0.9699\n"
     ]
    },
    {
     "name": "stderr",
     "output_type": "stream",
     "text": [
      "Loss: 0.0013: 100%|██████████| 589/589 [01:07<00:00,  8.71it/s]\n",
      "Loss: 0.0021: 100%|██████████| 148/148 [00:10<00:00, 14.43it/s]\n"
     ]
    },
    {
     "name": "stdout",
     "output_type": "stream",
     "text": [
      "Epoch [52/100], Train Loss: 0.0052, Train Accuracy: 0.9982 Valid Loss: 0.2258, Valid Accuracy: 0.9425\n"
     ]
    },
    {
     "name": "stderr",
     "output_type": "stream",
     "text": [
      "Loss: 0.0258: 100%|██████████| 589/589 [01:07<00:00,  8.70it/s]\n",
      "Loss: 0.4023: 100%|██████████| 148/148 [00:10<00:00, 14.47it/s]\n"
     ]
    },
    {
     "name": "stdout",
     "output_type": "stream",
     "text": [
      "Epoch [53/100], Train Loss: 0.0110, Train Accuracy: 0.9963 Valid Loss: 0.1890, Valid Accuracy: 0.9599\n"
     ]
    },
    {
     "name": "stderr",
     "output_type": "stream",
     "text": [
      "Loss: 0.0003: 100%|██████████| 589/589 [01:07<00:00,  8.76it/s]\n",
      "Loss: 0.0028: 100%|██████████| 148/148 [00:10<00:00, 14.12it/s]\n"
     ]
    },
    {
     "name": "stdout",
     "output_type": "stream",
     "text": [
      "Epoch [54/100], Train Loss: 0.0070, Train Accuracy: 0.9978 Valid Loss: 0.1248, Valid Accuracy: 0.9709\n"
     ]
    },
    {
     "name": "stderr",
     "output_type": "stream",
     "text": [
      "Loss: 0.0103: 100%|██████████| 589/589 [01:07<00:00,  8.76it/s]\n",
      "Loss: 0.0000: 100%|██████████| 148/148 [00:10<00:00, 14.46it/s]\n"
     ]
    },
    {
     "name": "stdout",
     "output_type": "stream",
     "text": [
      "Epoch [55/100], Train Loss: 0.0038, Train Accuracy: 0.9989 Valid Loss: 0.2029, Valid Accuracy: 0.9541\n"
     ]
    },
    {
     "name": "stderr",
     "output_type": "stream",
     "text": [
      "Loss: 0.0005: 100%|██████████| 589/589 [01:07<00:00,  8.75it/s]\n",
      "Loss: 0.0011: 100%|██████████| 148/148 [00:10<00:00, 14.36it/s]\n"
     ]
    },
    {
     "name": "stdout",
     "output_type": "stream",
     "text": [
      "Epoch [56/100], Train Loss: 0.0122, Train Accuracy: 0.9957 Valid Loss: 0.1383, Valid Accuracy: 0.9660\n"
     ]
    },
    {
     "name": "stderr",
     "output_type": "stream",
     "text": [
      "Loss: 0.0003: 100%|██████████| 589/589 [01:07<00:00,  8.74it/s]\n",
      "Loss: 0.0000: 100%|██████████| 148/148 [00:10<00:00, 14.52it/s]\n"
     ]
    },
    {
     "name": "stdout",
     "output_type": "stream",
     "text": [
      "Epoch [57/100], Train Loss: 0.0049, Train Accuracy: 0.9983 Valid Loss: 0.1391, Valid Accuracy: 0.9645\n"
     ]
    },
    {
     "name": "stderr",
     "output_type": "stream",
     "text": [
      "Loss: 0.0001: 100%|██████████| 589/589 [01:07<00:00,  8.72it/s]\n",
      "Loss: 1.2351: 100%|██████████| 148/148 [00:10<00:00, 14.21it/s]\n"
     ]
    },
    {
     "name": "stdout",
     "output_type": "stream",
     "text": [
      "Epoch [58/100], Train Loss: 0.0025, Train Accuracy: 0.9992 Valid Loss: 0.1470, Valid Accuracy: 0.9633\n"
     ]
    },
    {
     "name": "stderr",
     "output_type": "stream",
     "text": [
      "Loss: 0.0417: 100%|██████████| 589/589 [01:07<00:00,  8.72it/s]\n",
      "Loss: 0.0799: 100%|██████████| 148/148 [00:10<00:00, 14.24it/s]\n"
     ]
    },
    {
     "name": "stdout",
     "output_type": "stream",
     "text": [
      "Epoch [59/100], Train Loss: 0.0097, Train Accuracy: 0.9966 Valid Loss: 0.1358, Valid Accuracy: 0.9667\n"
     ]
    },
    {
     "name": "stderr",
     "output_type": "stream",
     "text": [
      "Loss: 0.0000: 100%|██████████| 589/589 [01:07<00:00,  8.74it/s]\n",
      "Loss: 0.0014: 100%|██████████| 148/148 [00:10<00:00, 14.20it/s]"
     ]
    },
    {
     "name": "stdout",
     "output_type": "stream",
     "text": [
      "Epoch [60/100], Train Loss: 0.0081, Train Accuracy: 0.9978 Valid Loss: 0.1267, Valid Accuracy: 0.9671\n",
      "Early stopping\n"
     ]
    },
    {
     "name": "stderr",
     "output_type": "stream",
     "text": [
      "\n"
     ]
    }
   ],
   "source": [
    "num_epochs = 100\n",
    "patience = 20\n",
    "experiment_name = 'final_resnet50'\n",
    "\n",
    "model, valid_max_accuracy, ret, ret_val = training_loop(model, train_loader, val_loader, loss_fn, optimizer, device, num_epochs, patience, experiment_name)\n",
    "# print(\"resnet34 valid max accuracy: \", valid_max_accuracy)"
   ]
  },
  {
   "cell_type": "code",
   "execution_count": 19,
   "metadata": {},
   "outputs": [
    {
     "data": {
      "text/plain": [
       "{'train_loss': 0.008089438010473024,\n",
       " 'train_acc': 0.9977707006369426,\n",
       " 'train_f1': 0.9977657645522777}"
      ]
     },
     "execution_count": 19,
     "metadata": {},
     "output_type": "execute_result"
    }
   ],
   "source": [
    "ret"
   ]
  },
  {
   "cell_type": "code",
   "execution_count": 20,
   "metadata": {},
   "outputs": [
    {
     "data": {
      "text/plain": [
       "{'valid_loss': 0.12667561614171063,\n",
       " 'valid_acc': 0.9670912951167728,\n",
       " 'valid_f1': 0.9649240713950324}"
      ]
     },
     "execution_count": 20,
     "metadata": {},
     "output_type": "execute_result"
    }
   ],
   "source": [
    "ret_val"
   ]
  },
  {
   "cell_type": "code",
   "execution_count": 16,
   "metadata": {},
   "outputs": [],
   "source": [
    "def submission(model, model_name, test_loader):\n",
    "    preds_list = []\n",
    "    model.load_state_dict(torch.load(f\"./model_{model_name}.pt\")) # 모델 불러오기\n",
    "    model = model.to(device)\n",
    "    model.eval()    \n",
    "    for image, _, _ in tqdm(test_loader):\n",
    "        image = image.to(device)\n",
    "\n",
    "        with torch.no_grad():\n",
    "            preds = model(image)\n",
    "        preds_list.extend(preds.argmax(dim=1).detach().cpu().numpy())\n",
    "    pred_df = pd.DataFrame(tst_dataset.df, columns=['ID', 'target'])\n",
    "    pred_df['target'] = preds_list\n",
    "    sample_submission_df = pd.read_csv(\"data/sample_submission.csv\")\n",
    "    assert (sample_submission_df['ID'] == pred_df['ID']).all()\n",
    "    pred_df.to_csv(f\"pred_{model_name}.csv\", index=False)\n",
    "    print(pred_df.head())\n"
   ]
  },
  {
   "cell_type": "code",
   "execution_count": null,
   "metadata": {},
   "outputs": [],
   "source": [
    "def submission(model, model_name, test_loader):\n",
    "    preds_list = []\n",
    "    model.load_state_dict(torch.load(f\"./model_{model_name}.pt\")) # 모델 불러오기\n",
    "    model = model.to(device)\n",
    "    model.eval()    \n",
    "    for image, _, _ in tqdm(test_loader):\n",
    "        image = image.to(device)\n",
    "\n",
    "        with torch.no_grad():\n",
    "            preds = model(image)\n",
    "        preds_list.extend(preds.argmax(dim=1).detach().cpu().numpy())\n",
    "    pred_df = pd.DataFrame(tst_dataset.df, columns=['ID', 'target'])\n",
    "    pred_df['target'] = preds_list\n",
    "    sample_submission_df = pd.read_csv(\"data/sample_submission.csv\")\n",
    "    assert (sample_submission_df['ID'] == pred_df['ID']).all()\n",
    "    pred_df.to_csv(f\"pred_{model_name}.csv\", index=False)\n",
    "    print(pred_df.head())\n"
   ]
  },
  {
   "cell_type": "code",
   "execution_count": 18,
   "metadata": {},
   "outputs": [
    {
     "name": "stderr",
     "output_type": "stream",
     "text": [
      "100%|██████████| 99/99 [00:14<00:00,  6.83it/s]"
     ]
    },
    {
     "name": "stdout",
     "output_type": "stream",
     "text": [
      "                     ID  target\n",
      "0  0008fdb22ddce0ce.jpg       2\n",
      "1  00091bffdffd83de.jpg      12\n",
      "2  00396fbc1f6cc21d.jpg       5\n",
      "3  00471f8038d9c4b6.jpg      12\n",
      "4  00901f504008d884.jpg       2\n"
     ]
    },
    {
     "name": "stderr",
     "output_type": "stream",
     "text": [
      "\n"
     ]
    }
   ],
   "source": [
    "submission(model, \"final_resnet50\", test_loader)"
   ]
  }
 ],
 "metadata": {
  "kernelspec": {
   "display_name": "base",
   "language": "python",
   "name": "python3"
  },
  "language_info": {
   "codemirror_mode": {
    "name": "ipython",
    "version": 3
   },
   "file_extension": ".py",
   "mimetype": "text/x-python",
   "name": "python",
   "nbconvert_exporter": "python",
   "pygments_lexer": "ipython3",
   "version": "3.10.13"
  }
 },
 "nbformat": 4,
 "nbformat_minor": 2
}
