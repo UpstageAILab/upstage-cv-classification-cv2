{
 "cells": [
  {
   "cell_type": "markdown",
   "metadata": {},
   "source": [
    "## 1. 라이브러리 불러오기"
   ]
  },
  {
   "cell_type": "code",
   "execution_count": 1,
   "metadata": {},
   "outputs": [],
   "source": [
    "import sys\n",
    "import glob\n",
    "import cv2\n",
    "import numpy as np\n",
    "\n",
    "from tqdm import tqdm\n",
    "\n",
    "import torch\n",
    "import torch.nn as nn\n",
    "import torch.nn.functional as F\n",
    "from torch.utils.data import Dataset, DataLoader, Subset\n",
    "from torchvision import transforms, utils, datasets, models\n",
    "from torch.nn.modules.loss import BCEWithLogitsLoss\n",
    "from torch.optim import lr_scheduler\n",
    "\n",
    "from torch.autograd import Variable\n",
    "\n",
    "from matplotlib import pyplot as plt\n",
    "from time import time\n",
    "\n",
    "import os\n",
    "import time\n",
    "import random\n",
    "\n",
    "import timm\n",
    "import torch\n",
    "import albumentations as A\n",
    "import pandas as pd\n",
    "import numpy as np\n",
    "import torch.nn as nn\n",
    "from albumentations.pytorch import ToTensorV2\n",
    "from torch.optim import Adam\n",
    "from torchvision import transforms\n",
    "from torch.utils.data import Dataset, DataLoader\n",
    "from PIL import Image\n",
    "from tqdm import tqdm\n",
    "from sklearn.metrics import accuracy_score, f1_score\n",
    "from sklearn.model_selection import KFold\n",
    "\n",
    "# import wandb\n",
    "\n",
    "# from augraphy import *"
   ]
  },
  {
   "cell_type": "code",
   "execution_count": 2,
   "metadata": {},
   "outputs": [],
   "source": [
    "# 시드를 고정합니다.\n",
    "SEED = 42\n",
    "os.environ['PYTHONHASHSEED'] = str(SEED)\n",
    "random.seed(SEED)\n",
    "np.random.seed(SEED)\n",
    "torch.manual_seed(SEED)\n",
    "torch.cuda.manual_seed(SEED)\n",
    "torch.cuda.manual_seed_all(SEED)\n",
    "torch.backends.cudnn.benchmark = True"
   ]
  },
  {
   "cell_type": "markdown",
   "metadata": {},
   "source": [
    "## 2. Custom Dataset"
   ]
  },
  {
   "cell_type": "code",
   "execution_count": 3,
   "metadata": {},
   "outputs": [],
   "source": [
    "class ImageDataset(Dataset):\n",
    "    def __init__(self, csv, path, album_transform=None, augraphy_transform=None):\n",
    "        self.df = pd.read_csv(csv).values\n",
    "        self.path = path \n",
    "        self.album_transform = album_transform\n",
    "        self.augraphy_transform = augraphy_transform\n",
    "\n",
    "    def __len__(self):\n",
    "        return len(self.df)\n",
    "    \n",
    "    def __getitem__(self, idx):\n",
    "        name, target = self.df[idx]\n",
    "        img = np.array(Image.open(os.path.join(self.path, name)))                  \n",
    "\n",
    "        \n",
    "        if self.augraphy_transform:\n",
    "            img = self.augraphy_transform(img)\n",
    "\n",
    "        if self.album_transform:\n",
    "            img = self.album_transform(image=img)['image']\n",
    "        \n",
    "        return img, target"
   ]
  },
  {
   "cell_type": "markdown",
   "metadata": {},
   "source": [
    "## 3. Training Pipeline"
   ]
  },
  {
   "cell_type": "code",
   "execution_count": 4,
   "metadata": {},
   "outputs": [],
   "source": [
    "def training(model, dataloader, device, criterion, optimizer, epoch, num_epochs):\n",
    "    model.train()\n",
    "    train_loss = 0.0\n",
    "    preds_list = []\n",
    "    targets_list = []\n",
    "\n",
    "    tbar = tqdm(dataloader)\n",
    "    for images, labels in tbar:\n",
    "        images = images.type(torch.cuda.FloatTensor)\n",
    "        images, labels = images.to(device), labels.to(device)\n",
    "\n",
    "        outputs = model(images)\n",
    "        loss = criterion(outputs, labels)\n",
    "\n",
    "        optimizer.zero_grad()\n",
    "        loss.backward()\n",
    "        optimizer.step()\n",
    "\n",
    "        train_loss += loss.item()\n",
    "        preds_list.extend(outputs.argmax(dim=1).detach().cpu().numpy())\n",
    "        targets_list.extend(labels.detach().cpu().numpy())\n",
    "\n",
    "        tbar.set_description(f\"Epoch [{epoch+1}/{num_epochs}], Train Loss : {loss.item():.4f}\")\n",
    "\n",
    "    train_loss = train_loss / (len(dataloader))\n",
    "    train_acc = accuracy_score(preds_list, targets_list)\n",
    "    train_f1 = f1_score(preds_list, targets_list, average='macro')\n",
    "\n",
    "    metrics = {\n",
    "        'train_loss' : train_loss,\n",
    "        'train_acc' : train_acc,\n",
    "        'train_f1' : train_f1\n",
    "    }\n",
    "\n",
    "    return model, metrics\n",
    "\n",
    "def evaluation(model, dataloader, device, criterion, epoch, num_epochs):\n",
    "    model.eval()\n",
    "    valid_loss = 0.0\n",
    "    preds_list = []\n",
    "    targets_list = []\n",
    "\n",
    "    with torch.no_grad():\n",
    "        tbar = tqdm(dataloader)\n",
    "        for images, labels in tbar:\n",
    "            images = images.type(torch.cuda.FloatTensor)\n",
    "            images, labels = images.to(device), labels.to(device)\n",
    "            outputs = model(images)\n",
    "            loss = criterion(outputs, labels)\n",
    "\n",
    "            valid_loss += loss.item()\n",
    "            preds_list.extend(outputs.argmax(dim=1).detach().cpu().numpy())\n",
    "            targets_list.extend(labels.detach().cpu().numpy())\n",
    "\n",
    "            tbar.set_description(f\"Epcoh [{epoch+1}/{num_epochs}] Valid Loss : {valid_loss:.4f}\")\n",
    "\n",
    "    valid_loss /= len(dataloader)\n",
    "    valid_acc = accuracy_score(preds_list, targets_list)\n",
    "    valid_f1 = f1_score(preds_list, targets_list, average='macro')\n",
    "\n",
    "    metrics = {\n",
    "        'valid_loss' : valid_loss,\n",
    "        'valid_acc' : valid_acc,\n",
    "        'valid_f1' : valid_f1\n",
    "    }\n",
    "\n",
    "    return model, metrics\n",
    "\n",
    "def training_loop(model, train_dataloader, valid_dataloader, criterion, optimizer, device, num_epochs, model_path, model_name, patience):\n",
    "\n",
    "    best_valid_loss = float('inf')\n",
    "    valid_max_accuracy = -1\n",
    "    valid_max_f1 = -1\n",
    "    early_stop_counter = 0\n",
    "\n",
    "    for epoch in range(num_epochs):\n",
    "        model, train_metrics = training(model, train_dataloader, device, criterion, optimizer, epoch, num_epochs)\n",
    "        model, valid_metrics = evaluation(model, valid_dataloader, device, criterion, epoch, num_epochs)\n",
    "\n",
    "        monitoring_value = {\n",
    "            'train_loss' : train_metrics['train_loss'],\n",
    "            'train_accuracy' : train_metrics['train_acc'],\n",
    "            'train_f1' : train_metrics['train_f1'],\n",
    "            'valid_loss' : valid_metrics['valid_loss'],\n",
    "            'valid_accuracy' : valid_metrics['valid_acc'],\n",
    "            'valid_f1' : valid_metrics['valid_f1']\n",
    "        }\n",
    "\n",
    "        if valid_max_accuracy < valid_metrics['valid_acc']:\n",
    "            valid_max_accuracy = valid_metrics['valid_acc']\n",
    "        \n",
    "        if valid_max_f1 < valid_metrics['valid_f1']:\n",
    "            valid_max_f1 = valid_metrics['valid_f1']\n",
    "            torch.save(model.state_dict(), model_path+f\"/model_{model_name}.pt\")\n",
    "\n",
    "        if best_valid_loss > valid_metrics['valid_loss']:\n",
    "            best_valid_loss = valid_metrics['valid_loss']\n",
    "            early_stop_counter = 0\n",
    "\n",
    "        else:\n",
    "            early_stop_counter += 1\n",
    "            \n",
    "        print(f\"Epoch [{epoch+1}/{num_epochs}], Train Loss : {train_metrics['train_loss']:.4f}, Train Acc : {train_metrics['train_acc']:.4f}, 'Train F1 : {train_metrics['train_f1']:.4f}, Valid Loss : {valid_metrics['valid_loss']:.4f}, Valid Acc : {valid_metrics['valid_acc']:.4f}, Valid F1 : {valid_metrics['valid_f1']}\")\n",
    "\n",
    "        if early_stop_counter >= patience:\n",
    "            print('Early Stopping!')        \n",
    "            break\n",
    "\n",
    "    return model, valid_max_accuracy, valid_max_f1\n"
   ]
  },
  {
   "cell_type": "markdown",
   "metadata": {},
   "source": [
    "## 4. Data Load"
   ]
  },
  {
   "cell_type": "code",
   "execution_count": 5,
   "metadata": {},
   "outputs": [],
   "source": [
    "img_csv_path = '/data/ephemeral/home/data/aug_dataset/merged_df.csv'\n",
    "df_img = pd.read_csv(img_csv_path)\n"
   ]
  },
  {
   "cell_type": "code",
   "execution_count": 6,
   "metadata": {},
   "outputs": [
    {
     "data": {
      "text/plain": [
       "target2\n",
       "13    3256\n",
       "7     3178\n",
       "10    3162\n",
       "2     3100\n",
       "16    3100\n",
       "6     3100\n",
       "0     3100\n",
       "12    3100\n",
       "15    3100\n",
       "5     3100\n",
       "8     3100\n",
       "4     3100\n",
       "9     3100\n",
       "14    3084\n",
       "11    3038\n",
       "3     3038\n",
       "1     2852\n",
       "Name: count, dtype: int64"
      ]
     },
     "execution_count": 6,
     "metadata": {},
     "output_type": "execute_result"
    }
   ],
   "source": [
    "df_img['target2'].value_counts()"
   ]
  },
  {
   "cell_type": "code",
   "execution_count": 7,
   "metadata": {},
   "outputs": [
    {
     "name": "stdout",
     "output_type": "stream",
     "text": [
      "52608 3140\n"
     ]
    }
   ],
   "source": [
    "img_csv_path = '/data/ephemeral/home/data/aug_dataset/merged_df.csv'\n",
    "img_path = '/data/ephemeral/home/data/aug_dataset/aug_2'\n",
    "\n",
    "submission_path = '/data/ephemeral/home/data/sample_submission.csv'\n",
    "test_img_path = '/data/ephemeral/home/data/test'\n",
    "\n",
    "totensor_transform = A.Compose([A.Resize(380, 380), ToTensorV2()])\n",
    "test_transform = A.Compose([\n",
    "    A.Resize(380, 380),\n",
    "    ToTensorV2()\n",
    "])\n",
    "\n",
    "train_dataset = ImageDataset(img_csv_path, img_path, album_transform=totensor_transform, augraphy_transform=None)\n",
    "test_dataset = ImageDataset(submission_path, test_img_path, album_transform=test_transform, augraphy_transform=None)\n",
    "\n",
    "print(len(train_dataset), len(test_dataset))"
   ]
  },
  {
   "cell_type": "code",
   "execution_count": 8,
   "metadata": {},
   "outputs": [],
   "source": [
    "# train_dataloader = DataLoader(train_dataset, batch_size=32, shuffle=True)\n",
    "# valid_dataloader = DataLoader(valid_dataset, batch_size=32, shuffle=False)\n",
    "test_dataloader = DataLoader(test_dataset, batch_size=32, shuffle=False)"
   ]
  },
  {
   "cell_type": "markdown",
   "metadata": {},
   "source": [
    "## 5. Train Model"
   ]
  },
  {
   "cell_type": "markdown",
   "metadata": {},
   "source": [
    "### Hyper Parameter 정의"
   ]
  },
  {
   "cell_type": "code",
   "execution_count": 9,
   "metadata": {},
   "outputs": [],
   "source": [
    "from sklearn.model_selection import KFold"
   ]
  },
  {
   "cell_type": "code",
   "execution_count": 10,
   "metadata": {},
   "outputs": [
    {
     "name": "stderr",
     "output_type": "stream",
     "text": [
      "Epoch [1/100], Train Loss : 0.2358: 100%|██████████| 1316/1316 [08:37<00:00,  2.55it/s]\n",
      "Epcoh [1/100] Valid Loss : 57.2482: 100%|██████████| 329/329 [01:11<00:00,  4.60it/s]\n"
     ]
    },
    {
     "name": "stdout",
     "output_type": "stream",
     "text": [
      "Epoch [1/100], Train Loss : 0.3061, Train Acc : 0.8972, 'Train F1 : 0.8972, Valid Loss : 0.1740, Valid Acc : 0.9378, Valid F1 : 0.9323137264055719\n"
     ]
    },
    {
     "name": "stderr",
     "output_type": "stream",
     "text": [
      "Epoch [2/100], Train Loss : 1.0602: 100%|██████████| 1316/1316 [08:34<00:00,  2.56it/s]\n",
      "Epcoh [2/100] Valid Loss : 48.0102: 100%|██████████| 329/329 [01:10<00:00,  4.63it/s]\n"
     ]
    },
    {
     "name": "stdout",
     "output_type": "stream",
     "text": [
      "Epoch [2/100], Train Loss : 0.0957, Train Acc : 0.9691, 'Train F1 : 0.9692, Valid Loss : 0.1459, Valid Acc : 0.9541, Valid F1 : 0.948976421628564\n"
     ]
    },
    {
     "name": "stderr",
     "output_type": "stream",
     "text": [
      "Epoch [3/100], Train Loss : 0.2193: 100%|██████████| 1316/1316 [08:32<00:00,  2.57it/s]\n",
      "Epcoh [3/100] Valid Loss : 44.8089: 100%|██████████| 329/329 [01:10<00:00,  4.67it/s]\n"
     ]
    },
    {
     "name": "stdout",
     "output_type": "stream",
     "text": [
      "Epoch [3/100], Train Loss : 0.0691, Train Acc : 0.9787, 'Train F1 : 0.9788, Valid Loss : 0.1362, Valid Acc : 0.9578, Valid F1 : 0.9531710681143178\n"
     ]
    },
    {
     "name": "stderr",
     "output_type": "stream",
     "text": [
      "Epoch [4/100], Train Loss : 2.1792: 100%|██████████| 1316/1316 [08:33<00:00,  2.56it/s]\n",
      "Epcoh [4/100] Valid Loss : 60.4676: 100%|██████████| 329/329 [01:10<00:00,  4.64it/s]\n"
     ]
    },
    {
     "name": "stdout",
     "output_type": "stream",
     "text": [
      "Epoch [4/100], Train Loss : 0.0509, Train Acc : 0.9850, 'Train F1 : 0.9850, Valid Loss : 0.1838, Valid Acc : 0.9465, Valid F1 : 0.9409789530012883\n"
     ]
    },
    {
     "name": "stderr",
     "output_type": "stream",
     "text": [
      "Epoch [5/100], Train Loss : 0.1865: 100%|██████████| 1316/1316 [08:33<00:00,  2.56it/s]\n",
      "Epcoh [5/100] Valid Loss : 24.4683: 100%|██████████| 329/329 [01:11<00:00,  4.62it/s]\n"
     ]
    },
    {
     "name": "stdout",
     "output_type": "stream",
     "text": [
      "Epoch [5/100], Train Loss : 0.0445, Train Acc : 0.9862, 'Train F1 : 0.9862, Valid Loss : 0.0744, Valid Acc : 0.9773, Valid F1 : 0.9735170650247114\n"
     ]
    },
    {
     "name": "stderr",
     "output_type": "stream",
     "text": [
      "Epoch [6/100], Train Loss : 1.6311: 100%|██████████| 1316/1316 [08:33<00:00,  2.56it/s]\n",
      "Epcoh [6/100] Valid Loss : 25.9139: 100%|██████████| 329/329 [01:10<00:00,  4.65it/s]\n"
     ]
    },
    {
     "name": "stdout",
     "output_type": "stream",
     "text": [
      "Epoch [6/100], Train Loss : 0.0359, Train Acc : 0.9892, 'Train F1 : 0.9892, Valid Loss : 0.0788, Valid Acc : 0.9770, Valid F1 : 0.973294795356436\n"
     ]
    },
    {
     "name": "stderr",
     "output_type": "stream",
     "text": [
      "Epoch [7/100], Train Loss : 0.3301: 100%|██████████| 1316/1316 [08:33<00:00,  2.56it/s]\n",
      "Epcoh [7/100] Valid Loss : 16.7322: 100%|██████████| 329/329 [01:10<00:00,  4.64it/s]\n"
     ]
    },
    {
     "name": "stdout",
     "output_type": "stream",
     "text": [
      "Epoch [7/100], Train Loss : 0.0357, Train Acc : 0.9894, 'Train F1 : 0.9894, Valid Loss : 0.0509, Valid Acc : 0.9842, Valid F1 : 0.9827888865395278\n"
     ]
    },
    {
     "name": "stderr",
     "output_type": "stream",
     "text": [
      "Epoch [8/100], Train Loss : 0.1362: 100%|██████████| 1316/1316 [08:35<00:00,  2.55it/s]\n",
      "Epcoh [8/100] Valid Loss : 38.7066: 100%|██████████| 329/329 [01:11<00:00,  4.58it/s]\n"
     ]
    },
    {
     "name": "stdout",
     "output_type": "stream",
     "text": [
      "Epoch [8/100], Train Loss : 0.0281, Train Acc : 0.9919, 'Train F1 : 0.9919, Valid Loss : 0.1176, Valid Acc : 0.9696, Valid F1 : 0.9655761780484958\n"
     ]
    },
    {
     "name": "stderr",
     "output_type": "stream",
     "text": [
      "Epoch [9/100], Train Loss : 0.0002: 100%|██████████| 1316/1316 [08:35<00:00,  2.55it/s]\n",
      "Epcoh [9/100] Valid Loss : 43.4322: 100%|██████████| 329/329 [01:11<00:00,  4.60it/s]\n"
     ]
    },
    {
     "name": "stdout",
     "output_type": "stream",
     "text": [
      "Epoch [9/100], Train Loss : 0.0270, Train Acc : 0.9924, 'Train F1 : 0.9924, Valid Loss : 0.1320, Valid Acc : 0.9664, Valid F1 : 0.9620540641826272\n"
     ]
    },
    {
     "name": "stderr",
     "output_type": "stream",
     "text": [
      "Epoch [10/100], Train Loss : 0.4527: 100%|██████████| 1316/1316 [08:35<00:00,  2.55it/s]\n",
      "Epcoh [10/100] Valid Loss : 29.8979: 100%|██████████| 329/329 [01:11<00:00,  4.60it/s]\n"
     ]
    },
    {
     "name": "stdout",
     "output_type": "stream",
     "text": [
      "Epoch [10/100], Train Loss : 0.0249, Train Acc : 0.9926, 'Train F1 : 0.9926, Valid Loss : 0.0909, Valid Acc : 0.9732, Valid F1 : 0.9711552468484413\n"
     ]
    },
    {
     "name": "stderr",
     "output_type": "stream",
     "text": [
      "Epoch [11/100], Train Loss : 0.0137: 100%|██████████| 1316/1316 [08:36<00:00,  2.55it/s]\n",
      "Epcoh [11/100] Valid Loss : 44.5493: 100%|██████████| 329/329 [01:11<00:00,  4.58it/s]\n"
     ]
    },
    {
     "name": "stdout",
     "output_type": "stream",
     "text": [
      "Epoch [11/100], Train Loss : 0.0239, Train Acc : 0.9932, 'Train F1 : 0.9932, Valid Loss : 0.1354, Valid Acc : 0.9651, Valid F1 : 0.9609974478494235\n"
     ]
    },
    {
     "name": "stderr",
     "output_type": "stream",
     "text": [
      "Epoch [12/100], Train Loss : 0.4873: 100%|██████████| 1316/1316 [08:35<00:00,  2.55it/s]\n",
      "Epcoh [12/100] Valid Loss : 72.6924: 100%|██████████| 329/329 [01:11<00:00,  4.61it/s]\n"
     ]
    },
    {
     "name": "stdout",
     "output_type": "stream",
     "text": [
      "Epoch [12/100], Train Loss : 0.0214, Train Acc : 0.9937, 'Train F1 : 0.9937, Valid Loss : 0.2209, Valid Acc : 0.9525, Valid F1 : 0.9481607451783373\n"
     ]
    },
    {
     "name": "stderr",
     "output_type": "stream",
     "text": [
      "Epoch [13/100], Train Loss : 0.0276: 100%|██████████| 1316/1316 [08:35<00:00,  2.55it/s]\n",
      "Epcoh [13/100] Valid Loss : 35.8954: 100%|██████████| 329/329 [01:11<00:00,  4.58it/s]\n"
     ]
    },
    {
     "name": "stdout",
     "output_type": "stream",
     "text": [
      "Epoch [13/100], Train Loss : 0.0188, Train Acc : 0.9941, 'Train F1 : 0.9941, Valid Loss : 0.1091, Valid Acc : 0.9738, Valid F1 : 0.970635618769682\n"
     ]
    },
    {
     "name": "stderr",
     "output_type": "stream",
     "text": [
      "Epoch [14/100], Train Loss : 0.0001: 100%|██████████| 1316/1316 [08:35<00:00,  2.55it/s]\n",
      "Epcoh [14/100] Valid Loss : 38.6713: 100%|██████████| 329/329 [01:11<00:00,  4.62it/s]\n"
     ]
    },
    {
     "name": "stdout",
     "output_type": "stream",
     "text": [
      "Epoch [14/100], Train Loss : 0.0142, Train Acc : 0.9954, 'Train F1 : 0.9954, Valid Loss : 0.1175, Valid Acc : 0.9720, Valid F1 : 0.9679037512457239\n"
     ]
    },
    {
     "name": "stderr",
     "output_type": "stream",
     "text": [
      "Epoch [15/100], Train Loss : 1.3651: 100%|██████████| 1316/1316 [08:35<00:00,  2.55it/s]\n",
      "Epcoh [15/100] Valid Loss : 13.4550: 100%|██████████| 329/329 [01:12<00:00,  4.55it/s]\n"
     ]
    },
    {
     "name": "stdout",
     "output_type": "stream",
     "text": [
      "Epoch [15/100], Train Loss : 0.0202, Train Acc : 0.9945, 'Train F1 : 0.9945, Valid Loss : 0.0409, Valid Acc : 0.9886, Valid F1 : 0.9873757657584704\n"
     ]
    },
    {
     "name": "stderr",
     "output_type": "stream",
     "text": [
      "Epoch [16/100], Train Loss : 0.4568: 100%|██████████| 1316/1316 [08:35<00:00,  2.55it/s]\n",
      "Epcoh [16/100] Valid Loss : 18.1822: 100%|██████████| 329/329 [01:10<00:00,  4.63it/s]\n"
     ]
    },
    {
     "name": "stdout",
     "output_type": "stream",
     "text": [
      "Epoch [16/100], Train Loss : 0.0175, Train Acc : 0.9948, 'Train F1 : 0.9949, Valid Loss : 0.0553, Valid Acc : 0.9843, Valid F1 : 0.9822911976452928\n"
     ]
    },
    {
     "name": "stderr",
     "output_type": "stream",
     "text": [
      "Epoch [17/100], Train Loss : 0.0000: 100%|██████████| 1316/1316 [08:34<00:00,  2.56it/s]\n",
      "Epcoh [17/100] Valid Loss : 18.2408: 100%|██████████| 329/329 [01:11<00:00,  4.58it/s]\n"
     ]
    },
    {
     "name": "stdout",
     "output_type": "stream",
     "text": [
      "Epoch [17/100], Train Loss : 0.0185, Train Acc : 0.9948, 'Train F1 : 0.9948, Valid Loss : 0.0554, Valid Acc : 0.9845, Valid F1 : 0.9821182423295044\n"
     ]
    },
    {
     "name": "stderr",
     "output_type": "stream",
     "text": [
      "Epoch [18/100], Train Loss : 0.0039: 100%|██████████| 1316/1316 [08:35<00:00,  2.55it/s]\n",
      "Epcoh [18/100] Valid Loss : 18.4363: 100%|██████████| 329/329 [01:10<00:00,  4.64it/s]\n"
     ]
    },
    {
     "name": "stdout",
     "output_type": "stream",
     "text": [
      "Epoch [18/100], Train Loss : 0.0142, Train Acc : 0.9959, 'Train F1 : 0.9959, Valid Loss : 0.0560, Valid Acc : 0.9831, Valid F1 : 0.9804958694014447\n"
     ]
    },
    {
     "name": "stderr",
     "output_type": "stream",
     "text": [
      "Epoch [19/100], Train Loss : 0.2652: 100%|██████████| 1316/1316 [08:35<00:00,  2.55it/s]\n",
      "Epcoh [19/100] Valid Loss : 106.1910: 100%|██████████| 329/329 [01:11<00:00,  4.62it/s]\n"
     ]
    },
    {
     "name": "stdout",
     "output_type": "stream",
     "text": [
      "Epoch [19/100], Train Loss : 0.0158, Train Acc : 0.9957, 'Train F1 : 0.9957, Valid Loss : 0.3228, Valid Acc : 0.9347, Valid F1 : 0.9282841456762319\n"
     ]
    },
    {
     "name": "stderr",
     "output_type": "stream",
     "text": [
      "Epoch [20/100], Train Loss : 0.0132: 100%|██████████| 1316/1316 [08:35<00:00,  2.55it/s]\n",
      "Epcoh [20/100] Valid Loss : 66.5579: 100%|██████████| 329/329 [01:11<00:00,  4.61it/s]\n"
     ]
    },
    {
     "name": "stdout",
     "output_type": "stream",
     "text": [
      "Epoch [20/100], Train Loss : 0.0136, Train Acc : 0.9958, 'Train F1 : 0.9959, Valid Loss : 0.2023, Valid Acc : 0.9627, Valid F1 : 0.9583639446074139\n"
     ]
    },
    {
     "name": "stderr",
     "output_type": "stream",
     "text": [
      "Epoch [21/100], Train Loss : 0.0027: 100%|██████████| 1316/1316 [08:34<00:00,  2.56it/s]\n",
      "Epcoh [21/100] Valid Loss : 8.0677: 100%|██████████| 329/329 [01:10<00:00,  4.65it/s]\n"
     ]
    },
    {
     "name": "stdout",
     "output_type": "stream",
     "text": [
      "Epoch [21/100], Train Loss : 0.0106, Train Acc : 0.9971, 'Train F1 : 0.9971, Valid Loss : 0.0245, Valid Acc : 0.9921, Valid F1 : 0.9910584706006297\n"
     ]
    },
    {
     "name": "stderr",
     "output_type": "stream",
     "text": [
      "Epoch [22/100], Train Loss : 0.3934: 100%|██████████| 1316/1316 [08:35<00:00,  2.55it/s]\n",
      "Epcoh [22/100] Valid Loss : 22.0834: 100%|██████████| 329/329 [01:11<00:00,  4.62it/s]\n"
     ]
    },
    {
     "name": "stdout",
     "output_type": "stream",
     "text": [
      "Epoch [22/100], Train Loss : 0.0161, Train Acc : 0.9958, 'Train F1 : 0.9958, Valid Loss : 0.0671, Valid Acc : 0.9811, Valid F1 : 0.9775003556220457\n"
     ]
    },
    {
     "name": "stderr",
     "output_type": "stream",
     "text": [
      "Epoch [23/100], Train Loss : 0.0001: 100%|██████████| 1316/1316 [08:35<00:00,  2.55it/s]\n",
      "Epcoh [23/100] Valid Loss : 83.2172: 100%|██████████| 329/329 [01:10<00:00,  4.64it/s]\n"
     ]
    },
    {
     "name": "stdout",
     "output_type": "stream",
     "text": [
      "Epoch [23/100], Train Loss : 0.0105, Train Acc : 0.9969, 'Train F1 : 0.9969, Valid Loss : 0.2529, Valid Acc : 0.9449, Valid F1 : 0.9395338915748395\n"
     ]
    },
    {
     "name": "stderr",
     "output_type": "stream",
     "text": [
      "Epoch [24/100], Train Loss : 0.0000: 100%|██████████| 1316/1316 [08:35<00:00,  2.55it/s]\n",
      "Epcoh [24/100] Valid Loss : 49.6302: 100%|██████████| 329/329 [01:11<00:00,  4.60it/s]\n"
     ]
    },
    {
     "name": "stdout",
     "output_type": "stream",
     "text": [
      "Epoch [24/100], Train Loss : 0.0127, Train Acc : 0.9967, 'Train F1 : 0.9968, Valid Loss : 0.1509, Valid Acc : 0.9626, Valid F1 : 0.9575071106847685\n"
     ]
    },
    {
     "name": "stderr",
     "output_type": "stream",
     "text": [
      "Epoch [25/100], Train Loss : 0.0001: 100%|██████████| 1316/1316 [08:36<00:00,  2.55it/s]\n",
      "Epcoh [25/100] Valid Loss : 52.3850: 100%|██████████| 329/329 [01:11<00:00,  4.61it/s]\n"
     ]
    },
    {
     "name": "stdout",
     "output_type": "stream",
     "text": [
      "Epoch [25/100], Train Loss : 0.0106, Train Acc : 0.9970, 'Train F1 : 0.9970, Valid Loss : 0.1592, Valid Acc : 0.9691, Valid F1 : 0.9649938508186395\n"
     ]
    },
    {
     "name": "stderr",
     "output_type": "stream",
     "text": [
      "Epoch [26/100], Train Loss : 0.0004: 100%|██████████| 1316/1316 [08:36<00:00,  2.55it/s]\n",
      "Epcoh [26/100] Valid Loss : 48.0405: 100%|██████████| 329/329 [01:10<00:00,  4.64it/s]\n"
     ]
    },
    {
     "name": "stdout",
     "output_type": "stream",
     "text": [
      "Epoch [26/100], Train Loss : 0.0104, Train Acc : 0.9969, 'Train F1 : 0.9969, Valid Loss : 0.1460, Valid Acc : 0.9665, Valid F1 : 0.9623505380650217\n"
     ]
    },
    {
     "name": "stderr",
     "output_type": "stream",
     "text": [
      "Epoch [27/100], Train Loss : 0.0000: 100%|██████████| 1316/1316 [08:35<00:00,  2.55it/s]\n",
      "Epcoh [27/100] Valid Loss : 11.4414: 100%|██████████| 329/329 [01:10<00:00,  4.63it/s]\n"
     ]
    },
    {
     "name": "stdout",
     "output_type": "stream",
     "text": [
      "Epoch [27/100], Train Loss : 0.0105, Train Acc : 0.9969, 'Train F1 : 0.9969, Valid Loss : 0.0348, Valid Acc : 0.9895, Valid F1 : 0.9882167243895339\n"
     ]
    },
    {
     "name": "stderr",
     "output_type": "stream",
     "text": [
      "Epoch [28/100], Train Loss : 2.3308: 100%|██████████| 1316/1316 [08:36<00:00,  2.55it/s]\n",
      "Epcoh [28/100] Valid Loss : 9.9325: 100%|██████████| 329/329 [01:10<00:00,  4.64it/s]\n"
     ]
    },
    {
     "name": "stdout",
     "output_type": "stream",
     "text": [
      "Epoch [28/100], Train Loss : 0.0131, Train Acc : 0.9966, 'Train F1 : 0.9966, Valid Loss : 0.0302, Valid Acc : 0.9907, Valid F1 : 0.9895924702122255\n"
     ]
    },
    {
     "name": "stderr",
     "output_type": "stream",
     "text": [
      "Epoch [29/100], Train Loss : 0.3759: 100%|██████████| 1316/1316 [08:35<00:00,  2.55it/s]\n",
      "Epcoh [29/100] Valid Loss : 9.1554: 100%|██████████| 329/329 [01:11<00:00,  4.61it/s]\n"
     ]
    },
    {
     "name": "stdout",
     "output_type": "stream",
     "text": [
      "Epoch [29/100], Train Loss : 0.0110, Train Acc : 0.9969, 'Train F1 : 0.9969, Valid Loss : 0.0278, Valid Acc : 0.9932, Valid F1 : 0.9919018073251815\n"
     ]
    },
    {
     "name": "stderr",
     "output_type": "stream",
     "text": [
      "Epoch [30/100], Train Loss : 0.0000: 100%|██████████| 1316/1316 [08:35<00:00,  2.55it/s]\n",
      "Epcoh [30/100] Valid Loss : 22.0075: 100%|██████████| 329/329 [01:10<00:00,  4.64it/s]\n"
     ]
    },
    {
     "name": "stdout",
     "output_type": "stream",
     "text": [
      "Epoch [30/100], Train Loss : 0.0093, Train Acc : 0.9973, 'Train F1 : 0.9973, Valid Loss : 0.0669, Valid Acc : 0.9799, Valid F1 : 0.9770766877125292\n"
     ]
    },
    {
     "name": "stderr",
     "output_type": "stream",
     "text": [
      "Epoch [31/100], Train Loss : 0.0071: 100%|██████████| 1316/1316 [08:35<00:00,  2.55it/s]\n",
      "Epcoh [31/100] Valid Loss : 7.8513: 100%|██████████| 329/329 [01:11<00:00,  4.62it/s]\n"
     ]
    },
    {
     "name": "stdout",
     "output_type": "stream",
     "text": [
      "Epoch [31/100], Train Loss : 0.0093, Train Acc : 0.9974, 'Train F1 : 0.9974, Valid Loss : 0.0239, Valid Acc : 0.9939, Valid F1 : 0.9931437833862812\n"
     ]
    },
    {
     "name": "stderr",
     "output_type": "stream",
     "text": [
      "Epoch [32/100], Train Loss : 0.0005: 100%|██████████| 1316/1316 [08:35<00:00,  2.55it/s]\n",
      "Epcoh [32/100] Valid Loss : 15.2310: 100%|██████████| 329/329 [01:11<00:00,  4.60it/s]\n"
     ]
    },
    {
     "name": "stdout",
     "output_type": "stream",
     "text": [
      "Epoch [32/100], Train Loss : 0.0098, Train Acc : 0.9972, 'Train F1 : 0.9972, Valid Loss : 0.0463, Valid Acc : 0.9863, Valid F1 : 0.983897018739053\n"
     ]
    },
    {
     "name": "stderr",
     "output_type": "stream",
     "text": [
      "Epoch [33/100], Train Loss : 0.3038: 100%|██████████| 1316/1316 [08:36<00:00,  2.55it/s]\n",
      "Epcoh [33/100] Valid Loss : 28.2547: 100%|██████████| 329/329 [01:11<00:00,  4.59it/s]\n"
     ]
    },
    {
     "name": "stdout",
     "output_type": "stream",
     "text": [
      "Epoch [33/100], Train Loss : 0.0105, Train Acc : 0.9971, 'Train F1 : 0.9971, Valid Loss : 0.0859, Valid Acc : 0.9795, Valid F1 : 0.9757874837737612\n"
     ]
    },
    {
     "name": "stderr",
     "output_type": "stream",
     "text": [
      "Epoch [34/100], Train Loss : 0.1261: 100%|██████████| 1316/1316 [08:35<00:00,  2.55it/s]\n",
      "Epcoh [34/100] Valid Loss : 8.9293: 100%|██████████| 329/329 [01:11<00:00,  4.61it/s]\n"
     ]
    },
    {
     "name": "stdout",
     "output_type": "stream",
     "text": [
      "Epoch [34/100], Train Loss : 0.0097, Train Acc : 0.9972, 'Train F1 : 0.9972, Valid Loss : 0.0271, Valid Acc : 0.9932, Valid F1 : 0.9916743455099978\n"
     ]
    },
    {
     "name": "stderr",
     "output_type": "stream",
     "text": [
      "Epoch [35/100], Train Loss : 0.0000: 100%|██████████| 1316/1316 [08:35<00:00,  2.55it/s]\n",
      "Epcoh [35/100] Valid Loss : 5.8265: 100%|██████████| 329/329 [01:11<00:00,  4.62it/s]\n"
     ]
    },
    {
     "name": "stdout",
     "output_type": "stream",
     "text": [
      "Epoch [35/100], Train Loss : 0.0085, Train Acc : 0.9976, 'Train F1 : 0.9976, Valid Loss : 0.0177, Valid Acc : 0.9954, Valid F1 : 0.9949303758424148\n"
     ]
    },
    {
     "name": "stderr",
     "output_type": "stream",
     "text": [
      "Epoch [36/100], Train Loss : 0.0000: 100%|██████████| 1316/1316 [08:36<00:00,  2.55it/s]\n",
      "Epcoh [36/100] Valid Loss : 18.7210: 100%|██████████| 329/329 [01:11<00:00,  4.59it/s]\n"
     ]
    },
    {
     "name": "stdout",
     "output_type": "stream",
     "text": [
      "Epoch [36/100], Train Loss : 0.0097, Train Acc : 0.9970, 'Train F1 : 0.9970, Valid Loss : 0.0569, Valid Acc : 0.9853, Valid F1 : 0.9827597066427378\n"
     ]
    },
    {
     "name": "stderr",
     "output_type": "stream",
     "text": [
      "Epoch [37/100], Train Loss : 0.0025: 100%|██████████| 1316/1316 [08:36<00:00,  2.55it/s]\n",
      "Epcoh [37/100] Valid Loss : 104.7524: 100%|██████████| 329/329 [01:11<00:00,  4.61it/s]\n"
     ]
    },
    {
     "name": "stdout",
     "output_type": "stream",
     "text": [
      "Epoch [37/100], Train Loss : 0.0057, Train Acc : 0.9985, 'Train F1 : 0.9985, Valid Loss : 0.3184, Valid Acc : 0.9364, Valid F1 : 0.9345767487956379\n"
     ]
    },
    {
     "name": "stderr",
     "output_type": "stream",
     "text": [
      "Epoch [38/100], Train Loss : 0.0001: 100%|██████████| 1316/1316 [08:35<00:00,  2.55it/s]\n",
      "Epcoh [38/100] Valid Loss : 6.4214: 100%|██████████| 329/329 [01:11<00:00,  4.62it/s]\n"
     ]
    },
    {
     "name": "stdout",
     "output_type": "stream",
     "text": [
      "Epoch [38/100], Train Loss : 0.0107, Train Acc : 0.9975, 'Train F1 : 0.9975, Valid Loss : 0.0195, Valid Acc : 0.9940, Valid F1 : 0.9935708983845126\n"
     ]
    },
    {
     "name": "stderr",
     "output_type": "stream",
     "text": [
      "Epoch [39/100], Train Loss : 0.5239: 100%|██████████| 1316/1316 [08:35<00:00,  2.55it/s]\n",
      "Epcoh [39/100] Valid Loss : 6.2717: 100%|██████████| 329/329 [01:11<00:00,  4.62it/s]\n"
     ]
    },
    {
     "name": "stdout",
     "output_type": "stream",
     "text": [
      "Epoch [39/100], Train Loss : 0.0100, Train Acc : 0.9971, 'Train F1 : 0.9971, Valid Loss : 0.0191, Valid Acc : 0.9948, Valid F1 : 0.9943930937587616\n"
     ]
    },
    {
     "name": "stderr",
     "output_type": "stream",
     "text": [
      "Epoch [40/100], Train Loss : 0.0050: 100%|██████████| 1316/1316 [08:35<00:00,  2.55it/s]\n",
      "Epcoh [40/100] Valid Loss : 5.6687: 100%|██████████| 329/329 [01:11<00:00,  4.62it/s]\n"
     ]
    },
    {
     "name": "stdout",
     "output_type": "stream",
     "text": [
      "Epoch [40/100], Train Loss : 0.0067, Train Acc : 0.9978, 'Train F1 : 0.9978, Valid Loss : 0.0172, Valid Acc : 0.9942, Valid F1 : 0.9931949549603165\n"
     ]
    },
    {
     "name": "stderr",
     "output_type": "stream",
     "text": [
      "Epoch [41/100], Train Loss : 0.0001: 100%|██████████| 1316/1316 [08:35<00:00,  2.55it/s]\n",
      "Epcoh [41/100] Valid Loss : 89.5995: 100%|██████████| 329/329 [01:12<00:00,  4.56it/s]\n"
     ]
    },
    {
     "name": "stdout",
     "output_type": "stream",
     "text": [
      "Epoch [41/100], Train Loss : 0.0072, Train Acc : 0.9979, 'Train F1 : 0.9979, Valid Loss : 0.2723, Valid Acc : 0.9536, Valid F1 : 0.9515877556741801\n"
     ]
    },
    {
     "name": "stderr",
     "output_type": "stream",
     "text": [
      "Epoch [42/100], Train Loss : 0.4684: 100%|██████████| 1316/1316 [08:35<00:00,  2.55it/s]\n",
      "Epcoh [42/100] Valid Loss : 7.6229: 100%|██████████| 329/329 [01:11<00:00,  4.60it/s]\n"
     ]
    },
    {
     "name": "stdout",
     "output_type": "stream",
     "text": [
      "Epoch [42/100], Train Loss : 0.0083, Train Acc : 0.9978, 'Train F1 : 0.9978, Valid Loss : 0.0232, Valid Acc : 0.9930, Valid F1 : 0.9915314915805967\n"
     ]
    },
    {
     "name": "stderr",
     "output_type": "stream",
     "text": [
      "Epoch [43/100], Train Loss : 1.0865: 100%|██████████| 1316/1316 [08:35<00:00,  2.55it/s]\n",
      "Epcoh [43/100] Valid Loss : 14.1498: 100%|██████████| 329/329 [01:11<00:00,  4.63it/s]\n"
     ]
    },
    {
     "name": "stdout",
     "output_type": "stream",
     "text": [
      "Epoch [43/100], Train Loss : 0.0074, Train Acc : 0.9979, 'Train F1 : 0.9979, Valid Loss : 0.0430, Valid Acc : 0.9898, Valid F1 : 0.9878094849417878\n"
     ]
    },
    {
     "name": "stderr",
     "output_type": "stream",
     "text": [
      "Epoch [44/100], Train Loss : 0.0000: 100%|██████████| 1316/1316 [08:35<00:00,  2.55it/s]\n",
      "Epcoh [44/100] Valid Loss : 22.2105: 100%|██████████| 329/329 [01:11<00:00,  4.61it/s]\n"
     ]
    },
    {
     "name": "stdout",
     "output_type": "stream",
     "text": [
      "Epoch [44/100], Train Loss : 0.0077, Train Acc : 0.9978, 'Train F1 : 0.9978, Valid Loss : 0.0675, Valid Acc : 0.9867, Valid F1 : 0.9839519685170494\n"
     ]
    },
    {
     "name": "stderr",
     "output_type": "stream",
     "text": [
      "Epoch [45/100], Train Loss : 0.0010: 100%|██████████| 1316/1316 [08:34<00:00,  2.56it/s]\n",
      "Epcoh [45/100] Valid Loss : 75.4958: 100%|██████████| 329/329 [01:11<00:00,  4.62it/s]\n"
     ]
    },
    {
     "name": "stdout",
     "output_type": "stream",
     "text": [
      "Epoch [45/100], Train Loss : 0.0075, Train Acc : 0.9980, 'Train F1 : 0.9980, Valid Loss : 0.2295, Valid Acc : 0.9637, Valid F1 : 0.9591011260852975\n"
     ]
    },
    {
     "name": "stderr",
     "output_type": "stream",
     "text": [
      "Epoch [46/100], Train Loss : 0.4881: 100%|██████████| 1316/1316 [08:35<00:00,  2.55it/s]\n",
      "Epcoh [46/100] Valid Loss : 18.7324: 100%|██████████| 329/329 [01:11<00:00,  4.57it/s]\n"
     ]
    },
    {
     "name": "stdout",
     "output_type": "stream",
     "text": [
      "Epoch [46/100], Train Loss : 0.0067, Train Acc : 0.9981, 'Train F1 : 0.9980, Valid Loss : 0.0569, Valid Acc : 0.9890, Valid F1 : 0.986716174421281\n"
     ]
    },
    {
     "name": "stderr",
     "output_type": "stream",
     "text": [
      "Epoch [47/100], Train Loss : 0.0002: 100%|██████████| 1316/1316 [08:35<00:00,  2.55it/s]\n",
      "Epcoh [47/100] Valid Loss : 25.9544: 100%|██████████| 329/329 [01:11<00:00,  4.62it/s]\n"
     ]
    },
    {
     "name": "stdout",
     "output_type": "stream",
     "text": [
      "Epoch [47/100], Train Loss : 0.0071, Train Acc : 0.9980, 'Train F1 : 0.9980, Valid Loss : 0.0789, Valid Acc : 0.9889, Valid F1 : 0.986838380945898\n"
     ]
    },
    {
     "name": "stderr",
     "output_type": "stream",
     "text": [
      "Epoch [48/100], Train Loss : 0.0938: 100%|██████████| 1316/1316 [08:35<00:00,  2.55it/s]\n",
      "Epcoh [48/100] Valid Loss : 24.5419: 100%|██████████| 329/329 [01:10<00:00,  4.64it/s]\n"
     ]
    },
    {
     "name": "stdout",
     "output_type": "stream",
     "text": [
      "Epoch [48/100], Train Loss : 0.0061, Train Acc : 0.9981, 'Train F1 : 0.9981, Valid Loss : 0.0746, Valid Acc : 0.9837, Valid F1 : 0.9807624070681321\n"
     ]
    },
    {
     "name": "stderr",
     "output_type": "stream",
     "text": [
      "Epoch [49/100], Train Loss : 0.0009: 100%|██████████| 1316/1316 [08:35<00:00,  2.55it/s]\n",
      "Epcoh [49/100] Valid Loss : 27.3787: 100%|██████████| 329/329 [01:11<00:00,  4.63it/s]\n"
     ]
    },
    {
     "name": "stdout",
     "output_type": "stream",
     "text": [
      "Epoch [49/100], Train Loss : 0.0090, Train Acc : 0.9976, 'Train F1 : 0.9976, Valid Loss : 0.0832, Valid Acc : 0.9812, Valid F1 : 0.9777015355072739\n"
     ]
    },
    {
     "name": "stderr",
     "output_type": "stream",
     "text": [
      "Epoch [50/100], Train Loss : 0.0000: 100%|██████████| 1316/1316 [08:35<00:00,  2.55it/s]\n",
      "Epcoh [50/100] Valid Loss : 21.6811: 100%|██████████| 329/329 [01:11<00:00,  4.60it/s]\n"
     ]
    },
    {
     "name": "stdout",
     "output_type": "stream",
     "text": [
      "Epoch [50/100], Train Loss : 0.0045, Train Acc : 0.9988, 'Train F1 : 0.9988, Valid Loss : 0.0659, Valid Acc : 0.9836, Valid F1 : 0.9807864335193582\n",
      "Early Stopping!\n",
      "effb4-1 training finish... \n",
      "================================================================================\n",
      "\n"
     ]
    },
    {
     "name": "stderr",
     "output_type": "stream",
     "text": [
      "Epoch [1/100], Train Loss : 0.8396: 100%|██████████| 1316/1316 [08:36<00:00,  2.55it/s]\n",
      "Epcoh [1/100] Valid Loss : 77.6437: 100%|██████████| 329/329 [01:06<00:00,  4.96it/s]\n"
     ]
    },
    {
     "name": "stdout",
     "output_type": "stream",
     "text": [
      "Epoch [1/100], Train Loss : 0.2867, Train Acc : 0.9037, 'Train F1 : 0.9041, Valid Loss : 0.2360, Valid Acc : 0.9191, Valid F1 : 0.9131172908803002\n"
     ]
    },
    {
     "name": "stderr",
     "output_type": "stream",
     "text": [
      "Epoch [2/100], Train Loss : 0.0661: 100%|██████████| 1316/1316 [08:35<00:00,  2.55it/s]\n",
      "Epcoh [2/100] Valid Loss : 43.9554: 100%|██████████| 329/329 [01:06<00:00,  4.96it/s]\n"
     ]
    },
    {
     "name": "stdout",
     "output_type": "stream",
     "text": [
      "Epoch [2/100], Train Loss : 0.0847, Train Acc : 0.9725, 'Train F1 : 0.9726, Valid Loss : 0.1336, Valid Acc : 0.9559, Valid F1 : 0.9516374954900063\n"
     ]
    },
    {
     "name": "stderr",
     "output_type": "stream",
     "text": [
      "Epoch [3/100], Train Loss : 1.0467: 100%|██████████| 1316/1316 [08:33<00:00,  2.56it/s]\n",
      "Epcoh [3/100] Valid Loss : 37.9081: 100%|██████████| 329/329 [01:05<00:00,  4.99it/s]\n"
     ]
    },
    {
     "name": "stdout",
     "output_type": "stream",
     "text": [
      "Epoch [3/100], Train Loss : 0.0579, Train Acc : 0.9820, 'Train F1 : 0.9821, Valid Loss : 0.1152, Valid Acc : 0.9631, Valid F1 : 0.9598464838136982\n"
     ]
    },
    {
     "name": "stderr",
     "output_type": "stream",
     "text": [
      "Epoch [4/100], Train Loss : 0.0519: 100%|██████████| 1316/1316 [08:33<00:00,  2.56it/s]\n",
      "Epcoh [4/100] Valid Loss : 38.0284: 100%|██████████| 329/329 [01:05<00:00,  5.00it/s]\n"
     ]
    },
    {
     "name": "stdout",
     "output_type": "stream",
     "text": [
      "Epoch [4/100], Train Loss : 0.0482, Train Acc : 0.9852, 'Train F1 : 0.9853, Valid Loss : 0.1156, Valid Acc : 0.9657, Valid F1 : 0.961753912152639\n"
     ]
    },
    {
     "name": "stderr",
     "output_type": "stream",
     "text": [
      "Epoch [5/100], Train Loss : 0.1837: 100%|██████████| 1316/1316 [08:33<00:00,  2.56it/s]\n",
      "Epcoh [5/100] Valid Loss : 33.0147: 100%|██████████| 329/329 [01:05<00:00,  4.99it/s]\n"
     ]
    },
    {
     "name": "stdout",
     "output_type": "stream",
     "text": [
      "Epoch [5/100], Train Loss : 0.0311, Train Acc : 0.9901, 'Train F1 : 0.9903, Valid Loss : 0.1003, Valid Acc : 0.9707, Valid F1 : 0.9672776709379074\n"
     ]
    },
    {
     "name": "stderr",
     "output_type": "stream",
     "text": [
      "Epoch [6/100], Train Loss : 0.0141: 100%|██████████| 1316/1316 [08:33<00:00,  2.56it/s]\n",
      "Epcoh [6/100] Valid Loss : 31.2166: 100%|██████████| 329/329 [01:06<00:00,  4.98it/s]\n"
     ]
    },
    {
     "name": "stdout",
     "output_type": "stream",
     "text": [
      "Epoch [6/100], Train Loss : 0.0367, Train Acc : 0.9891, 'Train F1 : 0.9892, Valid Loss : 0.0949, Valid Acc : 0.9692, Valid F1 : 0.9661531441069054\n"
     ]
    },
    {
     "name": "stderr",
     "output_type": "stream",
     "text": [
      "Epoch [7/100], Train Loss : 0.0085: 100%|██████████| 1316/1316 [08:33<00:00,  2.56it/s]\n",
      "Epcoh [7/100] Valid Loss : 29.2571: 100%|██████████| 329/329 [01:05<00:00,  4.99it/s]\n"
     ]
    },
    {
     "name": "stdout",
     "output_type": "stream",
     "text": [
      "Epoch [7/100], Train Loss : 0.0245, Train Acc : 0.9926, 'Train F1 : 0.9926, Valid Loss : 0.0889, Valid Acc : 0.9745, Valid F1 : 0.9716510578579022\n"
     ]
    },
    {
     "name": "stderr",
     "output_type": "stream",
     "text": [
      "Epoch [8/100], Train Loss : 0.0006: 100%|██████████| 1316/1316 [08:33<00:00,  2.56it/s]\n",
      "Epcoh [8/100] Valid Loss : 30.4043: 100%|██████████| 329/329 [01:05<00:00,  4.99it/s]\n"
     ]
    },
    {
     "name": "stdout",
     "output_type": "stream",
     "text": [
      "Epoch [8/100], Train Loss : 0.0263, Train Acc : 0.9924, 'Train F1 : 0.9925, Valid Loss : 0.0924, Valid Acc : 0.9738, Valid F1 : 0.9717248850030332\n"
     ]
    },
    {
     "name": "stderr",
     "output_type": "stream",
     "text": [
      "Epoch [9/100], Train Loss : 0.0193: 100%|██████████| 1316/1316 [08:34<00:00,  2.56it/s]\n",
      "Epcoh [9/100] Valid Loss : 32.1762: 100%|██████████| 329/329 [01:06<00:00,  4.96it/s]\n"
     ]
    },
    {
     "name": "stdout",
     "output_type": "stream",
     "text": [
      "Epoch [9/100], Train Loss : 0.0268, Train Acc : 0.9926, 'Train F1 : 0.9926, Valid Loss : 0.0978, Valid Acc : 0.9690, Valid F1 : 0.9667410605786689\n"
     ]
    },
    {
     "name": "stderr",
     "output_type": "stream",
     "text": [
      "Epoch [10/100], Train Loss : 0.4355: 100%|██████████| 1316/1316 [08:34<00:00,  2.56it/s]\n",
      "Epcoh [10/100] Valid Loss : 37.8872: 100%|██████████| 329/329 [01:06<00:00,  4.98it/s]\n"
     ]
    },
    {
     "name": "stdout",
     "output_type": "stream",
     "text": [
      "Epoch [10/100], Train Loss : 0.0198, Train Acc : 0.9938, 'Train F1 : 0.9938, Valid Loss : 0.1152, Valid Acc : 0.9703, Valid F1 : 0.9672832611825195\n"
     ]
    },
    {
     "name": "stderr",
     "output_type": "stream",
     "text": [
      "Epoch [11/100], Train Loss : 0.0020: 100%|██████████| 1316/1316 [08:34<00:00,  2.56it/s]\n",
      "Epcoh [11/100] Valid Loss : 27.3713: 100%|██████████| 329/329 [01:06<00:00,  4.97it/s]\n"
     ]
    },
    {
     "name": "stdout",
     "output_type": "stream",
     "text": [
      "Epoch [11/100], Train Loss : 0.0249, Train Acc : 0.9930, 'Train F1 : 0.9930, Valid Loss : 0.0832, Valid Acc : 0.9778, Valid F1 : 0.9742130718012719\n"
     ]
    },
    {
     "name": "stderr",
     "output_type": "stream",
     "text": [
      "Epoch [12/100], Train Loss : 1.9691: 100%|██████████| 1316/1316 [08:35<00:00,  2.55it/s]\n",
      "Epcoh [12/100] Valid Loss : 33.4419: 100%|██████████| 329/329 [01:06<00:00,  4.96it/s]\n"
     ]
    },
    {
     "name": "stdout",
     "output_type": "stream",
     "text": [
      "Epoch [12/100], Train Loss : 0.0173, Train Acc : 0.9955, 'Train F1 : 0.9956, Valid Loss : 0.1016, Valid Acc : 0.9732, Valid F1 : 0.9703713053902692\n"
     ]
    },
    {
     "name": "stderr",
     "output_type": "stream",
     "text": [
      "Epoch [13/100], Train Loss : 0.0161: 100%|██████████| 1316/1316 [08:35<00:00,  2.55it/s]\n",
      "Epcoh [13/100] Valid Loss : 23.7957: 100%|██████████| 329/329 [01:05<00:00,  4.99it/s]\n"
     ]
    },
    {
     "name": "stdout",
     "output_type": "stream",
     "text": [
      "Epoch [13/100], Train Loss : 0.0198, Train Acc : 0.9942, 'Train F1 : 0.9942, Valid Loss : 0.0723, Valid Acc : 0.9791, Valid F1 : 0.9782012337612197\n"
     ]
    },
    {
     "name": "stderr",
     "output_type": "stream",
     "text": [
      "Epoch [14/100], Train Loss : 0.0000: 100%|██████████| 1316/1316 [08:34<00:00,  2.56it/s]\n",
      "Epcoh [14/100] Valid Loss : 30.2745: 100%|██████████| 329/329 [01:05<00:00,  4.99it/s]\n"
     ]
    },
    {
     "name": "stdout",
     "output_type": "stream",
     "text": [
      "Epoch [14/100], Train Loss : 0.0149, Train Acc : 0.9958, 'Train F1 : 0.9958, Valid Loss : 0.0920, Valid Acc : 0.9774, Valid F1 : 0.9767011260342784\n"
     ]
    },
    {
     "name": "stderr",
     "output_type": "stream",
     "text": [
      "Epoch [15/100], Train Loss : 0.3624: 100%|██████████| 1316/1316 [08:32<00:00,  2.57it/s]\n",
      "Epcoh [15/100] Valid Loss : 31.5281: 100%|██████████| 329/329 [01:05<00:00,  4.99it/s]\n"
     ]
    },
    {
     "name": "stdout",
     "output_type": "stream",
     "text": [
      "Epoch [15/100], Train Loss : 0.0169, Train Acc : 0.9952, 'Train F1 : 0.9952, Valid Loss : 0.0958, Valid Acc : 0.9732, Valid F1 : 0.970545663779738\n"
     ]
    },
    {
     "name": "stderr",
     "output_type": "stream",
     "text": [
      "Epoch [16/100], Train Loss : 0.5686: 100%|██████████| 1316/1316 [08:33<00:00,  2.56it/s]\n",
      "Epcoh [16/100] Valid Loss : 29.9840: 100%|██████████| 329/329 [01:05<00:00,  4.99it/s]\n"
     ]
    },
    {
     "name": "stdout",
     "output_type": "stream",
     "text": [
      "Epoch [16/100], Train Loss : 0.0119, Train Acc : 0.9965, 'Train F1 : 0.9966, Valid Loss : 0.0911, Valid Acc : 0.9721, Valid F1 : 0.9702807478561429\n"
     ]
    },
    {
     "name": "stderr",
     "output_type": "stream",
     "text": [
      "Epoch [17/100], Train Loss : 0.0005: 100%|██████████| 1316/1316 [08:33<00:00,  2.56it/s]\n",
      "Epcoh [17/100] Valid Loss : 31.5946: 100%|██████████| 329/329 [01:06<00:00,  4.96it/s]\n"
     ]
    },
    {
     "name": "stdout",
     "output_type": "stream",
     "text": [
      "Epoch [17/100], Train Loss : 0.0154, Train Acc : 0.9955, 'Train F1 : 0.9956, Valid Loss : 0.0960, Valid Acc : 0.9760, Valid F1 : 0.9743019961125711\n"
     ]
    },
    {
     "name": "stderr",
     "output_type": "stream",
     "text": [
      "Epoch [18/100], Train Loss : 0.0000: 100%|██████████| 1316/1316 [08:34<00:00,  2.56it/s]\n",
      "Epcoh [18/100] Valid Loss : 27.7746: 100%|██████████| 329/329 [01:06<00:00,  4.97it/s]\n"
     ]
    },
    {
     "name": "stdout",
     "output_type": "stream",
     "text": [
      "Epoch [18/100], Train Loss : 0.0143, Train Acc : 0.9960, 'Train F1 : 0.9960, Valid Loss : 0.0844, Valid Acc : 0.9762, Valid F1 : 0.9744436687935701\n"
     ]
    },
    {
     "name": "stderr",
     "output_type": "stream",
     "text": [
      "Epoch [19/100], Train Loss : 0.0009: 100%|██████████| 1316/1316 [08:34<00:00,  2.56it/s]\n",
      "Epcoh [19/100] Valid Loss : 33.7775: 100%|██████████| 329/329 [01:06<00:00,  4.95it/s]\n"
     ]
    },
    {
     "name": "stdout",
     "output_type": "stream",
     "text": [
      "Epoch [19/100], Train Loss : 0.0114, Train Acc : 0.9968, 'Train F1 : 0.9968, Valid Loss : 0.1027, Valid Acc : 0.9745, Valid F1 : 0.9713930264671485\n"
     ]
    },
    {
     "name": "stderr",
     "output_type": "stream",
     "text": [
      "Epoch [20/100], Train Loss : 3.2046: 100%|██████████| 1316/1316 [08:34<00:00,  2.56it/s]\n",
      "Epcoh [20/100] Valid Loss : 24.8361: 100%|██████████| 329/329 [01:06<00:00,  4.98it/s]\n"
     ]
    },
    {
     "name": "stdout",
     "output_type": "stream",
     "text": [
      "Epoch [20/100], Train Loss : 0.0166, Train Acc : 0.9959, 'Train F1 : 0.9960, Valid Loss : 0.0755, Valid Acc : 0.9810, Valid F1 : 0.9794233194733079\n"
     ]
    },
    {
     "name": "stderr",
     "output_type": "stream",
     "text": [
      "Epoch [21/100], Train Loss : 0.2385: 100%|██████████| 1316/1316 [08:34<00:00,  2.56it/s]\n",
      "Epcoh [21/100] Valid Loss : 22.1228: 100%|██████████| 329/329 [01:06<00:00,  4.97it/s]\n"
     ]
    },
    {
     "name": "stdout",
     "output_type": "stream",
     "text": [
      "Epoch [21/100], Train Loss : 0.0134, Train Acc : 0.9962, 'Train F1 : 0.9963, Valid Loss : 0.0672, Valid Acc : 0.9818, Valid F1 : 0.9805497288254805\n"
     ]
    },
    {
     "name": "stderr",
     "output_type": "stream",
     "text": [
      "Epoch [22/100], Train Loss : 0.0000: 100%|██████████| 1316/1316 [08:34<00:00,  2.56it/s]\n",
      "Epcoh [22/100] Valid Loss : 23.0220: 100%|██████████| 329/329 [01:06<00:00,  4.98it/s]\n"
     ]
    },
    {
     "name": "stdout",
     "output_type": "stream",
     "text": [
      "Epoch [22/100], Train Loss : 0.0119, Train Acc : 0.9964, 'Train F1 : 0.9964, Valid Loss : 0.0700, Valid Acc : 0.9840, Valid F1 : 0.981999158825244\n"
     ]
    },
    {
     "name": "stderr",
     "output_type": "stream",
     "text": [
      "Epoch [23/100], Train Loss : 0.0100: 100%|██████████| 1316/1316 [08:35<00:00,  2.55it/s]\n",
      "Epcoh [23/100] Valid Loss : 23.4281: 100%|██████████| 329/329 [01:06<00:00,  4.94it/s]\n"
     ]
    },
    {
     "name": "stdout",
     "output_type": "stream",
     "text": [
      "Epoch [23/100], Train Loss : 0.0135, Train Acc : 0.9963, 'Train F1 : 0.9963, Valid Loss : 0.0712, Valid Acc : 0.9804, Valid F1 : 0.9792551554471326\n"
     ]
    },
    {
     "name": "stderr",
     "output_type": "stream",
     "text": [
      "Epoch [24/100], Train Loss : 0.0084: 100%|██████████| 1316/1316 [08:36<00:00,  2.55it/s]\n",
      "Epcoh [24/100] Valid Loss : 29.5192: 100%|██████████| 329/329 [01:06<00:00,  4.95it/s]\n"
     ]
    },
    {
     "name": "stdout",
     "output_type": "stream",
     "text": [
      "Epoch [24/100], Train Loss : 0.0090, Train Acc : 0.9974, 'Train F1 : 0.9975, Valid Loss : 0.0897, Valid Acc : 0.9773, Valid F1 : 0.9742131083486854\n"
     ]
    },
    {
     "name": "stderr",
     "output_type": "stream",
     "text": [
      "Epoch [25/100], Train Loss : 0.0006: 100%|██████████| 1316/1316 [08:35<00:00,  2.55it/s]\n",
      "Epcoh [25/100] Valid Loss : 23.8446: 100%|██████████| 329/329 [01:06<00:00,  4.98it/s]\n"
     ]
    },
    {
     "name": "stdout",
     "output_type": "stream",
     "text": [
      "Epoch [25/100], Train Loss : 0.0101, Train Acc : 0.9975, 'Train F1 : 0.9975, Valid Loss : 0.0725, Valid Acc : 0.9805, Valid F1 : 0.9791579304140976\n"
     ]
    },
    {
     "name": "stderr",
     "output_type": "stream",
     "text": [
      "Epoch [26/100], Train Loss : 0.4713: 100%|██████████| 1316/1316 [08:34<00:00,  2.56it/s]\n",
      "Epcoh [26/100] Valid Loss : 37.5330: 100%|██████████| 329/329 [01:06<00:00,  4.96it/s]\n"
     ]
    },
    {
     "name": "stdout",
     "output_type": "stream",
     "text": [
      "Epoch [26/100], Train Loss : 0.0103, Train Acc : 0.9972, 'Train F1 : 0.9972, Valid Loss : 0.1141, Valid Acc : 0.9694, Valid F1 : 0.9660199067411156\n"
     ]
    },
    {
     "name": "stderr",
     "output_type": "stream",
     "text": [
      "Epoch [27/100], Train Loss : 1.3963: 100%|██████████| 1316/1316 [08:36<00:00,  2.55it/s]\n",
      "Epcoh [27/100] Valid Loss : 27.4417: 100%|██████████| 329/329 [01:06<00:00,  4.95it/s]\n"
     ]
    },
    {
     "name": "stdout",
     "output_type": "stream",
     "text": [
      "Epoch [27/100], Train Loss : 0.0116, Train Acc : 0.9968, 'Train F1 : 0.9968, Valid Loss : 0.0834, Valid Acc : 0.9761, Valid F1 : 0.9742446907133557\n"
     ]
    },
    {
     "name": "stderr",
     "output_type": "stream",
     "text": [
      "Epoch [28/100], Train Loss : 0.1508: 100%|██████████| 1316/1316 [08:36<00:00,  2.55it/s]\n",
      "Epcoh [28/100] Valid Loss : 25.3626: 100%|██████████| 329/329 [01:06<00:00,  4.93it/s]\n"
     ]
    },
    {
     "name": "stdout",
     "output_type": "stream",
     "text": [
      "Epoch [28/100], Train Loss : 0.0066, Train Acc : 0.9978, 'Train F1 : 0.9978, Valid Loss : 0.0771, Valid Acc : 0.9810, Valid F1 : 0.9782049858270343\n"
     ]
    },
    {
     "name": "stderr",
     "output_type": "stream",
     "text": [
      "Epoch [29/100], Train Loss : 0.0001: 100%|██████████| 1316/1316 [08:36<00:00,  2.55it/s]\n",
      "Epcoh [29/100] Valid Loss : 23.9819: 100%|██████████| 329/329 [01:06<00:00,  4.96it/s]\n"
     ]
    },
    {
     "name": "stdout",
     "output_type": "stream",
     "text": [
      "Epoch [29/100], Train Loss : 0.0064, Train Acc : 0.9979, 'Train F1 : 0.9980, Valid Loss : 0.0729, Valid Acc : 0.9816, Valid F1 : 0.979090253940973\n"
     ]
    },
    {
     "name": "stderr",
     "output_type": "stream",
     "text": [
      "Epoch [30/100], Train Loss : 0.0012: 100%|██████████| 1316/1316 [08:36<00:00,  2.55it/s]\n",
      "Epcoh [30/100] Valid Loss : 24.7505: 100%|██████████| 329/329 [01:06<00:00,  4.93it/s]\n"
     ]
    },
    {
     "name": "stdout",
     "output_type": "stream",
     "text": [
      "Epoch [30/100], Train Loss : 0.0144, Train Acc : 0.9962, 'Train F1 : 0.9962, Valid Loss : 0.0752, Valid Acc : 0.9812, Valid F1 : 0.9793977782911187\n"
     ]
    },
    {
     "name": "stderr",
     "output_type": "stream",
     "text": [
      "Epoch [31/100], Train Loss : 0.0006: 100%|██████████| 1316/1316 [08:37<00:00,  2.55it/s]\n",
      "Epcoh [31/100] Valid Loss : 18.9953: 100%|██████████| 329/329 [01:06<00:00,  4.93it/s]\n"
     ]
    },
    {
     "name": "stdout",
     "output_type": "stream",
     "text": [
      "Epoch [31/100], Train Loss : 0.0063, Train Acc : 0.9984, 'Train F1 : 0.9984, Valid Loss : 0.0577, Valid Acc : 0.9845, Valid F1 : 0.9837918814799207\n"
     ]
    },
    {
     "name": "stderr",
     "output_type": "stream",
     "text": [
      "Epoch [32/100], Train Loss : 0.0148: 100%|██████████| 1316/1316 [08:36<00:00,  2.55it/s]\n",
      "Epcoh [32/100] Valid Loss : 18.1876: 100%|██████████| 329/329 [01:06<00:00,  4.95it/s]\n"
     ]
    },
    {
     "name": "stdout",
     "output_type": "stream",
     "text": [
      "Epoch [32/100], Train Loss : 0.0070, Train Acc : 0.9980, 'Train F1 : 0.9980, Valid Loss : 0.0553, Valid Acc : 0.9859, Valid F1 : 0.984356319793144\n"
     ]
    },
    {
     "name": "stderr",
     "output_type": "stream",
     "text": [
      "Epoch [33/100], Train Loss : 0.0091: 100%|██████████| 1316/1316 [08:36<00:00,  2.55it/s]\n",
      "Epcoh [33/100] Valid Loss : 26.1868: 100%|██████████| 329/329 [01:06<00:00,  4.92it/s]\n"
     ]
    },
    {
     "name": "stdout",
     "output_type": "stream",
     "text": [
      "Epoch [33/100], Train Loss : 0.0091, Train Acc : 0.9976, 'Train F1 : 0.9977, Valid Loss : 0.0796, Valid Acc : 0.9780, Valid F1 : 0.9763252024974951\n"
     ]
    },
    {
     "name": "stderr",
     "output_type": "stream",
     "text": [
      "Epoch [34/100], Train Loss : 0.0000: 100%|██████████| 1316/1316 [08:36<00:00,  2.55it/s]\n",
      "Epcoh [34/100] Valid Loss : 29.1403: 100%|██████████| 329/329 [01:07<00:00,  4.89it/s]\n"
     ]
    },
    {
     "name": "stdout",
     "output_type": "stream",
     "text": [
      "Epoch [34/100], Train Loss : 0.0100, Train Acc : 0.9970, 'Train F1 : 0.9970, Valid Loss : 0.0886, Valid Acc : 0.9780, Valid F1 : 0.9749718846778146\n"
     ]
    },
    {
     "name": "stderr",
     "output_type": "stream",
     "text": [
      "Epoch [35/100], Train Loss : 0.0044: 100%|██████████| 1316/1316 [08:38<00:00,  2.54it/s]\n",
      "Epcoh [35/100] Valid Loss : 18.8177: 100%|██████████| 329/329 [01:08<00:00,  4.78it/s]\n"
     ]
    },
    {
     "name": "stdout",
     "output_type": "stream",
     "text": [
      "Epoch [35/100], Train Loss : 0.0066, Train Acc : 0.9981, 'Train F1 : 0.9981, Valid Loss : 0.0572, Valid Acc : 0.9856, Valid F1 : 0.9841037467516379\n"
     ]
    },
    {
     "name": "stderr",
     "output_type": "stream",
     "text": [
      "Epoch [36/100], Train Loss : 0.0000: 100%|██████████| 1316/1316 [08:42<00:00,  2.52it/s]\n",
      "Epcoh [36/100] Valid Loss : 27.5597: 100%|██████████| 329/329 [01:11<00:00,  4.63it/s]\n"
     ]
    },
    {
     "name": "stdout",
     "output_type": "stream",
     "text": [
      "Epoch [36/100], Train Loss : 0.0080, Train Acc : 0.9976, 'Train F1 : 0.9976, Valid Loss : 0.0838, Valid Acc : 0.9796, Valid F1 : 0.9767676848096556\n"
     ]
    },
    {
     "name": "stderr",
     "output_type": "stream",
     "text": [
      "Epoch [37/100], Train Loss : 0.2049: 100%|██████████| 1316/1316 [08:43<00:00,  2.52it/s]\n",
      "Epcoh [37/100] Valid Loss : 21.6623: 100%|██████████| 329/329 [01:09<00:00,  4.76it/s]\n"
     ]
    },
    {
     "name": "stdout",
     "output_type": "stream",
     "text": [
      "Epoch [37/100], Train Loss : 0.0063, Train Acc : 0.9983, 'Train F1 : 0.9983, Valid Loss : 0.0658, Valid Acc : 0.9818, Valid F1 : 0.9800822204175568\n"
     ]
    },
    {
     "name": "stderr",
     "output_type": "stream",
     "text": [
      "Epoch [38/100], Train Loss : 0.0043: 100%|██████████| 1316/1316 [08:43<00:00,  2.52it/s]\n",
      "Epcoh [38/100] Valid Loss : 21.3772: 100%|██████████| 329/329 [01:09<00:00,  4.72it/s]\n"
     ]
    },
    {
     "name": "stdout",
     "output_type": "stream",
     "text": [
      "Epoch [38/100], Train Loss : 0.0086, Train Acc : 0.9981, 'Train F1 : 0.9981, Valid Loss : 0.0650, Valid Acc : 0.9834, Valid F1 : 0.9821521022652466\n"
     ]
    },
    {
     "name": "stderr",
     "output_type": "stream",
     "text": [
      "Epoch [39/100], Train Loss : 0.0540: 100%|██████████| 1316/1316 [08:43<00:00,  2.52it/s]\n",
      "Epcoh [39/100] Valid Loss : 33.0180: 100%|██████████| 329/329 [01:09<00:00,  4.73it/s]\n"
     ]
    },
    {
     "name": "stdout",
     "output_type": "stream",
     "text": [
      "Epoch [39/100], Train Loss : 0.0057, Train Acc : 0.9984, 'Train F1 : 0.9985, Valid Loss : 0.1004, Valid Acc : 0.9751, Valid F1 : 0.9741559089449507\n"
     ]
    },
    {
     "name": "stderr",
     "output_type": "stream",
     "text": [
      "Epoch [40/100], Train Loss : 0.0001: 100%|██████████| 1316/1316 [08:43<00:00,  2.52it/s]\n",
      "Epcoh [40/100] Valid Loss : 25.7663: 100%|██████████| 329/329 [01:09<00:00,  4.74it/s]\n"
     ]
    },
    {
     "name": "stdout",
     "output_type": "stream",
     "text": [
      "Epoch [40/100], Train Loss : 0.0088, Train Acc : 0.9978, 'Train F1 : 0.9978, Valid Loss : 0.0783, Valid Acc : 0.9794, Valid F1 : 0.9771510912927319\n"
     ]
    },
    {
     "name": "stderr",
     "output_type": "stream",
     "text": [
      "Epoch [41/100], Train Loss : 0.0000: 100%|██████████| 1316/1316 [08:42<00:00,  2.52it/s]\n",
      "Epcoh [41/100] Valid Loss : 20.8878: 100%|██████████| 329/329 [01:08<00:00,  4.80it/s]\n"
     ]
    },
    {
     "name": "stdout",
     "output_type": "stream",
     "text": [
      "Epoch [41/100], Train Loss : 0.0070, Train Acc : 0.9980, 'Train F1 : 0.9981, Valid Loss : 0.0635, Valid Acc : 0.9842, Valid F1 : 0.9834286030360794\n"
     ]
    },
    {
     "name": "stderr",
     "output_type": "stream",
     "text": [
      "Epoch [42/100], Train Loss : 0.0077: 100%|██████████| 1316/1316 [08:42<00:00,  2.52it/s]\n",
      "Epcoh [42/100] Valid Loss : 28.1760: 100%|██████████| 329/329 [01:09<00:00,  4.74it/s]\n"
     ]
    },
    {
     "name": "stdout",
     "output_type": "stream",
     "text": [
      "Epoch [42/100], Train Loss : 0.0055, Train Acc : 0.9981, 'Train F1 : 0.9981, Valid Loss : 0.0856, Valid Acc : 0.9812, Valid F1 : 0.979238272121741\n",
      "Early Stopping!\n",
      "effb4-2 training finish... \n",
      "================================================================================\n",
      "\n"
     ]
    },
    {
     "name": "stderr",
     "output_type": "stream",
     "text": [
      "Epoch [1/100], Train Loss : 1.5739: 100%|██████████| 1316/1316 [08:30<00:00,  2.58it/s]\n",
      "Epcoh [1/100] Valid Loss : 45.5014: 100%|██████████| 329/329 [01:32<00:00,  3.57it/s]\n"
     ]
    },
    {
     "name": "stdout",
     "output_type": "stream",
     "text": [
      "Epoch [1/100], Train Loss : 0.3023, Train Acc : 0.8984, 'Train F1 : 0.8969, Valid Loss : 0.1383, Valid Acc : 0.9500, Valid F1 : 0.9477798271943084\n"
     ]
    },
    {
     "name": "stderr",
     "output_type": "stream",
     "text": [
      "Epoch [2/100], Train Loss : 0.3286: 100%|██████████| 1316/1316 [08:30<00:00,  2.58it/s]\n",
      "Epcoh [2/100] Valid Loss : 51.3500: 100%|██████████| 329/329 [01:32<00:00,  3.55it/s]\n"
     ]
    },
    {
     "name": "stdout",
     "output_type": "stream",
     "text": [
      "Epoch [2/100], Train Loss : 0.0934, Train Acc : 0.9703, 'Train F1 : 0.9703, Valid Loss : 0.1561, Valid Acc : 0.9524, Valid F1 : 0.9541602436332272\n"
     ]
    },
    {
     "name": "stderr",
     "output_type": "stream",
     "text": [
      "Epoch [3/100], Train Loss : 0.0034: 100%|██████████| 1316/1316 [08:30<00:00,  2.58it/s]\n",
      "Epcoh [3/100] Valid Loss : 43.5583: 100%|██████████| 329/329 [01:31<00:00,  3.61it/s]\n"
     ]
    },
    {
     "name": "stdout",
     "output_type": "stream",
     "text": [
      "Epoch [3/100], Train Loss : 0.0607, Train Acc : 0.9816, 'Train F1 : 0.9814, Valid Loss : 0.1324, Valid Acc : 0.9621, Valid F1 : 0.9628632661401082\n"
     ]
    },
    {
     "name": "stderr",
     "output_type": "stream",
     "text": [
      "Epoch [4/100], Train Loss : 0.0012: 100%|██████████| 1316/1316 [08:29<00:00,  2.58it/s]\n",
      "Epcoh [4/100] Valid Loss : 37.8844: 100%|██████████| 329/329 [01:31<00:00,  3.60it/s]\n"
     ]
    },
    {
     "name": "stdout",
     "output_type": "stream",
     "text": [
      "Epoch [4/100], Train Loss : 0.0465, Train Acc : 0.9856, 'Train F1 : 0.9856, Valid Loss : 0.1152, Valid Acc : 0.9645, Valid F1 : 0.9636906415773915\n"
     ]
    },
    {
     "name": "stderr",
     "output_type": "stream",
     "text": [
      "Epoch [5/100], Train Loss : 0.0004: 100%|██████████| 1316/1316 [08:29<00:00,  2.59it/s]\n",
      "Epcoh [5/100] Valid Loss : 32.7648: 100%|██████████| 329/329 [01:31<00:00,  3.60it/s]\n"
     ]
    },
    {
     "name": "stdout",
     "output_type": "stream",
     "text": [
      "Epoch [5/100], Train Loss : 0.0422, Train Acc : 0.9873, 'Train F1 : 0.9873, Valid Loss : 0.0996, Valid Acc : 0.9696, Valid F1 : 0.9681504111868895\n"
     ]
    },
    {
     "name": "stderr",
     "output_type": "stream",
     "text": [
      "Epoch [6/100], Train Loss : 0.4498: 100%|██████████| 1316/1316 [08:30<00:00,  2.58it/s]\n",
      "Epcoh [6/100] Valid Loss : 24.1782: 100%|██████████| 329/329 [01:32<00:00,  3.56it/s]\n"
     ]
    },
    {
     "name": "stdout",
     "output_type": "stream",
     "text": [
      "Epoch [6/100], Train Loss : 0.0311, Train Acc : 0.9908, 'Train F1 : 0.9908, Valid Loss : 0.0735, Valid Acc : 0.9799, Valid F1 : 0.9785941371104466\n"
     ]
    },
    {
     "name": "stderr",
     "output_type": "stream",
     "text": [
      "Epoch [7/100], Train Loss : 0.0026: 100%|██████████| 1316/1316 [08:30<00:00,  2.58it/s]\n",
      "Epcoh [7/100] Valid Loss : 24.5991: 100%|██████████| 329/329 [01:32<00:00,  3.57it/s]\n"
     ]
    },
    {
     "name": "stdout",
     "output_type": "stream",
     "text": [
      "Epoch [7/100], Train Loss : 0.0314, Train Acc : 0.9902, 'Train F1 : 0.9901, Valid Loss : 0.0748, Valid Acc : 0.9780, Valid F1 : 0.9778263237827827\n"
     ]
    },
    {
     "name": "stderr",
     "output_type": "stream",
     "text": [
      "Epoch [8/100], Train Loss : 0.0065: 100%|██████████| 1316/1316 [08:30<00:00,  2.58it/s]\n",
      "Epcoh [8/100] Valid Loss : 24.0574: 100%|██████████| 329/329 [01:32<00:00,  3.57it/s]\n"
     ]
    },
    {
     "name": "stdout",
     "output_type": "stream",
     "text": [
      "Epoch [8/100], Train Loss : 0.0290, Train Acc : 0.9916, 'Train F1 : 0.9916, Valid Loss : 0.0731, Valid Acc : 0.9805, Valid F1 : 0.9808510861340723\n"
     ]
    },
    {
     "name": "stderr",
     "output_type": "stream",
     "text": [
      "Epoch [9/100], Train Loss : 0.0005: 100%|██████████| 1316/1316 [08:29<00:00,  2.58it/s]\n",
      "Epcoh [9/100] Valid Loss : 21.5590: 100%|██████████| 329/329 [01:31<00:00,  3.60it/s]\n"
     ]
    },
    {
     "name": "stdout",
     "output_type": "stream",
     "text": [
      "Epoch [9/100], Train Loss : 0.0234, Train Acc : 0.9931, 'Train F1 : 0.9931, Valid Loss : 0.0655, Valid Acc : 0.9837, Valid F1 : 0.983552412448123\n"
     ]
    },
    {
     "name": "stderr",
     "output_type": "stream",
     "text": [
      "Epoch [10/100], Train Loss : 0.0089: 100%|██████████| 1316/1316 [08:27<00:00,  2.59it/s]\n",
      "Epcoh [10/100] Valid Loss : 19.2920: 100%|██████████| 329/329 [01:30<00:00,  3.63it/s]\n"
     ]
    },
    {
     "name": "stdout",
     "output_type": "stream",
     "text": [
      "Epoch [10/100], Train Loss : 0.0215, Train Acc : 0.9933, 'Train F1 : 0.9932, Valid Loss : 0.0586, Valid Acc : 0.9870, Valid F1 : 0.9866174849389736\n"
     ]
    },
    {
     "name": "stderr",
     "output_type": "stream",
     "text": [
      "Epoch [11/100], Train Loss : 0.0390: 100%|██████████| 1316/1316 [08:27<00:00,  2.60it/s]\n",
      "Epcoh [11/100] Valid Loss : 26.1528: 100%|██████████| 329/329 [01:30<00:00,  3.62it/s]\n"
     ]
    },
    {
     "name": "stdout",
     "output_type": "stream",
     "text": [
      "Epoch [11/100], Train Loss : 0.0201, Train Acc : 0.9944, 'Train F1 : 0.9944, Valid Loss : 0.0795, Valid Acc : 0.9815, Valid F1 : 0.9812419399069751\n"
     ]
    },
    {
     "name": "stderr",
     "output_type": "stream",
     "text": [
      "Epoch [12/100], Train Loss : 0.0023: 100%|██████████| 1316/1316 [08:27<00:00,  2.59it/s]\n",
      "Epcoh [12/100] Valid Loss : 39.4076: 100%|██████████| 329/329 [01:31<00:00,  3.60it/s]\n"
     ]
    },
    {
     "name": "stdout",
     "output_type": "stream",
     "text": [
      "Epoch [12/100], Train Loss : 0.0188, Train Acc : 0.9943, 'Train F1 : 0.9943, Valid Loss : 0.1198, Valid Acc : 0.9727, Valid F1 : 0.9742982688862699\n"
     ]
    },
    {
     "name": "stderr",
     "output_type": "stream",
     "text": [
      "Epoch [13/100], Train Loss : 0.0017: 100%|██████████| 1316/1316 [08:27<00:00,  2.59it/s]\n",
      "Epcoh [13/100] Valid Loss : 27.5982: 100%|██████████| 329/329 [01:31<00:00,  3.60it/s]\n"
     ]
    },
    {
     "name": "stdout",
     "output_type": "stream",
     "text": [
      "Epoch [13/100], Train Loss : 0.0194, Train Acc : 0.9942, 'Train F1 : 0.9941, Valid Loss : 0.0839, Valid Acc : 0.9795, Valid F1 : 0.978032848074776\n"
     ]
    },
    {
     "name": "stderr",
     "output_type": "stream",
     "text": [
      "Epoch [14/100], Train Loss : 0.0010: 100%|██████████| 1316/1316 [08:27<00:00,  2.60it/s]\n",
      "Epcoh [14/100] Valid Loss : 23.0601: 100%|██████████| 329/329 [01:29<00:00,  3.69it/s]\n"
     ]
    },
    {
     "name": "stdout",
     "output_type": "stream",
     "text": [
      "Epoch [14/100], Train Loss : 0.0150, Train Acc : 0.9952, 'Train F1 : 0.9951, Valid Loss : 0.0701, Valid Acc : 0.9842, Valid F1 : 0.9841432172466807\n"
     ]
    },
    {
     "name": "stderr",
     "output_type": "stream",
     "text": [
      "Epoch [15/100], Train Loss : 0.0031: 100%|██████████| 1316/1316 [08:22<00:00,  2.62it/s]\n",
      "Epcoh [15/100] Valid Loss : 15.6219: 100%|██████████| 329/329 [01:29<00:00,  3.66it/s]\n"
     ]
    },
    {
     "name": "stdout",
     "output_type": "stream",
     "text": [
      "Epoch [15/100], Train Loss : 0.0158, Train Acc : 0.9954, 'Train F1 : 0.9953, Valid Loss : 0.0475, Valid Acc : 0.9895, Valid F1 : 0.9892759065880071\n"
     ]
    },
    {
     "name": "stderr",
     "output_type": "stream",
     "text": [
      "Epoch [16/100], Train Loss : 0.0112: 100%|██████████| 1316/1316 [08:22<00:00,  2.62it/s]\n",
      "Epcoh [16/100] Valid Loss : 40.1161: 100%|██████████| 329/329 [01:28<00:00,  3.70it/s]\n"
     ]
    },
    {
     "name": "stdout",
     "output_type": "stream",
     "text": [
      "Epoch [16/100], Train Loss : 0.0149, Train Acc : 0.9953, 'Train F1 : 0.9953, Valid Loss : 0.1219, Valid Acc : 0.9773, Valid F1 : 0.9760949906405125\n"
     ]
    },
    {
     "name": "stderr",
     "output_type": "stream",
     "text": [
      "Epoch [17/100], Train Loss : 0.0070: 100%|██████████| 1316/1316 [08:22<00:00,  2.62it/s]\n",
      "Epcoh [17/100] Valid Loss : 22.8268: 100%|██████████| 329/329 [01:29<00:00,  3.69it/s]\n"
     ]
    },
    {
     "name": "stdout",
     "output_type": "stream",
     "text": [
      "Epoch [17/100], Train Loss : 0.0153, Train Acc : 0.9958, 'Train F1 : 0.9957, Valid Loss : 0.0694, Valid Acc : 0.9849, Valid F1 : 0.9848244947241434\n"
     ]
    },
    {
     "name": "stderr",
     "output_type": "stream",
     "text": [
      "Epoch [18/100], Train Loss : 0.0215: 100%|██████████| 1316/1316 [08:23<00:00,  2.62it/s]\n",
      "Epcoh [18/100] Valid Loss : 18.6173: 100%|██████████| 329/329 [01:28<00:00,  3.73it/s]\n"
     ]
    },
    {
     "name": "stdout",
     "output_type": "stream",
     "text": [
      "Epoch [18/100], Train Loss : 0.0122, Train Acc : 0.9969, 'Train F1 : 0.9969, Valid Loss : 0.0566, Valid Acc : 0.9898, Valid F1 : 0.9898513356335463\n"
     ]
    },
    {
     "name": "stderr",
     "output_type": "stream",
     "text": [
      "Epoch [19/100], Train Loss : 0.0000: 100%|██████████| 1316/1316 [08:21<00:00,  2.62it/s]\n",
      "Epcoh [19/100] Valid Loss : 42.7929: 100%|██████████| 329/329 [01:29<00:00,  3.69it/s]\n"
     ]
    },
    {
     "name": "stdout",
     "output_type": "stream",
     "text": [
      "Epoch [19/100], Train Loss : 0.0111, Train Acc : 0.9969, 'Train F1 : 0.9969, Valid Loss : 0.1301, Valid Acc : 0.9822, Valid F1 : 0.9838667167272327\n"
     ]
    },
    {
     "name": "stderr",
     "output_type": "stream",
     "text": [
      "Epoch [20/100], Train Loss : 0.0000: 100%|██████████| 1316/1316 [08:21<00:00,  2.63it/s]\n",
      "Epcoh [20/100] Valid Loss : 23.2383: 100%|██████████| 329/329 [01:28<00:00,  3.73it/s]\n"
     ]
    },
    {
     "name": "stdout",
     "output_type": "stream",
     "text": [
      "Epoch [20/100], Train Loss : 0.0171, Train Acc : 0.9951, 'Train F1 : 0.9951, Valid Loss : 0.0706, Valid Acc : 0.9837, Valid F1 : 0.9827942721502351\n"
     ]
    },
    {
     "name": "stderr",
     "output_type": "stream",
     "text": [
      "Epoch [21/100], Train Loss : 0.0020: 100%|██████████| 1316/1316 [08:21<00:00,  2.63it/s]\n",
      "Epcoh [21/100] Valid Loss : 17.6105: 100%|██████████| 329/329 [01:28<00:00,  3.71it/s]\n"
     ]
    },
    {
     "name": "stdout",
     "output_type": "stream",
     "text": [
      "Epoch [21/100], Train Loss : 0.0101, Train Acc : 0.9972, 'Train F1 : 0.9972, Valid Loss : 0.0535, Valid Acc : 0.9861, Valid F1 : 0.9855390712940639\n"
     ]
    },
    {
     "name": "stderr",
     "output_type": "stream",
     "text": [
      "Epoch [22/100], Train Loss : 0.0025: 100%|██████████| 1316/1316 [08:22<00:00,  2.62it/s]\n",
      "Epcoh [22/100] Valid Loss : 16.8155: 100%|██████████| 329/329 [01:29<00:00,  3.70it/s]\n"
     ]
    },
    {
     "name": "stdout",
     "output_type": "stream",
     "text": [
      "Epoch [22/100], Train Loss : 0.0120, Train Acc : 0.9966, 'Train F1 : 0.9966, Valid Loss : 0.0511, Valid Acc : 0.9893, Valid F1 : 0.9890523289902463\n"
     ]
    },
    {
     "name": "stderr",
     "output_type": "stream",
     "text": [
      "Epoch [23/100], Train Loss : 0.0080: 100%|██████████| 1316/1316 [08:22<00:00,  2.62it/s]\n",
      "Epcoh [23/100] Valid Loss : 18.4004: 100%|██████████| 329/329 [01:29<00:00,  3.69it/s]\n"
     ]
    },
    {
     "name": "stdout",
     "output_type": "stream",
     "text": [
      "Epoch [23/100], Train Loss : 0.0111, Train Acc : 0.9967, 'Train F1 : 0.9967, Valid Loss : 0.0559, Valid Acc : 0.9874, Valid F1 : 0.9868091019924676\n"
     ]
    },
    {
     "name": "stderr",
     "output_type": "stream",
     "text": [
      "Epoch [24/100], Train Loss : 0.0072: 100%|██████████| 1316/1316 [08:21<00:00,  2.63it/s]\n",
      "Epcoh [24/100] Valid Loss : 25.1750: 100%|██████████| 329/329 [01:28<00:00,  3.72it/s]\n"
     ]
    },
    {
     "name": "stdout",
     "output_type": "stream",
     "text": [
      "Epoch [24/100], Train Loss : 0.0081, Train Acc : 0.9979, 'Train F1 : 0.9978, Valid Loss : 0.0765, Valid Acc : 0.9843, Valid F1 : 0.9845664239621525\n"
     ]
    },
    {
     "name": "stderr",
     "output_type": "stream",
     "text": [
      "Epoch [25/100], Train Loss : 0.0001: 100%|██████████| 1316/1316 [08:21<00:00,  2.63it/s]\n",
      "Epcoh [25/100] Valid Loss : 17.4651: 100%|██████████| 329/329 [01:28<00:00,  3.71it/s]\n"
     ]
    },
    {
     "name": "stdout",
     "output_type": "stream",
     "text": [
      "Epoch [25/100], Train Loss : 0.0141, Train Acc : 0.9962, 'Train F1 : 0.9962, Valid Loss : 0.0531, Valid Acc : 0.9893, Valid F1 : 0.9891241045097608\n",
      "Early Stopping!\n",
      "effb4-3 training finish... \n",
      "================================================================================\n",
      "\n"
     ]
    },
    {
     "name": "stderr",
     "output_type": "stream",
     "text": [
      "Epoch [1/100], Train Loss : 1.5881: 100%|██████████| 1316/1316 [08:15<00:00,  2.66it/s]\n",
      "Epcoh [1/100] Valid Loss : 46.6005: 100%|██████████| 329/329 [01:39<00:00,  3.32it/s]\n"
     ]
    },
    {
     "name": "stdout",
     "output_type": "stream",
     "text": [
      "Epoch [1/100], Train Loss : 0.3111, Train Acc : 0.8971, 'Train F1 : 0.8952, Valid Loss : 0.1416, Valid Acc : 0.9463, Valid F1 : 0.9503759981205211\n"
     ]
    },
    {
     "name": "stderr",
     "output_type": "stream",
     "text": [
      "Epoch [2/100], Train Loss : 0.0611: 100%|██████████| 1316/1316 [08:15<00:00,  2.65it/s]\n",
      "Epcoh [2/100] Valid Loss : 28.9353: 100%|██████████| 329/329 [01:38<00:00,  3.34it/s]\n"
     ]
    },
    {
     "name": "stdout",
     "output_type": "stream",
     "text": [
      "Epoch [2/100], Train Loss : 0.0976, Train Acc : 0.9677, 'Train F1 : 0.9673, Valid Loss : 0.0879, Valid Acc : 0.9703, Valid F1 : 0.972380919776319\n"
     ]
    },
    {
     "name": "stderr",
     "output_type": "stream",
     "text": [
      "Epoch [3/100], Train Loss : 0.3517: 100%|██████████| 1316/1316 [08:16<00:00,  2.65it/s]\n",
      "Epcoh [3/100] Valid Loss : 21.2003: 100%|██████████| 329/329 [01:38<00:00,  3.34it/s]\n"
     ]
    },
    {
     "name": "stdout",
     "output_type": "stream",
     "text": [
      "Epoch [3/100], Train Loss : 0.0604, Train Acc : 0.9817, 'Train F1 : 0.9815, Valid Loss : 0.0644, Valid Acc : 0.9788, Valid F1 : 0.9800867907755455\n"
     ]
    },
    {
     "name": "stderr",
     "output_type": "stream",
     "text": [
      "Epoch [4/100], Train Loss : 0.0029: 100%|██████████| 1316/1316 [08:14<00:00,  2.66it/s]\n",
      "Epcoh [4/100] Valid Loss : 19.2790: 100%|██████████| 329/329 [01:38<00:00,  3.34it/s]\n"
     ]
    },
    {
     "name": "stdout",
     "output_type": "stream",
     "text": [
      "Epoch [4/100], Train Loss : 0.0501, Train Acc : 0.9841, 'Train F1 : 0.9839, Valid Loss : 0.0586, Valid Acc : 0.9802, Valid F1 : 0.9817653606718285\n"
     ]
    },
    {
     "name": "stderr",
     "output_type": "stream",
     "text": [
      "Epoch [5/100], Train Loss : 0.6653: 100%|██████████| 1316/1316 [08:14<00:00,  2.66it/s]\n",
      "Epcoh [5/100] Valid Loss : 22.0844: 100%|██████████| 329/329 [01:38<00:00,  3.34it/s]\n"
     ]
    },
    {
     "name": "stdout",
     "output_type": "stream",
     "text": [
      "Epoch [5/100], Train Loss : 0.0431, Train Acc : 0.9873, 'Train F1 : 0.9872, Valid Loss : 0.0671, Valid Acc : 0.9792, Valid F1 : 0.9808141500604982\n"
     ]
    },
    {
     "name": "stderr",
     "output_type": "stream",
     "text": [
      "Epoch [6/100], Train Loss : 0.0001: 100%|██████████| 1316/1316 [08:16<00:00,  2.65it/s]\n",
      "Epcoh [6/100] Valid Loss : 13.5700: 100%|██████████| 329/329 [01:38<00:00,  3.34it/s]\n"
     ]
    },
    {
     "name": "stdout",
     "output_type": "stream",
     "text": [
      "Epoch [6/100], Train Loss : 0.0325, Train Acc : 0.9903, 'Train F1 : 0.9902, Valid Loss : 0.0412, Valid Acc : 0.9857, Valid F1 : 0.9867096025619958\n"
     ]
    },
    {
     "name": "stderr",
     "output_type": "stream",
     "text": [
      "Epoch [7/100], Train Loss : 0.0003: 100%|██████████| 1316/1316 [08:15<00:00,  2.66it/s]\n",
      "Epcoh [7/100] Valid Loss : 9.9963: 100%|██████████| 329/329 [01:38<00:00,  3.34it/s]\n"
     ]
    },
    {
     "name": "stdout",
     "output_type": "stream",
     "text": [
      "Epoch [7/100], Train Loss : 0.0343, Train Acc : 0.9897, 'Train F1 : 0.9896, Valid Loss : 0.0304, Valid Acc : 0.9897, Valid F1 : 0.9905018957547956\n"
     ]
    },
    {
     "name": "stderr",
     "output_type": "stream",
     "text": [
      "Epoch [8/100], Train Loss : 1.0340: 100%|██████████| 1316/1316 [08:16<00:00,  2.65it/s]\n",
      "Epcoh [8/100] Valid Loss : 14.6964: 100%|██████████| 329/329 [01:38<00:00,  3.34it/s]\n"
     ]
    },
    {
     "name": "stdout",
     "output_type": "stream",
     "text": [
      "Epoch [8/100], Train Loss : 0.0259, Train Acc : 0.9926, 'Train F1 : 0.9926, Valid Loss : 0.0447, Valid Acc : 0.9876, Valid F1 : 0.9883571038409296\n"
     ]
    },
    {
     "name": "stderr",
     "output_type": "stream",
     "text": [
      "Epoch [9/100], Train Loss : 0.0034: 100%|██████████| 1316/1316 [08:16<00:00,  2.65it/s]\n",
      "Epcoh [9/100] Valid Loss : 11.1106: 100%|██████████| 329/329 [01:38<00:00,  3.34it/s]\n"
     ]
    },
    {
     "name": "stdout",
     "output_type": "stream",
     "text": [
      "Epoch [9/100], Train Loss : 0.0266, Train Acc : 0.9926, 'Train F1 : 0.9926, Valid Loss : 0.0338, Valid Acc : 0.9892, Valid F1 : 0.9898433223442604\n"
     ]
    },
    {
     "name": "stderr",
     "output_type": "stream",
     "text": [
      "Epoch [10/100], Train Loss : 2.4080: 100%|██████████| 1316/1316 [08:16<00:00,  2.65it/s]\n",
      "Epcoh [10/100] Valid Loss : 10.9521: 100%|██████████| 329/329 [01:38<00:00,  3.34it/s]\n"
     ]
    },
    {
     "name": "stdout",
     "output_type": "stream",
     "text": [
      "Epoch [10/100], Train Loss : 0.0230, Train Acc : 0.9936, 'Train F1 : 0.9936, Valid Loss : 0.0333, Valid Acc : 0.9908, Valid F1 : 0.9911656395970772\n"
     ]
    },
    {
     "name": "stderr",
     "output_type": "stream",
     "text": [
      "Epoch [11/100], Train Loss : 0.0034: 100%|██████████| 1316/1316 [08:15<00:00,  2.66it/s]\n",
      "Epcoh [11/100] Valid Loss : 10.5220: 100%|██████████| 329/329 [01:38<00:00,  3.34it/s]\n"
     ]
    },
    {
     "name": "stdout",
     "output_type": "stream",
     "text": [
      "Epoch [11/100], Train Loss : 0.0239, Train Acc : 0.9931, 'Train F1 : 0.9930, Valid Loss : 0.0320, Valid Acc : 0.9909, Valid F1 : 0.9914175504063311\n"
     ]
    },
    {
     "name": "stderr",
     "output_type": "stream",
     "text": [
      "Epoch [12/100], Train Loss : 0.7163: 100%|██████████| 1316/1316 [08:14<00:00,  2.66it/s]\n",
      "Epcoh [12/100] Valid Loss : 6.0910: 100%|██████████| 329/329 [01:38<00:00,  3.34it/s]\n"
     ]
    },
    {
     "name": "stdout",
     "output_type": "stream",
     "text": [
      "Epoch [12/100], Train Loss : 0.0180, Train Acc : 0.9947, 'Train F1 : 0.9947, Valid Loss : 0.0185, Valid Acc : 0.9938, Valid F1 : 0.9942261433290225\n"
     ]
    },
    {
     "name": "stderr",
     "output_type": "stream",
     "text": [
      "Epoch [13/100], Train Loss : 0.1893: 100%|██████████| 1316/1316 [08:15<00:00,  2.66it/s]\n",
      "Epcoh [13/100] Valid Loss : 18.0774: 100%|██████████| 329/329 [01:38<00:00,  3.34it/s]\n"
     ]
    },
    {
     "name": "stdout",
     "output_type": "stream",
     "text": [
      "Epoch [13/100], Train Loss : 0.0176, Train Acc : 0.9951, 'Train F1 : 0.9950, Valid Loss : 0.0549, Valid Acc : 0.9840, Valid F1 : 0.9850078554329249\n"
     ]
    },
    {
     "name": "stderr",
     "output_type": "stream",
     "text": [
      "Epoch [14/100], Train Loss : 0.4640: 100%|██████████| 1316/1316 [08:15<00:00,  2.65it/s]\n",
      "Epcoh [14/100] Valid Loss : 14.6058: 100%|██████████| 329/329 [01:38<00:00,  3.34it/s]\n"
     ]
    },
    {
     "name": "stdout",
     "output_type": "stream",
     "text": [
      "Epoch [14/100], Train Loss : 0.0237, Train Acc : 0.9931, 'Train F1 : 0.9931, Valid Loss : 0.0444, Valid Acc : 0.9883, Valid F1 : 0.9891850390731657\n"
     ]
    },
    {
     "name": "stderr",
     "output_type": "stream",
     "text": [
      "Epoch [15/100], Train Loss : 0.3447: 100%|██████████| 1316/1316 [08:15<00:00,  2.65it/s]\n",
      "Epcoh [15/100] Valid Loss : 7.6802: 100%|██████████| 329/329 [01:38<00:00,  3.34it/s]\n"
     ]
    },
    {
     "name": "stdout",
     "output_type": "stream",
     "text": [
      "Epoch [15/100], Train Loss : 0.0148, Train Acc : 0.9955, 'Train F1 : 0.9954, Valid Loss : 0.0233, Valid Acc : 0.9935, Valid F1 : 0.9938830859228583\n"
     ]
    },
    {
     "name": "stderr",
     "output_type": "stream",
     "text": [
      "Epoch [16/100], Train Loss : 0.0921: 100%|██████████| 1316/1316 [08:15<00:00,  2.66it/s]\n",
      "Epcoh [16/100] Valid Loss : 7.2787: 100%|██████████| 329/329 [01:38<00:00,  3.34it/s]\n"
     ]
    },
    {
     "name": "stdout",
     "output_type": "stream",
     "text": [
      "Epoch [16/100], Train Loss : 0.0160, Train Acc : 0.9954, 'Train F1 : 0.9954, Valid Loss : 0.0221, Valid Acc : 0.9938, Valid F1 : 0.9942217207781913\n"
     ]
    },
    {
     "name": "stderr",
     "output_type": "stream",
     "text": [
      "Epoch [17/100], Train Loss : 0.1027: 100%|██████████| 1316/1316 [08:15<00:00,  2.66it/s]\n",
      "Epcoh [17/100] Valid Loss : 13.0074: 100%|██████████| 329/329 [01:38<00:00,  3.34it/s]\n"
     ]
    },
    {
     "name": "stdout",
     "output_type": "stream",
     "text": [
      "Epoch [17/100], Train Loss : 0.0175, Train Acc : 0.9952, 'Train F1 : 0.9952, Valid Loss : 0.0395, Valid Acc : 0.9903, Valid F1 : 0.9910296328019579\n"
     ]
    },
    {
     "name": "stderr",
     "output_type": "stream",
     "text": [
      "Epoch [18/100], Train Loss : 0.0001: 100%|██████████| 1316/1316 [08:15<00:00,  2.66it/s]\n",
      "Epcoh [18/100] Valid Loss : 11.6134: 100%|██████████| 329/329 [01:38<00:00,  3.34it/s]\n"
     ]
    },
    {
     "name": "stdout",
     "output_type": "stream",
     "text": [
      "Epoch [18/100], Train Loss : 0.0116, Train Acc : 0.9966, 'Train F1 : 0.9965, Valid Loss : 0.0353, Valid Acc : 0.9913, Valid F1 : 0.9919169972228282\n"
     ]
    },
    {
     "name": "stderr",
     "output_type": "stream",
     "text": [
      "Epoch [19/100], Train Loss : 0.0060: 100%|██████████| 1316/1316 [08:15<00:00,  2.66it/s]\n",
      "Epcoh [19/100] Valid Loss : 11.1521: 100%|██████████| 329/329 [01:38<00:00,  3.34it/s]\n"
     ]
    },
    {
     "name": "stdout",
     "output_type": "stream",
     "text": [
      "Epoch [19/100], Train Loss : 0.0150, Train Acc : 0.9959, 'Train F1 : 0.9959, Valid Loss : 0.0339, Valid Acc : 0.9913, Valid F1 : 0.9918335189791051\n"
     ]
    },
    {
     "name": "stderr",
     "output_type": "stream",
     "text": [
      "Epoch [20/100], Train Loss : 0.8187: 100%|██████████| 1316/1316 [08:15<00:00,  2.66it/s]\n",
      "Epcoh [20/100] Valid Loss : 10.4150: 100%|██████████| 329/329 [01:38<00:00,  3.33it/s]\n"
     ]
    },
    {
     "name": "stdout",
     "output_type": "stream",
     "text": [
      "Epoch [20/100], Train Loss : 0.0150, Train Acc : 0.9958, 'Train F1 : 0.9958, Valid Loss : 0.0317, Valid Acc : 0.9907, Valid F1 : 0.9913209754106058\n"
     ]
    },
    {
     "name": "stderr",
     "output_type": "stream",
     "text": [
      "Epoch [21/100], Train Loss : 0.3378: 100%|██████████| 1316/1316 [08:15<00:00,  2.66it/s]\n",
      "Epcoh [21/100] Valid Loss : 9.9750: 100%|██████████| 329/329 [01:38<00:00,  3.34it/s]\n"
     ]
    },
    {
     "name": "stdout",
     "output_type": "stream",
     "text": [
      "Epoch [21/100], Train Loss : 0.0126, Train Acc : 0.9964, 'Train F1 : 0.9963, Valid Loss : 0.0303, Valid Acc : 0.9913, Valid F1 : 0.9918107802638393\n"
     ]
    },
    {
     "name": "stderr",
     "output_type": "stream",
     "text": [
      "Epoch [22/100], Train Loss : 0.0000: 100%|██████████| 1316/1316 [08:15<00:00,  2.66it/s]\n",
      "Epcoh [22/100] Valid Loss : 8.0441: 100%|██████████| 329/329 [01:38<00:00,  3.34it/s]\n"
     ]
    },
    {
     "name": "stdout",
     "output_type": "stream",
     "text": [
      "Epoch [22/100], Train Loss : 0.0085, Train Acc : 0.9975, 'Train F1 : 0.9975, Valid Loss : 0.0245, Valid Acc : 0.9919, Valid F1 : 0.9925084827763113\n",
      "Early Stopping!\n",
      "effb4-4 training finish... \n",
      "================================================================================\n",
      "\n"
     ]
    },
    {
     "name": "stderr",
     "output_type": "stream",
     "text": [
      "Epoch [1/100], Train Loss : 0.0481: 100%|██████████| 1316/1316 [08:15<00:00,  2.66it/s]\n",
      "Epcoh [1/100] Valid Loss : 34.8675: 100%|██████████| 329/329 [01:38<00:00,  3.34it/s]\n"
     ]
    },
    {
     "name": "stdout",
     "output_type": "stream",
     "text": [
      "Epoch [1/100], Train Loss : 0.3127, Train Acc : 0.8936, 'Train F1 : 0.8936, Valid Loss : 0.1060, Valid Acc : 0.9625, Valid F1 : 0.9613217807768064\n"
     ]
    },
    {
     "name": "stderr",
     "output_type": "stream",
     "text": [
      "Epoch [2/100], Train Loss : 0.0379: 100%|██████████| 1316/1316 [08:15<00:00,  2.66it/s]\n",
      "Epcoh [2/100] Valid Loss : 25.1285: 100%|██████████| 329/329 [01:38<00:00,  3.34it/s]\n"
     ]
    },
    {
     "name": "stdout",
     "output_type": "stream",
     "text": [
      "Epoch [2/100], Train Loss : 0.0944, Train Acc : 0.9680, 'Train F1 : 0.9683, Valid Loss : 0.0764, Valid Acc : 0.9719, Valid F1 : 0.9710284190824677\n"
     ]
    },
    {
     "name": "stderr",
     "output_type": "stream",
     "text": [
      "Epoch [3/100], Train Loss : 1.4471: 100%|██████████| 1316/1316 [08:15<00:00,  2.66it/s]\n",
      "Epcoh [3/100] Valid Loss : 16.9029: 100%|██████████| 329/329 [01:38<00:00,  3.34it/s]\n"
     ]
    },
    {
     "name": "stdout",
     "output_type": "stream",
     "text": [
      "Epoch [3/100], Train Loss : 0.0688, Train Acc : 0.9778, 'Train F1 : 0.9779, Valid Loss : 0.0514, Valid Acc : 0.9831, Valid F1 : 0.9823268839688055\n"
     ]
    },
    {
     "name": "stderr",
     "output_type": "stream",
     "text": [
      "Epoch [4/100], Train Loss : 0.1520: 100%|██████████| 1316/1316 [08:15<00:00,  2.66it/s]\n",
      "Epcoh [4/100] Valid Loss : 14.8539: 100%|██████████| 329/329 [01:38<00:00,  3.34it/s]\n"
     ]
    },
    {
     "name": "stdout",
     "output_type": "stream",
     "text": [
      "Epoch [4/100], Train Loss : 0.0479, Train Acc : 0.9851, 'Train F1 : 0.9851, Valid Loss : 0.0451, Valid Acc : 0.9867, Valid F1 : 0.9862943135225372\n"
     ]
    },
    {
     "name": "stderr",
     "output_type": "stream",
     "text": [
      "Epoch [5/100], Train Loss : 0.2072: 100%|██████████| 1316/1316 [08:15<00:00,  2.66it/s]\n",
      "Epcoh [5/100] Valid Loss : 16.5137: 100%|██████████| 329/329 [01:38<00:00,  3.34it/s]\n"
     ]
    },
    {
     "name": "stdout",
     "output_type": "stream",
     "text": [
      "Epoch [5/100], Train Loss : 0.0462, Train Acc : 0.9860, 'Train F1 : 0.9861, Valid Loss : 0.0502, Valid Acc : 0.9837, Valid F1 : 0.9832250735805889\n"
     ]
    },
    {
     "name": "stderr",
     "output_type": "stream",
     "text": [
      "Epoch [6/100], Train Loss : 0.0031: 100%|██████████| 1316/1316 [08:14<00:00,  2.66it/s]\n",
      "Epcoh [6/100] Valid Loss : 10.5275: 100%|██████████| 329/329 [01:38<00:00,  3.34it/s]\n"
     ]
    },
    {
     "name": "stdout",
     "output_type": "stream",
     "text": [
      "Epoch [6/100], Train Loss : 0.0337, Train Acc : 0.9899, 'Train F1 : 0.9900, Valid Loss : 0.0320, Valid Acc : 0.9906, Valid F1 : 0.9902443672729149\n"
     ]
    },
    {
     "name": "stderr",
     "output_type": "stream",
     "text": [
      "Epoch [7/100], Train Loss : 0.0002: 100%|██████████| 1316/1316 [08:15<00:00,  2.66it/s]\n",
      "Epcoh [7/100] Valid Loss : 11.7867: 100%|██████████| 329/329 [01:38<00:00,  3.34it/s]\n"
     ]
    },
    {
     "name": "stdout",
     "output_type": "stream",
     "text": [
      "Epoch [7/100], Train Loss : 0.0348, Train Acc : 0.9901, 'Train F1 : 0.9901, Valid Loss : 0.0358, Valid Acc : 0.9894, Valid F1 : 0.9890696389161804\n"
     ]
    },
    {
     "name": "stderr",
     "output_type": "stream",
     "text": [
      "Epoch [8/100], Train Loss : 0.0024: 100%|██████████| 1316/1316 [08:15<00:00,  2.66it/s]\n",
      "Epcoh [8/100] Valid Loss : 14.4730: 100%|██████████| 329/329 [01:38<00:00,  3.34it/s]\n"
     ]
    },
    {
     "name": "stdout",
     "output_type": "stream",
     "text": [
      "Epoch [8/100], Train Loss : 0.0291, Train Acc : 0.9912, 'Train F1 : 0.9912, Valid Loss : 0.0440, Valid Acc : 0.9860, Valid F1 : 0.9859851988939774\n"
     ]
    },
    {
     "name": "stderr",
     "output_type": "stream",
     "text": [
      "Epoch [9/100], Train Loss : 0.7066: 100%|██████████| 1316/1316 [08:15<00:00,  2.65it/s]\n",
      "Epcoh [9/100] Valid Loss : 8.0114: 100%|██████████| 329/329 [01:38<00:00,  3.34it/s]\n"
     ]
    },
    {
     "name": "stdout",
     "output_type": "stream",
     "text": [
      "Epoch [9/100], Train Loss : 0.0272, Train Acc : 0.9919, 'Train F1 : 0.9920, Valid Loss : 0.0244, Valid Acc : 0.9924, Valid F1 : 0.9921231027082439\n"
     ]
    },
    {
     "name": "stderr",
     "output_type": "stream",
     "text": [
      "Epoch [10/100], Train Loss : 0.0084: 100%|██████████| 1316/1316 [08:15<00:00,  2.66it/s]\n",
      "Epcoh [10/100] Valid Loss : 7.9331: 100%|██████████| 329/329 [01:38<00:00,  3.34it/s]\n"
     ]
    },
    {
     "name": "stdout",
     "output_type": "stream",
     "text": [
      "Epoch [10/100], Train Loss : 0.0245, Train Acc : 0.9930, 'Train F1 : 0.9931, Valid Loss : 0.0241, Valid Acc : 0.9927, Valid F1 : 0.9924758141659692\n"
     ]
    },
    {
     "name": "stderr",
     "output_type": "stream",
     "text": [
      "Epoch [11/100], Train Loss : 1.4305: 100%|██████████| 1316/1316 [08:15<00:00,  2.66it/s]\n",
      "Epcoh [11/100] Valid Loss : 9.9789: 100%|██████████| 329/329 [01:38<00:00,  3.34it/s]\n"
     ]
    },
    {
     "name": "stdout",
     "output_type": "stream",
     "text": [
      "Epoch [11/100], Train Loss : 0.0176, Train Acc : 0.9948, 'Train F1 : 0.9948, Valid Loss : 0.0303, Valid Acc : 0.9914, Valid F1 : 0.9913670843930059\n"
     ]
    },
    {
     "name": "stderr",
     "output_type": "stream",
     "text": [
      "Epoch [12/100], Train Loss : 0.2971: 100%|██████████| 1316/1316 [08:15<00:00,  2.66it/s]\n",
      "Epcoh [12/100] Valid Loss : 8.4449: 100%|██████████| 329/329 [01:38<00:00,  3.34it/s]\n"
     ]
    },
    {
     "name": "stdout",
     "output_type": "stream",
     "text": [
      "Epoch [12/100], Train Loss : 0.0246, Train Acc : 0.9926, 'Train F1 : 0.9926, Valid Loss : 0.0257, Valid Acc : 0.9918, Valid F1 : 0.9917621190750038\n"
     ]
    },
    {
     "name": "stderr",
     "output_type": "stream",
     "text": [
      "Epoch [13/100], Train Loss : 0.0256: 100%|██████████| 1316/1316 [08:15<00:00,  2.66it/s]\n",
      "Epcoh [13/100] Valid Loss : 9.7581: 100%|██████████| 329/329 [01:38<00:00,  3.34it/s]\n"
     ]
    },
    {
     "name": "stdout",
     "output_type": "stream",
     "text": [
      "Epoch [13/100], Train Loss : 0.0218, Train Acc : 0.9935, 'Train F1 : 0.9935, Valid Loss : 0.0297, Valid Acc : 0.9910, Valid F1 : 0.9906505996396104\n"
     ]
    },
    {
     "name": "stderr",
     "output_type": "stream",
     "text": [
      "Epoch [14/100], Train Loss : 0.0208: 100%|██████████| 1316/1316 [08:15<00:00,  2.66it/s]\n",
      "Epcoh [14/100] Valid Loss : 12.4585: 100%|██████████| 329/329 [01:38<00:00,  3.34it/s]\n"
     ]
    },
    {
     "name": "stdout",
     "output_type": "stream",
     "text": [
      "Epoch [14/100], Train Loss : 0.0174, Train Acc : 0.9952, 'Train F1 : 0.9952, Valid Loss : 0.0379, Valid Acc : 0.9888, Valid F1 : 0.9887373914371915\n"
     ]
    },
    {
     "name": "stderr",
     "output_type": "stream",
     "text": [
      "Epoch [15/100], Train Loss : 0.0012: 100%|██████████| 1316/1316 [08:15<00:00,  2.65it/s]\n",
      "Epcoh [15/100] Valid Loss : 11.5722: 100%|██████████| 329/329 [01:38<00:00,  3.34it/s]\n"
     ]
    },
    {
     "name": "stdout",
     "output_type": "stream",
     "text": [
      "Epoch [15/100], Train Loss : 0.0133, Train Acc : 0.9961, 'Train F1 : 0.9961, Valid Loss : 0.0352, Valid Acc : 0.9896, Valid F1 : 0.9894912281391713\n"
     ]
    },
    {
     "name": "stderr",
     "output_type": "stream",
     "text": [
      "Epoch [16/100], Train Loss : 0.0026: 100%|██████████| 1316/1316 [08:15<00:00,  2.65it/s]\n",
      "Epcoh [16/100] Valid Loss : 9.5690: 100%|██████████| 329/329 [01:38<00:00,  3.34it/s]\n"
     ]
    },
    {
     "name": "stdout",
     "output_type": "stream",
     "text": [
      "Epoch [16/100], Train Loss : 0.0161, Train Acc : 0.9956, 'Train F1 : 0.9956, Valid Loss : 0.0291, Valid Acc : 0.9922, Valid F1 : 0.9920048898877056\n"
     ]
    },
    {
     "name": "stderr",
     "output_type": "stream",
     "text": [
      "Epoch [17/100], Train Loss : 0.0002: 100%|██████████| 1316/1316 [08:15<00:00,  2.66it/s]\n",
      "Epcoh [17/100] Valid Loss : 10.3394: 100%|██████████| 329/329 [01:38<00:00,  3.34it/s]\n"
     ]
    },
    {
     "name": "stdout",
     "output_type": "stream",
     "text": [
      "Epoch [17/100], Train Loss : 0.0195, Train Acc : 0.9942, 'Train F1 : 0.9942, Valid Loss : 0.0314, Valid Acc : 0.9920, Valid F1 : 0.9919090820955522\n"
     ]
    },
    {
     "name": "stderr",
     "output_type": "stream",
     "text": [
      "Epoch [18/100], Train Loss : 0.0002: 100%|██████████| 1316/1316 [08:15<00:00,  2.66it/s]\n",
      "Epcoh [18/100] Valid Loss : 6.9211: 100%|██████████| 329/329 [01:38<00:00,  3.34it/s]\n"
     ]
    },
    {
     "name": "stdout",
     "output_type": "stream",
     "text": [
      "Epoch [18/100], Train Loss : 0.0127, Train Acc : 0.9962, 'Train F1 : 0.9962, Valid Loss : 0.0210, Valid Acc : 0.9942, Valid F1 : 0.993977715273369\n"
     ]
    },
    {
     "name": "stderr",
     "output_type": "stream",
     "text": [
      "Epoch [19/100], Train Loss : 0.0344: 100%|██████████| 1316/1316 [08:15<00:00,  2.66it/s]\n",
      "Epcoh [19/100] Valid Loss : 10.6715: 100%|██████████| 329/329 [01:38<00:00,  3.34it/s]\n"
     ]
    },
    {
     "name": "stdout",
     "output_type": "stream",
     "text": [
      "Epoch [19/100], Train Loss : 0.0139, Train Acc : 0.9962, 'Train F1 : 0.9962, Valid Loss : 0.0324, Valid Acc : 0.9902, Valid F1 : 0.9898570695214275\n"
     ]
    },
    {
     "name": "stderr",
     "output_type": "stream",
     "text": [
      "Epoch [20/100], Train Loss : 0.0013: 100%|██████████| 1316/1316 [08:16<00:00,  2.65it/s]\n",
      "Epcoh [20/100] Valid Loss : 9.0048: 100%|██████████| 329/329 [01:38<00:00,  3.34it/s]\n"
     ]
    },
    {
     "name": "stdout",
     "output_type": "stream",
     "text": [
      "Epoch [20/100], Train Loss : 0.0133, Train Acc : 0.9963, 'Train F1 : 0.9963, Valid Loss : 0.0274, Valid Acc : 0.9924, Valid F1 : 0.9921656702871398\n"
     ]
    },
    {
     "name": "stderr",
     "output_type": "stream",
     "text": [
      "Epoch [21/100], Train Loss : 0.0001: 100%|██████████| 1316/1316 [08:15<00:00,  2.66it/s]\n",
      "Epcoh [21/100] Valid Loss : 7.4295: 100%|██████████| 329/329 [01:38<00:00,  3.33it/s]\n"
     ]
    },
    {
     "name": "stdout",
     "output_type": "stream",
     "text": [
      "Epoch [21/100], Train Loss : 0.0146, Train Acc : 0.9959, 'Train F1 : 0.9959, Valid Loss : 0.0226, Valid Acc : 0.9930, Valid F1 : 0.9926156483428696\n"
     ]
    },
    {
     "name": "stderr",
     "output_type": "stream",
     "text": [
      "Epoch [22/100], Train Loss : 0.0540: 100%|██████████| 1316/1316 [08:15<00:00,  2.66it/s]\n",
      "Epcoh [22/100] Valid Loss : 9.5137: 100%|██████████| 329/329 [01:38<00:00,  3.34it/s]\n"
     ]
    },
    {
     "name": "stdout",
     "output_type": "stream",
     "text": [
      "Epoch [22/100], Train Loss : 0.0090, Train Acc : 0.9975, 'Train F1 : 0.9975, Valid Loss : 0.0289, Valid Acc : 0.9933, Valid F1 : 0.9931200690409044\n"
     ]
    },
    {
     "name": "stderr",
     "output_type": "stream",
     "text": [
      "Epoch [23/100], Train Loss : 1.6063: 100%|██████████| 1316/1316 [08:15<00:00,  2.66it/s]\n",
      "Epcoh [23/100] Valid Loss : 7.4174: 100%|██████████| 329/329 [01:38<00:00,  3.34it/s]\n"
     ]
    },
    {
     "name": "stdout",
     "output_type": "stream",
     "text": [
      "Epoch [23/100], Train Loss : 0.0159, Train Acc : 0.9956, 'Train F1 : 0.9956, Valid Loss : 0.0225, Valid Acc : 0.9938, Valid F1 : 0.9936569201870523\n"
     ]
    },
    {
     "name": "stderr",
     "output_type": "stream",
     "text": [
      "Epoch [24/100], Train Loss : 0.0002: 100%|██████████| 1316/1316 [08:15<00:00,  2.66it/s]\n",
      "Epcoh [24/100] Valid Loss : 6.3423: 100%|██████████| 329/329 [01:38<00:00,  3.34it/s]\n"
     ]
    },
    {
     "name": "stdout",
     "output_type": "stream",
     "text": [
      "Epoch [24/100], Train Loss : 0.0105, Train Acc : 0.9969, 'Train F1 : 0.9969, Valid Loss : 0.0193, Valid Acc : 0.9951, Valid F1 : 0.994917724716277\n"
     ]
    },
    {
     "name": "stderr",
     "output_type": "stream",
     "text": [
      "Epoch [25/100], Train Loss : 0.1972: 100%|██████████| 1316/1316 [08:14<00:00,  2.66it/s]\n",
      "Epcoh [25/100] Valid Loss : 9.6061: 100%|██████████| 329/329 [01:38<00:00,  3.34it/s]\n"
     ]
    },
    {
     "name": "stdout",
     "output_type": "stream",
     "text": [
      "Epoch [25/100], Train Loss : 0.0105, Train Acc : 0.9969, 'Train F1 : 0.9969, Valid Loss : 0.0292, Valid Acc : 0.9928, Valid F1 : 0.9927495857509557\n"
     ]
    },
    {
     "name": "stderr",
     "output_type": "stream",
     "text": [
      "Epoch [26/100], Train Loss : 0.3220: 100%|██████████| 1316/1316 [08:15<00:00,  2.66it/s]\n",
      "Epcoh [26/100] Valid Loss : 4.5526: 100%|██████████| 329/329 [01:38<00:00,  3.34it/s]\n"
     ]
    },
    {
     "name": "stdout",
     "output_type": "stream",
     "text": [
      "Epoch [26/100], Train Loss : 0.0123, Train Acc : 0.9965, 'Train F1 : 0.9965, Valid Loss : 0.0138, Valid Acc : 0.9952, Valid F1 : 0.9950260095904241\n"
     ]
    },
    {
     "name": "stderr",
     "output_type": "stream",
     "text": [
      "Epoch [27/100], Train Loss : 0.0001: 100%|██████████| 1316/1316 [08:15<00:00,  2.65it/s]\n",
      "Epcoh [27/100] Valid Loss : 6.6280: 100%|██████████| 329/329 [01:38<00:00,  3.34it/s]\n"
     ]
    },
    {
     "name": "stdout",
     "output_type": "stream",
     "text": [
      "Epoch [27/100], Train Loss : 0.0109, Train Acc : 0.9970, 'Train F1 : 0.9970, Valid Loss : 0.0201, Valid Acc : 0.9952, Valid F1 : 0.9951426250922079\n"
     ]
    },
    {
     "name": "stderr",
     "output_type": "stream",
     "text": [
      "Epoch [28/100], Train Loss : 0.0020: 100%|██████████| 1316/1316 [08:14<00:00,  2.66it/s]\n",
      "Epcoh [28/100] Valid Loss : 8.0945: 100%|██████████| 329/329 [01:38<00:00,  3.34it/s]\n"
     ]
    },
    {
     "name": "stdout",
     "output_type": "stream",
     "text": [
      "Epoch [28/100], Train Loss : 0.0116, Train Acc : 0.9969, 'Train F1 : 0.9969, Valid Loss : 0.0246, Valid Acc : 0.9932, Valid F1 : 0.9930573617560924\n"
     ]
    },
    {
     "name": "stderr",
     "output_type": "stream",
     "text": [
      "Epoch [29/100], Train Loss : 0.0000: 100%|██████████| 1316/1316 [08:16<00:00,  2.65it/s]\n",
      "Epcoh [29/100] Valid Loss : 7.0755: 100%|██████████| 329/329 [01:38<00:00,  3.34it/s]\n"
     ]
    },
    {
     "name": "stdout",
     "output_type": "stream",
     "text": [
      "Epoch [29/100], Train Loss : 0.0101, Train Acc : 0.9975, 'Train F1 : 0.9975, Valid Loss : 0.0215, Valid Acc : 0.9949, Valid F1 : 0.99462840518573\n"
     ]
    },
    {
     "name": "stderr",
     "output_type": "stream",
     "text": [
      "Epoch [30/100], Train Loss : 0.0180: 100%|██████████| 1316/1316 [08:15<00:00,  2.66it/s]\n",
      "Epcoh [30/100] Valid Loss : 4.8145: 100%|██████████| 329/329 [01:38<00:00,  3.34it/s]\n"
     ]
    },
    {
     "name": "stdout",
     "output_type": "stream",
     "text": [
      "Epoch [30/100], Train Loss : 0.0100, Train Acc : 0.9973, 'Train F1 : 0.9973, Valid Loss : 0.0146, Valid Acc : 0.9952, Valid F1 : 0.9949815377948011\n"
     ]
    },
    {
     "name": "stderr",
     "output_type": "stream",
     "text": [
      "Epoch [31/100], Train Loss : 0.3215: 100%|██████████| 1316/1316 [08:15<00:00,  2.65it/s]\n",
      "Epcoh [31/100] Valid Loss : 7.8198: 100%|██████████| 329/329 [01:38<00:00,  3.34it/s]\n"
     ]
    },
    {
     "name": "stdout",
     "output_type": "stream",
     "text": [
      "Epoch [31/100], Train Loss : 0.0096, Train Acc : 0.9970, 'Train F1 : 0.9970, Valid Loss : 0.0238, Valid Acc : 0.9934, Valid F1 : 0.9933203145866843\n"
     ]
    },
    {
     "name": "stderr",
     "output_type": "stream",
     "text": [
      "Epoch [32/100], Train Loss : 0.0000: 100%|██████████| 1316/1316 [08:15<00:00,  2.66it/s]\n",
      "Epcoh [32/100] Valid Loss : 5.4530: 100%|██████████| 329/329 [01:38<00:00,  3.34it/s]\n"
     ]
    },
    {
     "name": "stdout",
     "output_type": "stream",
     "text": [
      "Epoch [32/100], Train Loss : 0.0076, Train Acc : 0.9977, 'Train F1 : 0.9977, Valid Loss : 0.0166, Valid Acc : 0.9953, Valid F1 : 0.9953006552437955\n"
     ]
    },
    {
     "name": "stderr",
     "output_type": "stream",
     "text": [
      "Epoch [33/100], Train Loss : 0.0001: 100%|██████████| 1316/1316 [08:15<00:00,  2.66it/s]\n",
      "Epcoh [33/100] Valid Loss : 7.0851: 100%|██████████| 329/329 [01:38<00:00,  3.34it/s]\n"
     ]
    },
    {
     "name": "stdout",
     "output_type": "stream",
     "text": [
      "Epoch [33/100], Train Loss : 0.0078, Train Acc : 0.9978, 'Train F1 : 0.9978, Valid Loss : 0.0215, Valid Acc : 0.9943, Valid F1 : 0.9942231957871004\n"
     ]
    },
    {
     "name": "stderr",
     "output_type": "stream",
     "text": [
      "Epoch [34/100], Train Loss : 1.1851: 100%|██████████| 1316/1316 [08:15<00:00,  2.65it/s]\n",
      "Epcoh [34/100] Valid Loss : 9.4731: 100%|██████████| 329/329 [01:38<00:00,  3.33it/s]\n"
     ]
    },
    {
     "name": "stdout",
     "output_type": "stream",
     "text": [
      "Epoch [34/100], Train Loss : 0.0093, Train Acc : 0.9976, 'Train F1 : 0.9976, Valid Loss : 0.0288, Valid Acc : 0.9925, Valid F1 : 0.9923108153465838\n"
     ]
    },
    {
     "name": "stderr",
     "output_type": "stream",
     "text": [
      "Epoch [35/100], Train Loss : 0.1382: 100%|██████████| 1316/1316 [08:15<00:00,  2.66it/s]\n",
      "Epcoh [35/100] Valid Loss : 10.9991: 100%|██████████| 329/329 [01:38<00:00,  3.34it/s]\n"
     ]
    },
    {
     "name": "stdout",
     "output_type": "stream",
     "text": [
      "Epoch [35/100], Train Loss : 0.0082, Train Acc : 0.9977, 'Train F1 : 0.9977, Valid Loss : 0.0334, Valid Acc : 0.9928, Valid F1 : 0.9927432197010596\n"
     ]
    },
    {
     "name": "stderr",
     "output_type": "stream",
     "text": [
      "Epoch [36/100], Train Loss : 0.0120: 100%|██████████| 1316/1316 [08:15<00:00,  2.66it/s]\n",
      "Epcoh [36/100] Valid Loss : 8.7833: 100%|██████████| 329/329 [01:38<00:00,  3.34it/s]"
     ]
    },
    {
     "name": "stdout",
     "output_type": "stream",
     "text": [
      "Epoch [36/100], Train Loss : 0.0088, Train Acc : 0.9975, 'Train F1 : 0.9975, Valid Loss : 0.0267, Valid Acc : 0.9935, Valid F1 : 0.9932363355854712\n",
      "Early Stopping!\n",
      "effb4-5 training finish... \n",
      "================================================================================\n",
      "\n"
     ]
    },
    {
     "name": "stderr",
     "output_type": "stream",
     "text": [
      "\n"
     ]
    }
   ],
   "source": [
    "\n",
    "# Define K-fold cross-validation parameters\n",
    "n_splits = 5\n",
    "kf = KFold(n_splits=n_splits)\n",
    "\n",
    "# Initialize empty list to store models\n",
    "models = []\n",
    "\n",
    "# Define training parameters\n",
    "lr = 0.001\n",
    "epochs = 10\n",
    "batch_size = 32\n",
    "\n",
    "model_number = 1\n",
    "\n",
    "# Perform K-fold cross-validation\n",
    "for train_index, val_index in kf.split(train_dataset):\n",
    "    train_sampler = torch.utils.data.SubsetRandomSampler(train_index)\n",
    "    val_sampler = torch.utils.data.SubsetRandomSampler(val_index)\n",
    "\n",
    "    train_dataloader = DataLoader(train_dataset, batch_size=batch_size, sampler=train_sampler)\n",
    "    valid_dataloader = DataLoader(train_dataset, batch_size=batch_size, sampler=val_sampler)\n",
    "\n",
    "    model = timm.create_model('efficientnet_b4', pretrained=True)\n",
    "    in_features = model.classifier.in_features\n",
    "    classifier = nn.Sequential(\n",
    "    nn.Linear(in_features, 1024),\n",
    "    nn.BatchNorm1d(1024),\n",
    "    nn.SiLU(),\n",
    "    nn.Dropout(p=0.2),\n",
    "    nn.Linear(1024, 512),\n",
    "    nn.BatchNorm1d(512),\n",
    "    nn.SiLU(),\n",
    "    nn.Dropout(p=0.2),\n",
    "    nn.Linear(512, 256),\n",
    "    nn.BatchNorm1d(256),\n",
    "    nn.SiLU(),\n",
    "    nn.Dropout(p=0.2),\n",
    "    nn.Linear(256, 17),\n",
    "    )\n",
    "\n",
    "    model.classifier = classifier\n",
    "\n",
    "\n",
    "    device = torch.device('cuda' if torch.cuda.is_available() else 'cpu')\n",
    "    model = model.to(device)\n",
    "    criterion = nn.CrossEntropyLoss()\n",
    "    optimizer = torch.optim.Adam(model.parameters(), lr=0.001)\n",
    "    num_epochs = 100\n",
    "    batch_size=32\n",
    "    model_path = '/data/ephemeral/home/models'\n",
    "\n",
    "    model_name = f'effb4-{model_number}'\n",
    "\n",
    "    model, valid_max_accuracy, valid_max_f1 = training_loop(model, \n",
    "                                                            train_dataloader, \n",
    "                                                            valid_dataloader, \n",
    "                                                            criterion, \n",
    "                                                            optimizer, \n",
    "                                                            device, \n",
    "                                                            num_epochs, \n",
    "                                                            model_path, \n",
    "                                                            model_name, \n",
    "                                                            10)\n",
    "    \n",
    "    print(f'{model_name} training finish... ')\n",
    "    print('='*80)\n",
    "    print()\n",
    "    \n",
    "    model_number += 1\n",
    "\n",
    "    models.append(model)\n",
    "\n"
   ]
  },
  {
   "cell_type": "code",
   "execution_count": 11,
   "metadata": {},
   "outputs": [
    {
     "name": "stderr",
     "output_type": "stream",
     "text": [
      "100%|██████████| 99/99 [00:30<00:00,  3.29it/s]\n"
     ]
    },
    {
     "name": "stdout",
     "output_type": "stream",
     "text": [
      "model 1 inference finish... \n",
      "================================================================================\n",
      "\n"
     ]
    },
    {
     "name": "stderr",
     "output_type": "stream",
     "text": [
      "100%|██████████| 99/99 [00:29<00:00,  3.37it/s]\n"
     ]
    },
    {
     "name": "stdout",
     "output_type": "stream",
     "text": [
      "model 2 inference finish... \n",
      "================================================================================\n",
      "\n"
     ]
    },
    {
     "name": "stderr",
     "output_type": "stream",
     "text": [
      "100%|██████████| 99/99 [00:29<00:00,  3.36it/s]\n"
     ]
    },
    {
     "name": "stdout",
     "output_type": "stream",
     "text": [
      "model 3 inference finish... \n",
      "================================================================================\n",
      "\n"
     ]
    },
    {
     "name": "stderr",
     "output_type": "stream",
     "text": [
      "100%|██████████| 99/99 [00:29<00:00,  3.36it/s]\n"
     ]
    },
    {
     "name": "stdout",
     "output_type": "stream",
     "text": [
      "model 4 inference finish... \n",
      "================================================================================\n",
      "\n"
     ]
    },
    {
     "name": "stderr",
     "output_type": "stream",
     "text": [
      "100%|██████████| 99/99 [00:29<00:00,  3.36it/s]"
     ]
    },
    {
     "name": "stdout",
     "output_type": "stream",
     "text": [
      "model 5 inference finish... \n",
      "================================================================================\n",
      "\n"
     ]
    },
    {
     "name": "stderr",
     "output_type": "stream",
     "text": [
      "\n"
     ]
    }
   ],
   "source": [
    "preds_lists = []\n",
    "idx = 1\n",
    "\n",
    "for model in models:\n",
    "    preds_list = []\n",
    "    for images, labels in tqdm(test_dataloader):\n",
    "        images = images.type(torch.cuda.FloatTensor)\n",
    "        images = images.to(device)\n",
    "\n",
    "        with torch.no_grad():\n",
    "            preds = model(images)\n",
    "        preds_list.extend(preds.argmax(dim=1).detach().cpu().numpy())\n",
    "    preds_lists.append(preds_list)\n",
    "    \n",
    "    print(f'model {idx} inference finish... ')\n",
    "    print('='*80)\n",
    "    print()\n",
    "    idx += 1"
   ]
  },
  {
   "cell_type": "code",
   "execution_count": 12,
   "metadata": {},
   "outputs": [],
   "source": [
    "pred_df = pd.read_csv(\"/data/ephemeral/home/data/sample_submission.csv\")\n",
    "\n",
    "pred_columns = ['t1', 't2', 't3', 't4', 't5']\n",
    "for i in range(5):\n",
    "    pred_df[pred_columns[i]] = preds_lists[i]"
   ]
  },
  {
   "cell_type": "code",
   "execution_count": 13,
   "metadata": {},
   "outputs": [],
   "source": [
    "pred_df.to_csv('/data/ephemeral/home/submission/ensemble_total.csv', index=False)"
   ]
  }
 ],
 "metadata": {
  "kernelspec": {
   "display_name": "base",
   "language": "python",
   "name": "python3"
  },
  "language_info": {
   "codemirror_mode": {
    "name": "ipython",
    "version": 3
   },
   "file_extension": ".py",
   "mimetype": "text/x-python",
   "name": "python",
   "nbconvert_exporter": "python",
   "pygments_lexer": "ipython3",
   "version": "3.10.13"
  }
 },
 "nbformat": 4,
 "nbformat_minor": 2
}
