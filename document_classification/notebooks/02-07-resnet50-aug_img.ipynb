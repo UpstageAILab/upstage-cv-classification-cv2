{
 "cells": [
  {
   "cell_type": "markdown",
   "metadata": {},
   "source": [
    "## 1. 라이브러리 불러오기"
   ]
  },
  {
   "cell_type": "code",
   "execution_count": 1,
   "metadata": {},
   "outputs": [],
   "source": [
    "import sys\n",
    "import glob\n",
    "import cv2\n",
    "import numpy as np\n",
    "\n",
    "from tqdm import tqdm\n",
    "\n",
    "import torch\n",
    "import torch.nn as nn\n",
    "import torch.nn.functional as F\n",
    "from torch.utils.data import Dataset, DataLoader, Subset\n",
    "from torchvision import transforms, utils, datasets, models\n",
    "from torch.nn.modules.loss import BCEWithLogitsLoss\n",
    "from torch.optim import lr_scheduler\n",
    "\n",
    "from torch.autograd import Variable\n",
    "\n",
    "from matplotlib import pyplot as plt\n",
    "from time import time\n",
    "\n",
    "import os\n",
    "import time\n",
    "import random\n",
    "\n",
    "import timm\n",
    "import torch\n",
    "import albumentations as A\n",
    "import pandas as pd\n",
    "import numpy as np\n",
    "import torch.nn as nn\n",
    "from albumentations.pytorch import ToTensorV2\n",
    "from torch.optim import Adam\n",
    "from torchvision import transforms\n",
    "from torch.utils.data import Dataset, DataLoader\n",
    "from PIL import Image\n",
    "from tqdm import tqdm\n",
    "from sklearn.metrics import accuracy_score, f1_score\n",
    "from sklearn.model_selection import KFold\n",
    "\n",
    "import wandb\n",
    "\n",
    "from augraphy import *"
   ]
  },
  {
   "cell_type": "code",
   "execution_count": 2,
   "metadata": {},
   "outputs": [],
   "source": [
    "meta_path = '/data/ephemeral/home/upstage_cv/data/meta.csv'\n",
    "train_path = '/data/ephemeral/home/upstage_cv/data/train.csv'\n",
    "submission_path = '/data/ephemeral/home/upstage_cv/data/sample_submission.csv'\n",
    "\n",
    "meta_data = pd.read_csv(meta_path)\n",
    "df_train = pd.read_csv(train_path)\n",
    "df_submission = pd.read_csv(submission_path)\n",
    "\n",
    "merge = pd.merge(df_train, meta_data, how='inner')"
   ]
  },
  {
   "cell_type": "code",
   "execution_count": 3,
   "metadata": {},
   "outputs": [],
   "source": [
    "# 시드를 고정합니다.\n",
    "SEED = 42\n",
    "os.environ['PYTHONHASHSEED'] = str(SEED)\n",
    "random.seed(SEED)\n",
    "np.random.seed(SEED)\n",
    "torch.manual_seed(SEED)\n",
    "torch.cuda.manual_seed(SEED)\n",
    "torch.cuda.manual_seed_all(SEED)\n",
    "torch.backends.cudnn.benchmark = True"
   ]
  },
  {
   "cell_type": "markdown",
   "metadata": {},
   "source": [
    "## 2. Custom Dataset"
   ]
  },
  {
   "cell_type": "code",
   "execution_count": 4,
   "metadata": {},
   "outputs": [],
   "source": [
    "class ImageDataset(Dataset):\n",
    "    def __init__(self, csv, path, album_transform=None, augraphy_transform=None):\n",
    "        self.df = pd.read_csv(csv).values\n",
    "        self.path = path \n",
    "        self.album_transform = album_transform\n",
    "        self.augraphy_transform = augraphy_transform\n",
    "\n",
    "    def __len__(self):\n",
    "        return len(self.df)\n",
    "    \n",
    "    def __getitem__(self, idx):\n",
    "        name, target = self.df[idx]\n",
    "        img = np.array(Image.open(os.path.join(self.path, name)))\n",
    "        \n",
    "        if self.augraphy_transform:\n",
    "            img = self.augraphy_transform(img)\n",
    "\n",
    "        if self.album_transform:\n",
    "            img = self.album_transform(image=img)['image']\n",
    "        \n",
    "        return img, target"
   ]
  },
  {
   "cell_type": "markdown",
   "metadata": {},
   "source": [
    "## 3. Training Pipeline"
   ]
  },
  {
   "cell_type": "code",
   "execution_count": 18,
   "metadata": {},
   "outputs": [],
   "source": [
    "def training(model, dataloader, dataset, device, criterion, optimizer, epoch, num_epochs):\n",
    "    model.train()\n",
    "    train_loss = 0.0\n",
    "    preds_list = []\n",
    "    targets_list = []\n",
    "\n",
    "    tbar = tqdm(dataloader)\n",
    "    for images, labels in tbar:\n",
    "        images = images.type(torch.cuda.FloatTensor)\n",
    "        images, labels = images.to(device), labels.to(device)\n",
    "\n",
    "        outputs = model(images)\n",
    "        loss = criterion(outputs, labels)\n",
    "\n",
    "        optimizer.zero_grad()\n",
    "        loss.backward()\n",
    "        optimizer.step()\n",
    "\n",
    "        train_loss += loss.item()\n",
    "        preds_list.extend(outputs.argmax(dim=1).detach().cpu().numpy())\n",
    "        targets_list.extend(labels.detach().cpu().numpy())\n",
    "\n",
    "        tbar.set_description(f\"Epoch [{epoch+1}/{num_epochs}], Train Loss : {loss.item():.4f}\")\n",
    "\n",
    "    train_loss = train_loss / (len(dataloader))\n",
    "    train_acc = accuracy_score(preds_list, targets_list)\n",
    "    train_f1 = f1_score(preds_list, targets_list, average='macro')\n",
    "\n",
    "    metrics = {\n",
    "        'train_loss' : train_loss,\n",
    "        'train_acc' : train_acc,\n",
    "        'train_f1' : train_f1\n",
    "    }\n",
    "\n",
    "    return model, metrics\n",
    "\n",
    "def evaluation(model, dataloader, dataset, device, criterion, epoch, num_epochs):\n",
    "    model.eval()\n",
    "    valid_loss = 0.0\n",
    "    preds_list = []\n",
    "    targets_list = []\n",
    "\n",
    "    with torch.no_grad():\n",
    "        tbar = tqdm(dataloader)\n",
    "        for images, labels in tbar:\n",
    "            images = images.type(torch.cuda.FloatTensor)\n",
    "            images, labels = images.to(device), labels.to(device)\n",
    "            outputs = model(images)\n",
    "            loss = criterion(outputs, labels)\n",
    "\n",
    "            valid_loss += loss.item()\n",
    "            preds_list.extend(outputs.argmax(dim=1).detach().cpu().numpy())\n",
    "            targets_list.extend(labels.detach().cpu().numpy())\n",
    "\n",
    "            tbar.set_description(f\"Epcoh [{epoch+1}/{num_epochs}] Valid Loss : {valid_loss:.4f}\")\n",
    "\n",
    "    valid_loss /= len(dataloader)\n",
    "    valid_acc = accuracy_score(preds_list, targets_list)\n",
    "    valid_f1 = f1_score(preds_list, targets_list, average='macro')\n",
    "\n",
    "    metrics = {\n",
    "        'valid_loss' : valid_loss,\n",
    "        'valid_acc' : valid_acc,\n",
    "        'valid_f1' : valid_f1\n",
    "    }\n",
    "\n",
    "    return model, metrics\n",
    "\n",
    "def training_loop(model, train_dataloader, valid_dataloader, train_dataset, valid_dataset, criterion, optimizer, device, num_epochs, model_path, model_name, patience, run):\n",
    "\n",
    "    best_valid_loss = float('inf')\n",
    "    valid_max_accuracy = -1\n",
    "    valid_max_f1 = -1\n",
    "    early_stop_counter = 0\n",
    "\n",
    "    for epoch in range(num_epochs):\n",
    "        model, train_metrics = training(model, train_dataloader, train_dataset, device, criterion, optimizer, epoch, num_epochs)\n",
    "        model, valid_metrics = evaluation(model, valid_dataloader, valid_dataset, device, criterion, epoch, num_epochs)\n",
    "\n",
    "        monitoring_value = {\n",
    "            'train_loss' : train_metrics['train_loss'],\n",
    "            'train_accuracy' : train_metrics['train_acc'],\n",
    "            'train_f1' : train_metrics['train_f1'],\n",
    "            'valid_loss' : valid_metrics['valid_loss'],\n",
    "            'valid_accuracy' : valid_metrics['valid_acc'],\n",
    "            'valid_f1' : valid_metrics['valid_f1']\n",
    "        }\n",
    "        run.log(monitoring_value, step=epoch)\n",
    "\n",
    "        if valid_max_accuracy < valid_metrics['valid_acc']:\n",
    "            valid_max_accuracy = valid_metrics['valid_acc']\n",
    "\n",
    "            run.summary['best_train_acc'] = train_metrics['train_acc']\n",
    "            run.summary['best_valid_acc'] = valid_metrics['valid_acc']\n",
    "        \n",
    "        if valid_max_f1 < valid_metrics['valid_f1']:\n",
    "            valid_max_f1 = valid_metrics['valid_f1']\n",
    "            torch.save(model.state_dict(), model_path+f\"/model_{model_name}.pt\")\n",
    "\n",
    "            run.summary['best_train_f1'] = train_metrics['train_f1']\n",
    "            run.summary['best_valid_f1'] = valid_metrics['valid_f1']\n",
    "\n",
    "        if best_valid_loss > valid_metrics['valid_loss']:\n",
    "            best_valid_loss = valid_metrics['valid_loss']\n",
    "            early_stop_counter = 0\n",
    "            run.summary['best_train_loss'] = train_metrics['train_loss']\n",
    "            run.summary['best_valid_loss'] = valid_metrics['valid_loss']\n",
    "        else:\n",
    "            early_stop_counter += 1\n",
    "            \n",
    "        print(f\"Epoch [{epoch+1}/{num_epochs}], Train Loss : {train_metrics['train_loss']:.4f}, Train Acc : {train_metrics['train_acc']:.4f}, 'Train F1 : {train_metrics['train_f1']:.4f}, Valid Loss : {valid_metrics['valid_loss']:.4f}, Valid Acc : {valid_metrics['valid_acc']:.4f}, Valid F1 : {valid_metrics['valid_f1']}\")\n",
    "\n",
    "        if early_stop_counter >= patience:\n",
    "            print('Early Stopping!')        \n",
    "            break\n",
    "\n",
    "    return model, valid_max_accuracy, valid_max_f1\n"
   ]
  },
  {
   "cell_type": "markdown",
   "metadata": {},
   "source": [
    "## 4. Data Load"
   ]
  },
  {
   "cell_type": "code",
   "execution_count": 6,
   "metadata": {},
   "outputs": [
    {
     "data": {
      "text/html": [
       "<div>\n",
       "<style scoped>\n",
       "    .dataframe tbody tr th:only-of-type {\n",
       "        vertical-align: middle;\n",
       "    }\n",
       "\n",
       "    .dataframe tbody tr th {\n",
       "        vertical-align: top;\n",
       "    }\n",
       "\n",
       "    .dataframe thead th {\n",
       "        text-align: right;\n",
       "    }\n",
       "</style>\n",
       "<table border=\"1\" class=\"dataframe\">\n",
       "  <thead>\n",
       "    <tr style=\"text-align: right;\">\n",
       "      <th></th>\n",
       "      <th>ID</th>\n",
       "      <th>target</th>\n",
       "    </tr>\n",
       "  </thead>\n",
       "  <tbody>\n",
       "    <tr>\n",
       "      <th>0</th>\n",
       "      <td>002f99746285dfdd.jpg</td>\n",
       "      <td>16</td>\n",
       "    </tr>\n",
       "    <tr>\n",
       "      <th>1</th>\n",
       "      <td>008ccd231e1fea5d.jpg</td>\n",
       "      <td>10</td>\n",
       "    </tr>\n",
       "    <tr>\n",
       "      <th>2</th>\n",
       "      <td>008f5911bfda7695.jpg</td>\n",
       "      <td>10</td>\n",
       "    </tr>\n",
       "    <tr>\n",
       "      <th>3</th>\n",
       "      <td>009235e4c9c07af5.jpg</td>\n",
       "      <td>4</td>\n",
       "    </tr>\n",
       "    <tr>\n",
       "      <th>4</th>\n",
       "      <td>00b2f44967580c74.jpg</td>\n",
       "      <td>16</td>\n",
       "    </tr>\n",
       "  </tbody>\n",
       "</table>\n",
       "</div>"
      ],
      "text/plain": [
       "                     ID  target\n",
       "0  002f99746285dfdd.jpg      16\n",
       "1  008ccd231e1fea5d.jpg      10\n",
       "2  008f5911bfda7695.jpg      10\n",
       "3  009235e4c9c07af5.jpg       4\n",
       "4  00b2f44967580c74.jpg      16"
      ]
     },
     "execution_count": 6,
     "metadata": {},
     "output_type": "execute_result"
    }
   ],
   "source": [
    "aug_sjy_path = '/data/ephemeral/home/upstage_cv/data/aug_img/sjy/augmented_sjy.csv'\n",
    "df_sjy = pd.read_csv(aug_sjy_path)\n",
    "df_sjy.head()"
   ]
  },
  {
   "cell_type": "code",
   "execution_count": 7,
   "metadata": {},
   "outputs": [
    {
     "name": "stdout",
     "output_type": "stream",
     "text": [
      "14130 3140\n"
     ]
    }
   ],
   "source": [
    "sjy_img_path = '/data/ephemeral/home/upstage_cv/data/aug_img/sjy'\n",
    "test_img_path = '/data/ephemeral/home/upstage_cv/data/test/'\n",
    "totensor_transform = A.Compose([A.Resize(224, 224), ToTensorV2()])\n",
    "test_transform = A.Compose([\n",
    "    A.Resize(224, 224),\n",
    "    ToTensorV2()\n",
    "])\n",
    "\n",
    "train_dataset = ImageDataset(aug_sjy_path, sjy_img_path, album_transform=totensor_transform, augraphy_transform=None)\n",
    "test_dataset = ImageDataset(submission_path, test_img_path, album_transform=test_transform, augraphy_transform=None)\n",
    "\n",
    "print(len(train_dataset), len(test_dataset))"
   ]
  },
  {
   "cell_type": "code",
   "execution_count": 8,
   "metadata": {},
   "outputs": [
    {
     "name": "stdout",
     "output_type": "stream",
     "text": [
      "11304 2826\n"
     ]
    }
   ],
   "source": [
    "train_num, valid_num = int(len(train_dataset) * 0.8), int(len(train_dataset) * 0.2)\n",
    "train_dataset, valid_dataset = torch.utils.data.random_split(train_dataset, [train_num, valid_num])\n",
    "\n",
    "print(len(train_dataset), len(valid_dataset))"
   ]
  },
  {
   "cell_type": "code",
   "execution_count": 9,
   "metadata": {},
   "outputs": [],
   "source": [
    "train_dataloader = DataLoader(train_dataset, batch_size=32, shuffle=True)\n",
    "valid_dataloader = DataLoader(valid_dataset, batch_size=32, shuffle=False)\n",
    "test_dataloader = DataLoader(test_dataset, batch_size=32, shuffle=False)"
   ]
  },
  {
   "cell_type": "markdown",
   "metadata": {},
   "source": [
    "## 5. Train Model"
   ]
  },
  {
   "cell_type": "code",
   "execution_count": 13,
   "metadata": {},
   "outputs": [],
   "source": [
    "resnet50 = timm.create_model('resnet50', pretrained=True)\n",
    "in_features = resnet50.fc.in_features\n",
    "fc_layers = nn.Sequential(\n",
    "    nn.Linear(in_features, 1024),\n",
    "    nn.BatchNorm1d(1024),\n",
    "    nn.ReLU(),\n",
    "    nn.Dropout(p=0.2),\n",
    "    nn.Linear(1024, 512),\n",
    "    nn.BatchNorm1d(512),\n",
    "    nn.ReLU(),\n",
    "    nn.Dropout(p=0.2),\n",
    "    nn.Linear(512, 256),\n",
    "    nn.BatchNorm1d(256),\n",
    "    nn.ReLU(),\n",
    "    nn.Dropout(p=0.2),\n",
    "    nn.Linear(256, 17)\n",
    ")\n",
    "resnet50.fc = fc_layers"
   ]
  },
  {
   "cell_type": "markdown",
   "metadata": {},
   "source": [
    "### Hyper Parameter 정의"
   ]
  },
  {
   "cell_type": "code",
   "execution_count": 16,
   "metadata": {},
   "outputs": [],
   "source": [
    "class Cfg():\n",
    "    device = torch.device('cuda' if torch.cuda.is_available() else 'cpu')\n",
    "    model = (resnet50).to(device)\n",
    "    criterion = nn.CrossEntropyLoss()\n",
    "    optimizer = torch.optim.Adam(model.parameters(), lr=0.001)\n",
    "    num_epochs = 100\n",
    "    batch_size=32\n",
    "    model_path = '/data/ephemeral/home/upstage_cv/models'"
   ]
  },
  {
   "cell_type": "code",
   "execution_count": 19,
   "metadata": {},
   "outputs": [
    {
     "name": "stderr",
     "output_type": "stream",
     "text": [
      "Epoch [1/100], Train Loss : 0.0275: 100%|██████████| 354/354 [01:16<00:00,  4.62it/s]\n",
      "Epcoh [1/100] Valid Loss : 30.1258: 100%|██████████| 89/89 [00:17<00:00,  5.02it/s]\n"
     ]
    },
    {
     "name": "stdout",
     "output_type": "stream",
     "text": [
      "Epoch [1/100], Train Loss : 0.0653, Train Acc : 0.9805, 'Train F1 : 0.9795, Valid Loss : 0.3385, Valid Acc : 0.9062, Valid F1 : 0.8921400354131244\n"
     ]
    },
    {
     "name": "stderr",
     "output_type": "stream",
     "text": [
      "Epoch [2/100], Train Loss : 0.1270:  10%|▉         | 34/354 [00:07<01:05,  4.91it/s]\u001b[34m\u001b[1mwandb\u001b[0m: \u001b[33mWARNING\u001b[0m Step only supports monotonically increasing values, use define_metric to set a custom x axis. For details see: https://wandb.me/define-metric\n",
      "\u001b[34m\u001b[1mwandb\u001b[0m: \u001b[33mWARNING\u001b[0m (User provided step: 0 is less than current step: 8. Dropping entry: {'train_loss': 0.06528333801592669, 'train_accuracy': 0.9805378627034678, 'train_f1': 0.9795248826683358, 'valid_loss': 0.3384917675820964, 'valid_accuracy': 0.9062278839348903, 'valid_f1': 0.8921400354131244, '_timestamp': 1707288937.5265532}).\n",
      "Epoch [2/100], Train Loss : 0.0737: 100%|██████████| 354/354 [01:16<00:00,  4.63it/s]\n",
      "Epcoh [2/100] Valid Loss : 24.7634: 100%|██████████| 89/89 [00:17<00:00,  5.08it/s]\n"
     ]
    },
    {
     "name": "stdout",
     "output_type": "stream",
     "text": [
      "Epoch [2/100], Train Loss : 0.0511, Train Acc : 0.9847, 'Train F1 : 0.9834, Valid Loss : 0.2782, Valid Acc : 0.9168, Valid F1 : 0.905861573301181\n"
     ]
    },
    {
     "name": "stderr",
     "output_type": "stream",
     "text": [
      "Epoch [3/100], Train Loss : 0.0109:   3%|▎         | 12/354 [00:02<01:16,  4.49it/s]\u001b[34m\u001b[1mwandb\u001b[0m: \u001b[33mWARNING\u001b[0m (User provided step: 1 is less than current step: 8. Dropping entry: {'train_loss': 0.05110389724607964, 'train_accuracy': 0.9846956829440906, 'train_f1': 0.9833544085813931, 'valid_loss': 0.2782400209676432, 'valid_accuracy': 0.9168435951875442, 'valid_f1': 0.905861573301181, '_timestamp': 1707289031.8295455}).\n",
      "Epoch [3/100], Train Loss : 0.6457: 100%|██████████| 354/354 [01:16<00:00,  4.65it/s]\n",
      "Epcoh [3/100] Valid Loss : 25.1428: 100%|██████████| 89/89 [00:18<00:00,  4.92it/s]\n"
     ]
    },
    {
     "name": "stdout",
     "output_type": "stream",
     "text": [
      "Epoch [3/100], Train Loss : 0.0644, Train Acc : 0.9801, 'Train F1 : 0.9789, Valid Loss : 0.2825, Valid Acc : 0.9204, Valid F1 : 0.9112165294024955\n"
     ]
    },
    {
     "name": "stderr",
     "output_type": "stream",
     "text": [
      "Epoch [4/100], Train Loss : 0.0246:  18%|█▊        | 65/354 [00:13<00:58,  4.95it/s]\u001b[34m\u001b[1mwandb\u001b[0m: \u001b[33mWARNING\u001b[0m (User provided step: 2 is less than current step: 8. Dropping entry: {'train_loss': 0.06435537976584407, 'train_accuracy': 0.9800955414012739, 'train_f1': 0.9788582445222991, 'valid_loss': 0.28250388987362385, 'valid_accuracy': 0.9203821656050956, 'valid_f1': 0.9112165294024955, '_timestamp': 1707289126.2563198}).\n",
      "Epoch [4/100], Train Loss : 0.5330: 100%|██████████| 354/354 [01:15<00:00,  4.68it/s]\n",
      "Epcoh [4/100] Valid Loss : 32.7930: 100%|██████████| 89/89 [00:17<00:00,  5.03it/s]\n"
     ]
    },
    {
     "name": "stdout",
     "output_type": "stream",
     "text": [
      "Epoch [4/100], Train Loss : 0.0645, Train Acc : 0.9795, 'Train F1 : 0.9785, Valid Loss : 0.3685, Valid Acc : 0.9041, Valid F1 : 0.8918045350083483\n"
     ]
    },
    {
     "name": "stderr",
     "output_type": "stream",
     "text": [
      "Epoch [5/100], Train Loss : 0.0102:  13%|█▎        | 46/354 [00:09<01:03,  4.88it/s]\u001b[34m\u001b[1mwandb\u001b[0m: \u001b[33mWARNING\u001b[0m (User provided step: 3 is less than current step: 8. Dropping entry: {'train_loss': 0.0644505316438285, 'train_accuracy': 0.9794762915782024, 'train_f1': 0.9785204752422286, 'valid_loss': 0.36846080677730314, 'valid_accuracy': 0.9041047416843595, 'valid_f1': 0.8918045350083483, '_timestamp': 1707289219.955353}).\n",
      "Epoch [5/100], Train Loss : 0.4377: 100%|██████████| 354/354 [01:15<00:00,  4.68it/s]\n",
      "Epcoh [5/100] Valid Loss : 138.3002: 100%|██████████| 89/89 [00:17<00:00,  4.97it/s]\n"
     ]
    },
    {
     "name": "stdout",
     "output_type": "stream",
     "text": [
      "Epoch [5/100], Train Loss : 0.0595, Train Acc : 0.9808, 'Train F1 : 0.9800, Valid Loss : 1.5539, Valid Acc : 0.8567, Valid F1 : 0.8497310531644122\n"
     ]
    },
    {
     "name": "stderr",
     "output_type": "stream",
     "text": [
      "Epoch [6/100], Train Loss : 0.0029:   8%|▊         | 30/354 [00:06<01:27,  3.71it/s]\u001b[34m\u001b[1mwandb\u001b[0m: \u001b[33mWARNING\u001b[0m (User provided step: 4 is less than current step: 8. Dropping entry: {'train_loss': 0.05954352324620668, 'train_accuracy': 0.9808032554847842, 'train_f1': 0.9800469461329598, 'valid_loss': 1.5539345139365517, 'valid_accuracy': 0.856687898089172, 'valid_f1': 0.8497310531644122, '_timestamp': 1707289313.6270971}).\n",
      "Epoch [6/100], Train Loss : 0.0345: 100%|██████████| 354/354 [01:15<00:00,  4.68it/s]\n",
      "Epcoh [6/100] Valid Loss : 25.9138: 100%|██████████| 89/89 [00:17<00:00,  5.14it/s]\n"
     ]
    },
    {
     "name": "stdout",
     "output_type": "stream",
     "text": [
      "Epoch [6/100], Train Loss : 0.0646, Train Acc : 0.9804, 'Train F1 : 0.9795, Valid Loss : 0.2912, Valid Acc : 0.9183, Valid F1 : 0.9077797087927731\n"
     ]
    },
    {
     "name": "stderr",
     "output_type": "stream",
     "text": [
      "Epoch [7/100], Train Loss : 0.0062:   5%|▍         | 16/354 [00:03<01:07,  4.99it/s]\u001b[34m\u001b[1mwandb\u001b[0m: \u001b[33mWARNING\u001b[0m (User provided step: 5 is less than current step: 8. Dropping entry: {'train_loss': 0.06455251799322834, 'train_accuracy': 0.980449398443029, 'train_f1': 0.9794882761905385, 'valid_loss': 0.2911667226070768, 'valid_accuracy': 0.9182590233545648, 'valid_f1': 0.9077797087927731, '_timestamp': 1707289406.7333941}).\n",
      "Epoch [7/100], Train Loss : 0.0267: 100%|██████████| 354/354 [01:16<00:00,  4.63it/s]\n",
      "Epcoh [7/100] Valid Loss : 26.2303: 100%|██████████| 89/89 [00:17<00:00,  5.20it/s]\n"
     ]
    },
    {
     "name": "stdout",
     "output_type": "stream",
     "text": [
      "Epoch [7/100], Train Loss : 0.0383, Train Acc : 0.9889, 'Train F1 : 0.9884, Valid Loss : 0.2947, Valid Acc : 0.9246, Valid F1 : 0.9147773693290385\n"
     ]
    },
    {
     "name": "stderr",
     "output_type": "stream",
     "text": [
      "Epoch [8/100], Train Loss : 0.0017:  19%|█▉        | 67/354 [00:14<01:01,  4.64it/s]\u001b[34m\u001b[1mwandb\u001b[0m: \u001b[33mWARNING\u001b[0m (User provided step: 6 is less than current step: 8. Dropping entry: {'train_loss': 0.038345787011418754, 'train_accuracy': 0.9889419674451522, 'train_f1': 0.9883835561799238, 'valid_loss': 0.2947226217790936, 'valid_accuracy': 0.9246284501061571, 'valid_f1': 0.9147773693290385, '_timestamp': 1707289500.429198}).\n",
      "Epoch [8/100], Train Loss : 0.3261: 100%|██████████| 354/354 [01:16<00:00,  4.63it/s]\n",
      "Epcoh [8/100] Valid Loss : 55.9390: 100%|██████████| 89/89 [00:17<00:00,  5.00it/s]\n"
     ]
    },
    {
     "name": "stdout",
     "output_type": "stream",
     "text": [
      "Epoch [8/100], Train Loss : 0.0407, Train Acc : 0.9877, 'Train F1 : 0.9867, Valid Loss : 0.6285, Valid Acc : 0.8468, Valid F1 : 0.8282296000495509\n"
     ]
    },
    {
     "name": "stderr",
     "output_type": "stream",
     "text": [
      "Epoch [9/100], Train Loss : 0.0968:  14%|█▎        | 48/354 [00:09<01:01,  4.96it/s]\u001b[34m\u001b[1mwandb\u001b[0m: \u001b[33mWARNING\u001b[0m (User provided step: 7 is less than current step: 8. Dropping entry: {'train_loss': 0.040675266104221536, 'train_accuracy': 0.9877034677990092, 'train_f1': 0.9867095589170385, 'valid_loss': 0.6285283758064334, 'valid_accuracy': 0.8467799009200283, 'valid_f1': 0.8282296000495509, '_timestamp': 1707289594.9345598}).\n",
      "Epoch [9/100], Train Loss : 0.0041: 100%|██████████| 354/354 [01:16<00:00,  4.64it/s]\n",
      "Epcoh [9/100] Valid Loss : 23.0832: 100%|██████████| 89/89 [00:17<00:00,  5.03it/s]\n"
     ]
    },
    {
     "name": "stdout",
     "output_type": "stream",
     "text": [
      "Epoch [9/100], Train Loss : 0.0661, Train Acc : 0.9813, 'Train F1 : 0.9803, Valid Loss : 0.2594, Valid Acc : 0.9278, Valid F1 : 0.9164182702951598\n"
     ]
    },
    {
     "name": "stderr",
     "output_type": "stream",
     "text": [
      "Epoch [10/100], Train Loss : 0.0298: 100%|██████████| 354/354 [01:16<00:00,  4.66it/s]\n",
      "Epcoh [10/100] Valid Loss : 23.0015: 100%|██████████| 89/89 [00:17<00:00,  5.12it/s]\n"
     ]
    },
    {
     "name": "stdout",
     "output_type": "stream",
     "text": [
      "Epoch [10/100], Train Loss : 0.0306, Train Acc : 0.9908, 'Train F1 : 0.9905, Valid Loss : 0.2584, Valid Acc : 0.9352, Valid F1 : 0.925886947694287\n"
     ]
    },
    {
     "name": "stderr",
     "output_type": "stream",
     "text": [
      "Epoch [11/100], Train Loss : 0.4859: 100%|██████████| 354/354 [01:16<00:00,  4.62it/s]\n",
      "Epcoh [11/100] Valid Loss : 23.9192: 100%|██████████| 89/89 [00:17<00:00,  5.17it/s]\n"
     ]
    },
    {
     "name": "stdout",
     "output_type": "stream",
     "text": [
      "Epoch [11/100], Train Loss : 0.0462, Train Acc : 0.9862, 'Train F1 : 0.9854, Valid Loss : 0.2688, Valid Acc : 0.9257, Valid F1 : 0.9145615981454085\n"
     ]
    },
    {
     "name": "stderr",
     "output_type": "stream",
     "text": [
      "Epoch [12/100], Train Loss : 0.0075: 100%|██████████| 354/354 [01:16<00:00,  4.63it/s]\n",
      "Epcoh [12/100] Valid Loss : 38.6671: 100%|██████████| 89/89 [00:17<00:00,  5.06it/s]\n"
     ]
    },
    {
     "name": "stdout",
     "output_type": "stream",
     "text": [
      "Epoch [12/100], Train Loss : 0.0405, Train Acc : 0.9864, 'Train F1 : 0.9856, Valid Loss : 0.4345, Valid Acc : 0.9048, Valid F1 : 0.885485110770362\n"
     ]
    },
    {
     "name": "stderr",
     "output_type": "stream",
     "text": [
      "Epoch [13/100], Train Loss : 0.3585: 100%|██████████| 354/354 [01:16<00:00,  4.65it/s]\n",
      "Epcoh [13/100] Valid Loss : 36.6750: 100%|██████████| 89/89 [00:17<00:00,  5.13it/s]\n"
     ]
    },
    {
     "name": "stdout",
     "output_type": "stream",
     "text": [
      "Epoch [13/100], Train Loss : 0.0437, Train Acc : 0.9879, 'Train F1 : 0.9874, Valid Loss : 0.4121, Valid Acc : 0.9059, Valid F1 : 0.891955565471273\n"
     ]
    },
    {
     "name": "stderr",
     "output_type": "stream",
     "text": [
      "Epoch [14/100], Train Loss : 0.0475: 100%|██████████| 354/354 [01:15<00:00,  4.66it/s]\n",
      "Epcoh [14/100] Valid Loss : 16.8334: 100%|██████████| 89/89 [00:17<00:00,  5.11it/s]\n"
     ]
    },
    {
     "name": "stdout",
     "output_type": "stream",
     "text": [
      "Epoch [14/100], Train Loss : 0.0372, Train Acc : 0.9886, 'Train F1 : 0.9882, Valid Loss : 0.1891, Valid Acc : 0.9434, Valid F1 : 0.9350805952745245\n"
     ]
    },
    {
     "name": "stderr",
     "output_type": "stream",
     "text": [
      "Epoch [15/100], Train Loss : 0.0311: 100%|██████████| 354/354 [01:16<00:00,  4.64it/s]\n",
      "Epcoh [15/100] Valid Loss : 24.6747: 100%|██████████| 89/89 [00:17<00:00,  5.08it/s]\n"
     ]
    },
    {
     "name": "stdout",
     "output_type": "stream",
     "text": [
      "Epoch [15/100], Train Loss : 0.0264, Train Acc : 0.9918, 'Train F1 : 0.9912, Valid Loss : 0.2772, Valid Acc : 0.9360, Valid F1 : 0.9256260588619482\n"
     ]
    },
    {
     "name": "stderr",
     "output_type": "stream",
     "text": [
      "Epoch [16/100], Train Loss : 0.1180: 100%|██████████| 354/354 [01:15<00:00,  4.66it/s]\n",
      "Epcoh [16/100] Valid Loss : 24.7386: 100%|██████████| 89/89 [00:17<00:00,  5.14it/s]\n"
     ]
    },
    {
     "name": "stdout",
     "output_type": "stream",
     "text": [
      "Epoch [16/100], Train Loss : 0.0404, Train Acc : 0.9880, 'Train F1 : 0.9868, Valid Loss : 0.2780, Valid Acc : 0.9232, Valid F1 : 0.9099646236572707\n"
     ]
    },
    {
     "name": "stderr",
     "output_type": "stream",
     "text": [
      "Epoch [17/100], Train Loss : 0.0519: 100%|██████████| 354/354 [01:16<00:00,  4.61it/s]\n",
      "Epcoh [17/100] Valid Loss : 27.8099: 100%|██████████| 89/89 [00:17<00:00,  4.97it/s]\n"
     ]
    },
    {
     "name": "stdout",
     "output_type": "stream",
     "text": [
      "Epoch [17/100], Train Loss : 0.0427, Train Acc : 0.9868, 'Train F1 : 0.9858, Valid Loss : 0.3125, Valid Acc : 0.9154, Valid F1 : 0.9039141385529367\n"
     ]
    },
    {
     "name": "stderr",
     "output_type": "stream",
     "text": [
      "Epoch [18/100], Train Loss : 0.0531: 100%|██████████| 354/354 [01:16<00:00,  4.66it/s]\n",
      "Epcoh [18/100] Valid Loss : 22.4844: 100%|██████████| 89/89 [00:17<00:00,  5.08it/s]\n"
     ]
    },
    {
     "name": "stdout",
     "output_type": "stream",
     "text": [
      "Epoch [18/100], Train Loss : 0.0168, Train Acc : 0.9947, 'Train F1 : 0.9946, Valid Loss : 0.2526, Valid Acc : 0.9335, Valid F1 : 0.9236325661110174\n"
     ]
    },
    {
     "name": "stderr",
     "output_type": "stream",
     "text": [
      "Epoch [19/100], Train Loss : 0.0010: 100%|██████████| 354/354 [01:17<00:00,  4.59it/s]\n",
      "Epcoh [19/100] Valid Loss : 29.3297: 100%|██████████| 89/89 [00:17<00:00,  5.02it/s]\n"
     ]
    },
    {
     "name": "stdout",
     "output_type": "stream",
     "text": [
      "Epoch [19/100], Train Loss : 0.0364, Train Acc : 0.9876, 'Train F1 : 0.9870, Valid Loss : 0.3295, Valid Acc : 0.9193, Valid F1 : 0.9052421489986118\n"
     ]
    },
    {
     "name": "stderr",
     "output_type": "stream",
     "text": [
      "Epoch [20/100], Train Loss : 1.0538: 100%|██████████| 354/354 [01:16<00:00,  4.63it/s]\n",
      "Epcoh [20/100] Valid Loss : 20.9557: 100%|██████████| 89/89 [00:17<00:00,  5.03it/s]\n"
     ]
    },
    {
     "name": "stdout",
     "output_type": "stream",
     "text": [
      "Epoch [20/100], Train Loss : 0.0390, Train Acc : 0.9890, 'Train F1 : 0.9884, Valid Loss : 0.2355, Valid Acc : 0.9391, Valid F1 : 0.9319066963820094\n"
     ]
    },
    {
     "name": "stderr",
     "output_type": "stream",
     "text": [
      "Epoch [21/100], Train Loss : 0.0240: 100%|██████████| 354/354 [01:16<00:00,  4.64it/s]\n",
      "Epcoh [21/100] Valid Loss : 20.2310: 100%|██████████| 89/89 [00:17<00:00,  5.00it/s]\n"
     ]
    },
    {
     "name": "stdout",
     "output_type": "stream",
     "text": [
      "Epoch [21/100], Train Loss : 0.0185, Train Acc : 0.9942, 'Train F1 : 0.9943, Valid Loss : 0.2273, Valid Acc : 0.9455, Valid F1 : 0.9370271114357769\n"
     ]
    },
    {
     "name": "stderr",
     "output_type": "stream",
     "text": [
      "Epoch [22/100], Train Loss : 0.0581: 100%|██████████| 354/354 [01:16<00:00,  4.65it/s]\n",
      "Epcoh [22/100] Valid Loss : 44.1114: 100%|██████████| 89/89 [00:17<00:00,  5.11it/s]\n"
     ]
    },
    {
     "name": "stdout",
     "output_type": "stream",
     "text": [
      "Epoch [22/100], Train Loss : 0.0264, Train Acc : 0.9925, 'Train F1 : 0.9920, Valid Loss : 0.4956, Valid Acc : 0.8730, Valid F1 : 0.8566784037716044\n"
     ]
    },
    {
     "name": "stderr",
     "output_type": "stream",
     "text": [
      "Epoch [23/100], Train Loss : 0.0137: 100%|██████████| 354/354 [01:16<00:00,  4.65it/s]\n",
      "Epcoh [23/100] Valid Loss : 55.8099: 100%|██████████| 89/89 [00:17<00:00,  5.08it/s]\n"
     ]
    },
    {
     "name": "stdout",
     "output_type": "stream",
     "text": [
      "Epoch [23/100], Train Loss : 0.0330, Train Acc : 0.9898, 'Train F1 : 0.9900, Valid Loss : 0.6271, Valid Acc : 0.8712, Valid F1 : 0.8488998759858982\n"
     ]
    },
    {
     "name": "stderr",
     "output_type": "stream",
     "text": [
      "Epoch [24/100], Train Loss : 0.0004: 100%|██████████| 354/354 [01:16<00:00,  4.61it/s]\n",
      "Epcoh [24/100] Valid Loss : 19.2167: 100%|██████████| 89/89 [00:17<00:00,  4.95it/s]\n"
     ]
    },
    {
     "name": "stdout",
     "output_type": "stream",
     "text": [
      "Epoch [24/100], Train Loss : 0.0270, Train Acc : 0.9929, 'Train F1 : 0.9921, Valid Loss : 0.2159, Valid Acc : 0.9420, Valid F1 : 0.9352153670358991\n"
     ]
    },
    {
     "name": "stderr",
     "output_type": "stream",
     "text": [
      "Epoch [25/100], Train Loss : 0.2359: 100%|██████████| 354/354 [01:16<00:00,  4.65it/s]\n",
      "Epcoh [25/100] Valid Loss : 16.4640: 100%|██████████| 89/89 [00:17<00:00,  4.97it/s]\n"
     ]
    },
    {
     "name": "stdout",
     "output_type": "stream",
     "text": [
      "Epoch [25/100], Train Loss : 0.0165, Train Acc : 0.9954, 'Train F1 : 0.9952, Valid Loss : 0.1850, Valid Acc : 0.9494, Valid F1 : 0.9432946971959181\n"
     ]
    },
    {
     "name": "stderr",
     "output_type": "stream",
     "text": [
      "Epoch [26/100], Train Loss : 0.0004: 100%|██████████| 354/354 [01:17<00:00,  4.59it/s]\n",
      "Epcoh [26/100] Valid Loss : 21.6777: 100%|██████████| 89/89 [00:17<00:00,  5.05it/s]\n"
     ]
    },
    {
     "name": "stdout",
     "output_type": "stream",
     "text": [
      "Epoch [26/100], Train Loss : 0.0292, Train Acc : 0.9904, 'Train F1 : 0.9899, Valid Loss : 0.2436, Valid Acc : 0.9370, Valid F1 : 0.9270262834247859\n"
     ]
    },
    {
     "name": "stderr",
     "output_type": "stream",
     "text": [
      "Epoch [27/100], Train Loss : 0.0023: 100%|██████████| 354/354 [01:16<00:00,  4.65it/s]\n",
      "Epcoh [27/100] Valid Loss : 24.7673: 100%|██████████| 89/89 [00:17<00:00,  5.11it/s]\n"
     ]
    },
    {
     "name": "stdout",
     "output_type": "stream",
     "text": [
      "Epoch [27/100], Train Loss : 0.0222, Train Acc : 0.9942, 'Train F1 : 0.9937, Valid Loss : 0.2783, Valid Acc : 0.9321, Valid F1 : 0.9207632145989331\n"
     ]
    },
    {
     "name": "stderr",
     "output_type": "stream",
     "text": [
      "Epoch [28/100], Train Loss : 0.0009: 100%|██████████| 354/354 [01:17<00:00,  4.58it/s]\n",
      "Epcoh [28/100] Valid Loss : 25.1833: 100%|██████████| 89/89 [00:17<00:00,  5.14it/s]\n"
     ]
    },
    {
     "name": "stdout",
     "output_type": "stream",
     "text": [
      "Epoch [28/100], Train Loss : 0.0248, Train Acc : 0.9927, 'Train F1 : 0.9925, Valid Loss : 0.2830, Valid Acc : 0.9321, Valid F1 : 0.9222092275987194\n"
     ]
    },
    {
     "name": "stderr",
     "output_type": "stream",
     "text": [
      "Epoch [29/100], Train Loss : 0.0053: 100%|██████████| 354/354 [01:16<00:00,  4.61it/s]\n",
      "Epcoh [29/100] Valid Loss : 25.2627: 100%|██████████| 89/89 [00:17<00:00,  5.08it/s]\n"
     ]
    },
    {
     "name": "stdout",
     "output_type": "stream",
     "text": [
      "Epoch [29/100], Train Loss : 0.0330, Train Acc : 0.9899, 'Train F1 : 0.9897, Valid Loss : 0.2839, Valid Acc : 0.9317, Valid F1 : 0.9232607158775098\n"
     ]
    },
    {
     "name": "stderr",
     "output_type": "stream",
     "text": [
      "Epoch [30/100], Train Loss : 0.0000: 100%|██████████| 354/354 [01:16<00:00,  4.62it/s]\n",
      "Epcoh [30/100] Valid Loss : 20.6397: 100%|██████████| 89/89 [00:17<00:00,  5.08it/s]\n"
     ]
    },
    {
     "name": "stdout",
     "output_type": "stream",
     "text": [
      "Epoch [30/100], Train Loss : 0.0341, Train Acc : 0.9903, 'Train F1 : 0.9897, Valid Loss : 0.2319, Valid Acc : 0.9413, Valid F1 : 0.9318276946026977\n"
     ]
    },
    {
     "name": "stderr",
     "output_type": "stream",
     "text": [
      "Epoch [31/100], Train Loss : 0.5994: 100%|██████████| 354/354 [01:17<00:00,  4.59it/s]\n",
      "Epcoh [31/100] Valid Loss : 18.5134: 100%|██████████| 89/89 [00:17<00:00,  5.06it/s]\n"
     ]
    },
    {
     "name": "stdout",
     "output_type": "stream",
     "text": [
      "Epoch [31/100], Train Loss : 0.0216, Train Acc : 0.9947, 'Train F1 : 0.9943, Valid Loss : 0.2080, Valid Acc : 0.9480, Valid F1 : 0.9411695045981534\n"
     ]
    },
    {
     "name": "stderr",
     "output_type": "stream",
     "text": [
      "Epoch [32/100], Train Loss : 0.2613: 100%|██████████| 354/354 [01:16<00:00,  4.63it/s]\n",
      "Epcoh [32/100] Valid Loss : 25.0979: 100%|██████████| 89/89 [00:17<00:00,  5.03it/s]\n"
     ]
    },
    {
     "name": "stdout",
     "output_type": "stream",
     "text": [
      "Epoch [32/100], Train Loss : 0.0237, Train Acc : 0.9929, 'Train F1 : 0.9926, Valid Loss : 0.2820, Valid Acc : 0.9285, Valid F1 : 0.9216649893649274\n"
     ]
    },
    {
     "name": "stderr",
     "output_type": "stream",
     "text": [
      "Epoch [33/100], Train Loss : 0.0154: 100%|██████████| 354/354 [01:16<00:00,  4.64it/s]\n",
      "Epcoh [33/100] Valid Loss : 24.5844: 100%|██████████| 89/89 [00:17<00:00,  5.02it/s]\n"
     ]
    },
    {
     "name": "stdout",
     "output_type": "stream",
     "text": [
      "Epoch [33/100], Train Loss : 0.0285, Train Acc : 0.9913, 'Train F1 : 0.9911, Valid Loss : 0.2762, Valid Acc : 0.9370, Valid F1 : 0.9292170403976336\n"
     ]
    },
    {
     "name": "stderr",
     "output_type": "stream",
     "text": [
      "Epoch [34/100], Train Loss : 0.0020: 100%|██████████| 354/354 [01:15<00:00,  4.66it/s]\n",
      "Epcoh [34/100] Valid Loss : 20.1273: 100%|██████████| 89/89 [00:17<00:00,  5.09it/s]\n"
     ]
    },
    {
     "name": "stdout",
     "output_type": "stream",
     "text": [
      "Epoch [34/100], Train Loss : 0.0339, Train Acc : 0.9904, 'Train F1 : 0.9900, Valid Loss : 0.2261, Valid Acc : 0.9345, Valid F1 : 0.9255208906236544\n"
     ]
    },
    {
     "name": "stderr",
     "output_type": "stream",
     "text": [
      "Epoch [35/100], Train Loss : 0.0484: 100%|██████████| 354/354 [01:17<00:00,  4.59it/s]\n",
      "Epcoh [35/100] Valid Loss : 23.9181: 100%|██████████| 89/89 [00:17<00:00,  5.06it/s]\n"
     ]
    },
    {
     "name": "stdout",
     "output_type": "stream",
     "text": [
      "Epoch [35/100], Train Loss : 0.0134, Train Acc : 0.9954, 'Train F1 : 0.9949, Valid Loss : 0.2687, Valid Acc : 0.9413, Valid F1 : 0.9332733554121143\n"
     ]
    },
    {
     "name": "stderr",
     "output_type": "stream",
     "text": [
      "Epoch [36/100], Train Loss : 0.0005: 100%|██████████| 354/354 [01:16<00:00,  4.65it/s]\n",
      "Epcoh [36/100] Valid Loss : 21.2879: 100%|██████████| 89/89 [00:17<00:00,  5.08it/s]\n"
     ]
    },
    {
     "name": "stdout",
     "output_type": "stream",
     "text": [
      "Epoch [36/100], Train Loss : 0.0151, Train Acc : 0.9955, 'Train F1 : 0.9955, Valid Loss : 0.2392, Valid Acc : 0.9391, Valid F1 : 0.9307005067160425\n"
     ]
    },
    {
     "name": "stderr",
     "output_type": "stream",
     "text": [
      "Epoch [37/100], Train Loss : 0.0018: 100%|██████████| 354/354 [01:16<00:00,  4.65it/s]\n",
      "Epcoh [37/100] Valid Loss : 28.1922: 100%|██████████| 89/89 [00:17<00:00,  5.15it/s]\n"
     ]
    },
    {
     "name": "stdout",
     "output_type": "stream",
     "text": [
      "Epoch [37/100], Train Loss : 0.0166, Train Acc : 0.9953, 'Train F1 : 0.9950, Valid Loss : 0.3168, Valid Acc : 0.9239, Valid F1 : 0.9139061773060827\n"
     ]
    },
    {
     "name": "stderr",
     "output_type": "stream",
     "text": [
      "Epoch [38/100], Train Loss : 0.0055: 100%|██████████| 354/354 [01:15<00:00,  4.66it/s]\n",
      "Epcoh [38/100] Valid Loss : 25.0355: 100%|██████████| 89/89 [00:17<00:00,  5.08it/s]\n"
     ]
    },
    {
     "name": "stdout",
     "output_type": "stream",
     "text": [
      "Epoch [38/100], Train Loss : 0.0184, Train Acc : 0.9946, 'Train F1 : 0.9946, Valid Loss : 0.2813, Valid Acc : 0.9285, Valid F1 : 0.9170593078481056\n"
     ]
    },
    {
     "name": "stderr",
     "output_type": "stream",
     "text": [
      "Epoch [39/100], Train Loss : 0.0003: 100%|██████████| 354/354 [01:16<00:00,  4.63it/s]\n",
      "Epcoh [39/100] Valid Loss : 27.9285: 100%|██████████| 89/89 [00:17<00:00,  5.11it/s]\n"
     ]
    },
    {
     "name": "stdout",
     "output_type": "stream",
     "text": [
      "Epoch [39/100], Train Loss : 0.0221, Train Acc : 0.9933, 'Train F1 : 0.9931, Valid Loss : 0.3138, Valid Acc : 0.9285, Valid F1 : 0.9192375814130084\n"
     ]
    },
    {
     "name": "stderr",
     "output_type": "stream",
     "text": [
      "Epoch [40/100], Train Loss : 0.0171: 100%|██████████| 354/354 [01:16<00:00,  4.65it/s]\n",
      "Epcoh [40/100] Valid Loss : 27.5501: 100%|██████████| 89/89 [00:17<00:00,  5.03it/s]\n"
     ]
    },
    {
     "name": "stdout",
     "output_type": "stream",
     "text": [
      "Epoch [40/100], Train Loss : 0.0224, Train Acc : 0.9941, 'Train F1 : 0.9936, Valid Loss : 0.3096, Valid Acc : 0.9250, Valid F1 : 0.9152249837737595\n"
     ]
    },
    {
     "name": "stderr",
     "output_type": "stream",
     "text": [
      "Epoch [41/100], Train Loss : 0.0000: 100%|██████████| 354/354 [01:16<00:00,  4.62it/s]\n",
      "Epcoh [41/100] Valid Loss : 22.7655: 100%|██████████| 89/89 [00:17<00:00,  4.96it/s]\n"
     ]
    },
    {
     "name": "stdout",
     "output_type": "stream",
     "text": [
      "Epoch [41/100], Train Loss : 0.0168, Train Acc : 0.9950, 'Train F1 : 0.9949, Valid Loss : 0.2558, Valid Acc : 0.9402, Valid F1 : 0.9310773388323303\n"
     ]
    },
    {
     "name": "stderr",
     "output_type": "stream",
     "text": [
      "Epoch [42/100], Train Loss : 0.0080: 100%|██████████| 354/354 [01:16<00:00,  4.63it/s]\n",
      "Epcoh [42/100] Valid Loss : 20.9160: 100%|██████████| 89/89 [00:18<00:00,  4.94it/s]\n"
     ]
    },
    {
     "name": "stdout",
     "output_type": "stream",
     "text": [
      "Epoch [42/100], Train Loss : 0.0232, Train Acc : 0.9931, 'Train F1 : 0.9926, Valid Loss : 0.2350, Valid Acc : 0.9370, Valid F1 : 0.9284109952922409\n"
     ]
    },
    {
     "name": "stderr",
     "output_type": "stream",
     "text": [
      "Epoch [43/100], Train Loss : 0.0000: 100%|██████████| 354/354 [01:17<00:00,  4.56it/s]\n",
      "Epcoh [43/100] Valid Loss : 19.2423: 100%|██████████| 89/89 [00:17<00:00,  5.08it/s]\n"
     ]
    },
    {
     "name": "stdout",
     "output_type": "stream",
     "text": [
      "Epoch [43/100], Train Loss : 0.0059, Train Acc : 0.9982, 'Train F1 : 0.9980, Valid Loss : 0.2162, Valid Acc : 0.9459, Valid F1 : 0.9367639224278658\n"
     ]
    },
    {
     "name": "stderr",
     "output_type": "stream",
     "text": [
      "Epoch [44/100], Train Loss : 0.0183: 100%|██████████| 354/354 [01:16<00:00,  4.63it/s]\n",
      "Epcoh [44/100] Valid Loss : 24.0229: 100%|██████████| 89/89 [00:17<00:00,  5.12it/s]\n"
     ]
    },
    {
     "name": "stdout",
     "output_type": "stream",
     "text": [
      "Epoch [44/100], Train Loss : 0.0156, Train Acc : 0.9957, 'Train F1 : 0.9956, Valid Loss : 0.2699, Valid Acc : 0.9349, Valid F1 : 0.9259681060555471\n"
     ]
    },
    {
     "name": "stderr",
     "output_type": "stream",
     "text": [
      "Epoch [45/100], Train Loss : 0.0432: 100%|██████████| 354/354 [01:17<00:00,  4.59it/s]\n",
      "Epcoh [45/100] Valid Loss : 31.7569: 100%|██████████| 89/89 [00:17<00:00,  5.09it/s]\n"
     ]
    },
    {
     "name": "stdout",
     "output_type": "stream",
     "text": [
      "Epoch [45/100], Train Loss : 0.0285, Train Acc : 0.9913, 'Train F1 : 0.9906, Valid Loss : 0.3568, Valid Acc : 0.9172, Valid F1 : 0.9023332093289632\n",
      "Early Stopping!\n"
     ]
    },
    {
     "data": {
      "application/vnd.jupyter.widget-view+json": {
       "model_id": "a0553180841741b7bfab763fd78a87d6",
       "version_major": 2,
       "version_minor": 0
      },
      "text/plain": [
       "VBox(children=(Label(value='0.029 MB of 0.029 MB uploaded\\r'), FloatProgress(value=1.0, max=1.0)))"
      ]
     },
     "metadata": {},
     "output_type": "display_data"
    },
    {
     "data": {
      "text/html": [
       "<style>\n",
       "    table.wandb td:nth-child(1) { padding: 0 10px; text-align: left ; width: auto;} td:nth-child(2) {text-align: left ; width: 100%}\n",
       "    .wandb-row { display: flex; flex-direction: row; flex-wrap: wrap; justify-content: flex-start; width: 100% }\n",
       "    .wandb-col { display: flex; flex-direction: column; flex-basis: 100%; flex: 1; padding: 10px; }\n",
       "    </style>\n",
       "<div class=\"wandb-row\"><div class=\"wandb-col\"><h3>Run history:</h3><br/><table class=\"wandb\"><tr><td>train_accuracy</td><td>▁▅▆▆▇▇▇▇████████████████████████████████</td></tr><tr><td>train_f1</td><td>▁▅▆▆▇▇▇▇████████████████████████████████</td></tr><tr><td>train_loss</td><td>█▄▃▃▂▂▂▂▁▁▁▁▁▁▁▁▁▁▁▁▁▁▁▁▁▁▁▁▁▁▁▁▁▁▁▁▁▁▁▁</td></tr><tr><td>valid_accuracy</td><td>▁▄▅▆▅▇▆▇▇▇▆▆█▇▇▇▇██▅▅███▇▇██▇█▇█▇▇▇▇███▇</td></tr><tr><td>valid_f1</td><td>▁▄▅▆▅▇▆▇▇▇▆▆█▇▇▇▇██▅▅██▇▇▇██▇█▇█▇▇▇▇███▇</td></tr><tr><td>valid_loss</td><td>█▅▄▇▅▂▄▂▂▂▄▄▁▂▂▃▃▂▂▅▇▁▁▂▂▂▂▁▂▂▂▂▃▂▃▃▂▂▁▃</td></tr></table><br/></div><div class=\"wandb-col\"><h3>Run summary:</h3><br/><table class=\"wandb\"><tr><td>best_train_acc</td><td>0.9954</td></tr><tr><td>best_train_f1</td><td>0.9952</td></tr><tr><td>best_train_loss</td><td>0.0165</td></tr><tr><td>best_valid_acc</td><td>0.9494</td></tr><tr><td>best_valid_f1</td><td>0.94329</td></tr><tr><td>best_valid_loss</td><td>0.18499</td></tr><tr><td>train_accuracy</td><td>0.99133</td></tr><tr><td>train_f1</td><td>0.99061</td></tr><tr><td>train_loss</td><td>0.02854</td></tr><tr><td>valid_accuracy</td><td>0.9172</td></tr><tr><td>valid_f1</td><td>0.90233</td></tr><tr><td>valid_loss</td><td>0.35682</td></tr></table><br/></div></div>"
      ],
      "text/plain": [
       "<IPython.core.display.HTML object>"
      ]
     },
     "metadata": {},
     "output_type": "display_data"
    },
    {
     "data": {
      "text/html": [
       " View run <strong style=\"color:#cdcd00\">resnet50-aug-add_fc</strong> at: <a href='https://wandb.ai/leeanghoo2/AIStage-CV/runs/t4uu87rx' target=\"_blank\">https://wandb.ai/leeanghoo2/AIStage-CV/runs/t4uu87rx</a><br/>Synced 6 W&B file(s), 1 media file(s), 0 artifact file(s) and 0 other file(s)"
      ],
      "text/plain": [
       "<IPython.core.display.HTML object>"
      ]
     },
     "metadata": {},
     "output_type": "display_data"
    },
    {
     "data": {
      "text/html": [
       "Find logs at: <code>./wandb/run-20240207_153741-t4uu87rx/logs</code>"
      ],
      "text/plain": [
       "<IPython.core.display.HTML object>"
      ]
     },
     "metadata": {},
     "output_type": "display_data"
    }
   ],
   "source": [
    "# run = wandb.init(project='AIStage-CV', name='resnet50-aug-add_fc')\n",
    "\n",
    "device = Cfg.device\n",
    "model = Cfg.model\n",
    "criterion = Cfg.criterion\n",
    "optimizer = Cfg.optimizer \n",
    "num_epochs = Cfg.num_epochs\n",
    "model_name = 'resnet50-aug-add_fc'\n",
    "model_path = Cfg.model_path\n",
    "\n",
    "# run.watch(model, criterion, log='all', log_graph=True)\n",
    "\n",
    "model, valid_max_accuracy, valid_max_f1 = training_loop(model, train_dataloader, valid_dataloader, train_dataset, valid_dataset, criterion, optimizer, device, num_epochs, model_path, model_name, 20, run)\n",
    "\n",
    "run.finish()"
   ]
  },
  {
   "cell_type": "code",
   "execution_count": 20,
   "metadata": {},
   "outputs": [
    {
     "data": {
      "text/plain": [
       "ResNet(\n",
       "  (conv1): Conv2d(3, 64, kernel_size=(7, 7), stride=(2, 2), padding=(3, 3), bias=False)\n",
       "  (bn1): BatchNorm2d(64, eps=1e-05, momentum=0.1, affine=True, track_running_stats=True)\n",
       "  (act1): ReLU(inplace=True)\n",
       "  (maxpool): MaxPool2d(kernel_size=3, stride=2, padding=1, dilation=1, ceil_mode=False)\n",
       "  (layer1): Sequential(\n",
       "    (0): Bottleneck(\n",
       "      (conv1): Conv2d(64, 64, kernel_size=(1, 1), stride=(1, 1), bias=False)\n",
       "      (bn1): BatchNorm2d(64, eps=1e-05, momentum=0.1, affine=True, track_running_stats=True)\n",
       "      (act1): ReLU(inplace=True)\n",
       "      (conv2): Conv2d(64, 64, kernel_size=(3, 3), stride=(1, 1), padding=(1, 1), bias=False)\n",
       "      (bn2): BatchNorm2d(64, eps=1e-05, momentum=0.1, affine=True, track_running_stats=True)\n",
       "      (drop_block): Identity()\n",
       "      (act2): ReLU(inplace=True)\n",
       "      (aa): Identity()\n",
       "      (conv3): Conv2d(64, 256, kernel_size=(1, 1), stride=(1, 1), bias=False)\n",
       "      (bn3): BatchNorm2d(256, eps=1e-05, momentum=0.1, affine=True, track_running_stats=True)\n",
       "      (act3): ReLU(inplace=True)\n",
       "      (downsample): Sequential(\n",
       "        (0): Conv2d(64, 256, kernel_size=(1, 1), stride=(1, 1), bias=False)\n",
       "        (1): BatchNorm2d(256, eps=1e-05, momentum=0.1, affine=True, track_running_stats=True)\n",
       "      )\n",
       "    )\n",
       "    (1): Bottleneck(\n",
       "      (conv1): Conv2d(256, 64, kernel_size=(1, 1), stride=(1, 1), bias=False)\n",
       "      (bn1): BatchNorm2d(64, eps=1e-05, momentum=0.1, affine=True, track_running_stats=True)\n",
       "      (act1): ReLU(inplace=True)\n",
       "      (conv2): Conv2d(64, 64, kernel_size=(3, 3), stride=(1, 1), padding=(1, 1), bias=False)\n",
       "      (bn2): BatchNorm2d(64, eps=1e-05, momentum=0.1, affine=True, track_running_stats=True)\n",
       "      (drop_block): Identity()\n",
       "      (act2): ReLU(inplace=True)\n",
       "      (aa): Identity()\n",
       "      (conv3): Conv2d(64, 256, kernel_size=(1, 1), stride=(1, 1), bias=False)\n",
       "      (bn3): BatchNorm2d(256, eps=1e-05, momentum=0.1, affine=True, track_running_stats=True)\n",
       "      (act3): ReLU(inplace=True)\n",
       "    )\n",
       "    (2): Bottleneck(\n",
       "      (conv1): Conv2d(256, 64, kernel_size=(1, 1), stride=(1, 1), bias=False)\n",
       "      (bn1): BatchNorm2d(64, eps=1e-05, momentum=0.1, affine=True, track_running_stats=True)\n",
       "      (act1): ReLU(inplace=True)\n",
       "      (conv2): Conv2d(64, 64, kernel_size=(3, 3), stride=(1, 1), padding=(1, 1), bias=False)\n",
       "      (bn2): BatchNorm2d(64, eps=1e-05, momentum=0.1, affine=True, track_running_stats=True)\n",
       "      (drop_block): Identity()\n",
       "      (act2): ReLU(inplace=True)\n",
       "      (aa): Identity()\n",
       "      (conv3): Conv2d(64, 256, kernel_size=(1, 1), stride=(1, 1), bias=False)\n",
       "      (bn3): BatchNorm2d(256, eps=1e-05, momentum=0.1, affine=True, track_running_stats=True)\n",
       "      (act3): ReLU(inplace=True)\n",
       "    )\n",
       "  )\n",
       "  (layer2): Sequential(\n",
       "    (0): Bottleneck(\n",
       "      (conv1): Conv2d(256, 128, kernel_size=(1, 1), stride=(1, 1), bias=False)\n",
       "      (bn1): BatchNorm2d(128, eps=1e-05, momentum=0.1, affine=True, track_running_stats=True)\n",
       "      (act1): ReLU(inplace=True)\n",
       "      (conv2): Conv2d(128, 128, kernel_size=(3, 3), stride=(2, 2), padding=(1, 1), bias=False)\n",
       "      (bn2): BatchNorm2d(128, eps=1e-05, momentum=0.1, affine=True, track_running_stats=True)\n",
       "      (drop_block): Identity()\n",
       "      (act2): ReLU(inplace=True)\n",
       "      (aa): Identity()\n",
       "      (conv3): Conv2d(128, 512, kernel_size=(1, 1), stride=(1, 1), bias=False)\n",
       "      (bn3): BatchNorm2d(512, eps=1e-05, momentum=0.1, affine=True, track_running_stats=True)\n",
       "      (act3): ReLU(inplace=True)\n",
       "      (downsample): Sequential(\n",
       "        (0): Conv2d(256, 512, kernel_size=(1, 1), stride=(2, 2), bias=False)\n",
       "        (1): BatchNorm2d(512, eps=1e-05, momentum=0.1, affine=True, track_running_stats=True)\n",
       "      )\n",
       "    )\n",
       "    (1): Bottleneck(\n",
       "      (conv1): Conv2d(512, 128, kernel_size=(1, 1), stride=(1, 1), bias=False)\n",
       "      (bn1): BatchNorm2d(128, eps=1e-05, momentum=0.1, affine=True, track_running_stats=True)\n",
       "      (act1): ReLU(inplace=True)\n",
       "      (conv2): Conv2d(128, 128, kernel_size=(3, 3), stride=(1, 1), padding=(1, 1), bias=False)\n",
       "      (bn2): BatchNorm2d(128, eps=1e-05, momentum=0.1, affine=True, track_running_stats=True)\n",
       "      (drop_block): Identity()\n",
       "      (act2): ReLU(inplace=True)\n",
       "      (aa): Identity()\n",
       "      (conv3): Conv2d(128, 512, kernel_size=(1, 1), stride=(1, 1), bias=False)\n",
       "      (bn3): BatchNorm2d(512, eps=1e-05, momentum=0.1, affine=True, track_running_stats=True)\n",
       "      (act3): ReLU(inplace=True)\n",
       "    )\n",
       "    (2): Bottleneck(\n",
       "      (conv1): Conv2d(512, 128, kernel_size=(1, 1), stride=(1, 1), bias=False)\n",
       "      (bn1): BatchNorm2d(128, eps=1e-05, momentum=0.1, affine=True, track_running_stats=True)\n",
       "      (act1): ReLU(inplace=True)\n",
       "      (conv2): Conv2d(128, 128, kernel_size=(3, 3), stride=(1, 1), padding=(1, 1), bias=False)\n",
       "      (bn2): BatchNorm2d(128, eps=1e-05, momentum=0.1, affine=True, track_running_stats=True)\n",
       "      (drop_block): Identity()\n",
       "      (act2): ReLU(inplace=True)\n",
       "      (aa): Identity()\n",
       "      (conv3): Conv2d(128, 512, kernel_size=(1, 1), stride=(1, 1), bias=False)\n",
       "      (bn3): BatchNorm2d(512, eps=1e-05, momentum=0.1, affine=True, track_running_stats=True)\n",
       "      (act3): ReLU(inplace=True)\n",
       "    )\n",
       "    (3): Bottleneck(\n",
       "      (conv1): Conv2d(512, 128, kernel_size=(1, 1), stride=(1, 1), bias=False)\n",
       "      (bn1): BatchNorm2d(128, eps=1e-05, momentum=0.1, affine=True, track_running_stats=True)\n",
       "      (act1): ReLU(inplace=True)\n",
       "      (conv2): Conv2d(128, 128, kernel_size=(3, 3), stride=(1, 1), padding=(1, 1), bias=False)\n",
       "      (bn2): BatchNorm2d(128, eps=1e-05, momentum=0.1, affine=True, track_running_stats=True)\n",
       "      (drop_block): Identity()\n",
       "      (act2): ReLU(inplace=True)\n",
       "      (aa): Identity()\n",
       "      (conv3): Conv2d(128, 512, kernel_size=(1, 1), stride=(1, 1), bias=False)\n",
       "      (bn3): BatchNorm2d(512, eps=1e-05, momentum=0.1, affine=True, track_running_stats=True)\n",
       "      (act3): ReLU(inplace=True)\n",
       "    )\n",
       "  )\n",
       "  (layer3): Sequential(\n",
       "    (0): Bottleneck(\n",
       "      (conv1): Conv2d(512, 256, kernel_size=(1, 1), stride=(1, 1), bias=False)\n",
       "      (bn1): BatchNorm2d(256, eps=1e-05, momentum=0.1, affine=True, track_running_stats=True)\n",
       "      (act1): ReLU(inplace=True)\n",
       "      (conv2): Conv2d(256, 256, kernel_size=(3, 3), stride=(2, 2), padding=(1, 1), bias=False)\n",
       "      (bn2): BatchNorm2d(256, eps=1e-05, momentum=0.1, affine=True, track_running_stats=True)\n",
       "      (drop_block): Identity()\n",
       "      (act2): ReLU(inplace=True)\n",
       "      (aa): Identity()\n",
       "      (conv3): Conv2d(256, 1024, kernel_size=(1, 1), stride=(1, 1), bias=False)\n",
       "      (bn3): BatchNorm2d(1024, eps=1e-05, momentum=0.1, affine=True, track_running_stats=True)\n",
       "      (act3): ReLU(inplace=True)\n",
       "      (downsample): Sequential(\n",
       "        (0): Conv2d(512, 1024, kernel_size=(1, 1), stride=(2, 2), bias=False)\n",
       "        (1): BatchNorm2d(1024, eps=1e-05, momentum=0.1, affine=True, track_running_stats=True)\n",
       "      )\n",
       "    )\n",
       "    (1): Bottleneck(\n",
       "      (conv1): Conv2d(1024, 256, kernel_size=(1, 1), stride=(1, 1), bias=False)\n",
       "      (bn1): BatchNorm2d(256, eps=1e-05, momentum=0.1, affine=True, track_running_stats=True)\n",
       "      (act1): ReLU(inplace=True)\n",
       "      (conv2): Conv2d(256, 256, kernel_size=(3, 3), stride=(1, 1), padding=(1, 1), bias=False)\n",
       "      (bn2): BatchNorm2d(256, eps=1e-05, momentum=0.1, affine=True, track_running_stats=True)\n",
       "      (drop_block): Identity()\n",
       "      (act2): ReLU(inplace=True)\n",
       "      (aa): Identity()\n",
       "      (conv3): Conv2d(256, 1024, kernel_size=(1, 1), stride=(1, 1), bias=False)\n",
       "      (bn3): BatchNorm2d(1024, eps=1e-05, momentum=0.1, affine=True, track_running_stats=True)\n",
       "      (act3): ReLU(inplace=True)\n",
       "    )\n",
       "    (2): Bottleneck(\n",
       "      (conv1): Conv2d(1024, 256, kernel_size=(1, 1), stride=(1, 1), bias=False)\n",
       "      (bn1): BatchNorm2d(256, eps=1e-05, momentum=0.1, affine=True, track_running_stats=True)\n",
       "      (act1): ReLU(inplace=True)\n",
       "      (conv2): Conv2d(256, 256, kernel_size=(3, 3), stride=(1, 1), padding=(1, 1), bias=False)\n",
       "      (bn2): BatchNorm2d(256, eps=1e-05, momentum=0.1, affine=True, track_running_stats=True)\n",
       "      (drop_block): Identity()\n",
       "      (act2): ReLU(inplace=True)\n",
       "      (aa): Identity()\n",
       "      (conv3): Conv2d(256, 1024, kernel_size=(1, 1), stride=(1, 1), bias=False)\n",
       "      (bn3): BatchNorm2d(1024, eps=1e-05, momentum=0.1, affine=True, track_running_stats=True)\n",
       "      (act3): ReLU(inplace=True)\n",
       "    )\n",
       "    (3): Bottleneck(\n",
       "      (conv1): Conv2d(1024, 256, kernel_size=(1, 1), stride=(1, 1), bias=False)\n",
       "      (bn1): BatchNorm2d(256, eps=1e-05, momentum=0.1, affine=True, track_running_stats=True)\n",
       "      (act1): ReLU(inplace=True)\n",
       "      (conv2): Conv2d(256, 256, kernel_size=(3, 3), stride=(1, 1), padding=(1, 1), bias=False)\n",
       "      (bn2): BatchNorm2d(256, eps=1e-05, momentum=0.1, affine=True, track_running_stats=True)\n",
       "      (drop_block): Identity()\n",
       "      (act2): ReLU(inplace=True)\n",
       "      (aa): Identity()\n",
       "      (conv3): Conv2d(256, 1024, kernel_size=(1, 1), stride=(1, 1), bias=False)\n",
       "      (bn3): BatchNorm2d(1024, eps=1e-05, momentum=0.1, affine=True, track_running_stats=True)\n",
       "      (act3): ReLU(inplace=True)\n",
       "    )\n",
       "    (4): Bottleneck(\n",
       "      (conv1): Conv2d(1024, 256, kernel_size=(1, 1), stride=(1, 1), bias=False)\n",
       "      (bn1): BatchNorm2d(256, eps=1e-05, momentum=0.1, affine=True, track_running_stats=True)\n",
       "      (act1): ReLU(inplace=True)\n",
       "      (conv2): Conv2d(256, 256, kernel_size=(3, 3), stride=(1, 1), padding=(1, 1), bias=False)\n",
       "      (bn2): BatchNorm2d(256, eps=1e-05, momentum=0.1, affine=True, track_running_stats=True)\n",
       "      (drop_block): Identity()\n",
       "      (act2): ReLU(inplace=True)\n",
       "      (aa): Identity()\n",
       "      (conv3): Conv2d(256, 1024, kernel_size=(1, 1), stride=(1, 1), bias=False)\n",
       "      (bn3): BatchNorm2d(1024, eps=1e-05, momentum=0.1, affine=True, track_running_stats=True)\n",
       "      (act3): ReLU(inplace=True)\n",
       "    )\n",
       "    (5): Bottleneck(\n",
       "      (conv1): Conv2d(1024, 256, kernel_size=(1, 1), stride=(1, 1), bias=False)\n",
       "      (bn1): BatchNorm2d(256, eps=1e-05, momentum=0.1, affine=True, track_running_stats=True)\n",
       "      (act1): ReLU(inplace=True)\n",
       "      (conv2): Conv2d(256, 256, kernel_size=(3, 3), stride=(1, 1), padding=(1, 1), bias=False)\n",
       "      (bn2): BatchNorm2d(256, eps=1e-05, momentum=0.1, affine=True, track_running_stats=True)\n",
       "      (drop_block): Identity()\n",
       "      (act2): ReLU(inplace=True)\n",
       "      (aa): Identity()\n",
       "      (conv3): Conv2d(256, 1024, kernel_size=(1, 1), stride=(1, 1), bias=False)\n",
       "      (bn3): BatchNorm2d(1024, eps=1e-05, momentum=0.1, affine=True, track_running_stats=True)\n",
       "      (act3): ReLU(inplace=True)\n",
       "    )\n",
       "  )\n",
       "  (layer4): Sequential(\n",
       "    (0): Bottleneck(\n",
       "      (conv1): Conv2d(1024, 512, kernel_size=(1, 1), stride=(1, 1), bias=False)\n",
       "      (bn1): BatchNorm2d(512, eps=1e-05, momentum=0.1, affine=True, track_running_stats=True)\n",
       "      (act1): ReLU(inplace=True)\n",
       "      (conv2): Conv2d(512, 512, kernel_size=(3, 3), stride=(2, 2), padding=(1, 1), bias=False)\n",
       "      (bn2): BatchNorm2d(512, eps=1e-05, momentum=0.1, affine=True, track_running_stats=True)\n",
       "      (drop_block): Identity()\n",
       "      (act2): ReLU(inplace=True)\n",
       "      (aa): Identity()\n",
       "      (conv3): Conv2d(512, 2048, kernel_size=(1, 1), stride=(1, 1), bias=False)\n",
       "      (bn3): BatchNorm2d(2048, eps=1e-05, momentum=0.1, affine=True, track_running_stats=True)\n",
       "      (act3): ReLU(inplace=True)\n",
       "      (downsample): Sequential(\n",
       "        (0): Conv2d(1024, 2048, kernel_size=(1, 1), stride=(2, 2), bias=False)\n",
       "        (1): BatchNorm2d(2048, eps=1e-05, momentum=0.1, affine=True, track_running_stats=True)\n",
       "      )\n",
       "    )\n",
       "    (1): Bottleneck(\n",
       "      (conv1): Conv2d(2048, 512, kernel_size=(1, 1), stride=(1, 1), bias=False)\n",
       "      (bn1): BatchNorm2d(512, eps=1e-05, momentum=0.1, affine=True, track_running_stats=True)\n",
       "      (act1): ReLU(inplace=True)\n",
       "      (conv2): Conv2d(512, 512, kernel_size=(3, 3), stride=(1, 1), padding=(1, 1), bias=False)\n",
       "      (bn2): BatchNorm2d(512, eps=1e-05, momentum=0.1, affine=True, track_running_stats=True)\n",
       "      (drop_block): Identity()\n",
       "      (act2): ReLU(inplace=True)\n",
       "      (aa): Identity()\n",
       "      (conv3): Conv2d(512, 2048, kernel_size=(1, 1), stride=(1, 1), bias=False)\n",
       "      (bn3): BatchNorm2d(2048, eps=1e-05, momentum=0.1, affine=True, track_running_stats=True)\n",
       "      (act3): ReLU(inplace=True)\n",
       "    )\n",
       "    (2): Bottleneck(\n",
       "      (conv1): Conv2d(2048, 512, kernel_size=(1, 1), stride=(1, 1), bias=False)\n",
       "      (bn1): BatchNorm2d(512, eps=1e-05, momentum=0.1, affine=True, track_running_stats=True)\n",
       "      (act1): ReLU(inplace=True)\n",
       "      (conv2): Conv2d(512, 512, kernel_size=(3, 3), stride=(1, 1), padding=(1, 1), bias=False)\n",
       "      (bn2): BatchNorm2d(512, eps=1e-05, momentum=0.1, affine=True, track_running_stats=True)\n",
       "      (drop_block): Identity()\n",
       "      (act2): ReLU(inplace=True)\n",
       "      (aa): Identity()\n",
       "      (conv3): Conv2d(512, 2048, kernel_size=(1, 1), stride=(1, 1), bias=False)\n",
       "      (bn3): BatchNorm2d(2048, eps=1e-05, momentum=0.1, affine=True, track_running_stats=True)\n",
       "      (act3): ReLU(inplace=True)\n",
       "    )\n",
       "  )\n",
       "  (global_pool): SelectAdaptivePool2d(pool_type=avg, flatten=Flatten(start_dim=1, end_dim=-1))\n",
       "  (fc): Sequential(\n",
       "    (0): Linear(in_features=2048, out_features=1024, bias=True)\n",
       "    (1): BatchNorm1d(1024, eps=1e-05, momentum=0.1, affine=True, track_running_stats=True)\n",
       "    (2): ReLU()\n",
       "    (3): Dropout(p=0.2, inplace=False)\n",
       "    (4): Linear(in_features=1024, out_features=512, bias=True)\n",
       "    (5): BatchNorm1d(512, eps=1e-05, momentum=0.1, affine=True, track_running_stats=True)\n",
       "    (6): ReLU()\n",
       "    (7): Dropout(p=0.2, inplace=False)\n",
       "    (8): Linear(in_features=512, out_features=256, bias=True)\n",
       "    (9): BatchNorm1d(256, eps=1e-05, momentum=0.1, affine=True, track_running_stats=True)\n",
       "    (10): ReLU()\n",
       "    (11): Dropout(p=0.2, inplace=False)\n",
       "    (12): Linear(in_features=256, out_features=17, bias=True)\n",
       "  )\n",
       ")"
      ]
     },
     "execution_count": 20,
     "metadata": {},
     "output_type": "execute_result"
    }
   ],
   "source": [
    "model = timm.create_model('resnet50', pretrained=True)\n",
    "in_features = model.fc.in_features\n",
    "fc_layers = nn.Sequential(\n",
    "    nn.Linear(in_features, 1024),\n",
    "    nn.BatchNorm1d(1024),\n",
    "    nn.ReLU(),\n",
    "    nn.Dropout(p=0.2),\n",
    "    nn.Linear(1024, 512),\n",
    "    nn.BatchNorm1d(512),\n",
    "    nn.ReLU(),\n",
    "    nn.Dropout(p=0.2),\n",
    "    nn.Linear(512, 256),\n",
    "    nn.BatchNorm1d(256),\n",
    "    nn.ReLU(),\n",
    "    nn.Dropout(p=0.2),\n",
    "    nn.Linear(256, 17)\n",
    ")\n",
    "model.fc = fc_layers\n",
    "model.load_state_dict(torch.load('/data/ephemeral/home/upstage_cv/models/model_resnet50-aug-add_fc.pt'))\n",
    "model = model.to(device)\n",
    "model.eval()"
   ]
  },
  {
   "cell_type": "code",
   "execution_count": 21,
   "metadata": {},
   "outputs": [
    {
     "name": "stderr",
     "output_type": "stream",
     "text": [
      "100%|██████████| 99/99 [00:29<00:00,  3.34it/s]\n"
     ]
    }
   ],
   "source": [
    "preds_list = []\n",
    "\n",
    "for images, labels in tqdm(test_dataloader):\n",
    "    images = images.type(torch.cuda.FloatTensor)\n",
    "    images = images.to(device)\n",
    "\n",
    "    with torch.no_grad():\n",
    "        preds = model(images)\n",
    "    preds_list.extend(preds.argmax(dim=1).detach().cpu().numpy())"
   ]
  },
  {
   "cell_type": "code",
   "execution_count": 22,
   "metadata": {},
   "outputs": [],
   "source": [
    "pred_df = pd.DataFrame(test_dataset.df, columns=['ID', 'target'])\n",
    "pred_df['target'] = preds_list"
   ]
  },
  {
   "cell_type": "code",
   "execution_count": 23,
   "metadata": {},
   "outputs": [],
   "source": [
    "sample_submission_df = pd.read_csv(submission_path)\n",
    "assert (sample_submission_df['ID'] == pred_df['ID']).all()"
   ]
  },
  {
   "cell_type": "code",
   "execution_count": 24,
   "metadata": {},
   "outputs": [],
   "source": [
    "pred_df.to_csv('../outputs/resnet50-aug-add_fc.csv', index=False)"
   ]
  },
  {
   "cell_type": "code",
   "execution_count": 25,
   "metadata": {},
   "outputs": [
    {
     "data": {
      "text/html": [
       "<div>\n",
       "<style scoped>\n",
       "    .dataframe tbody tr th:only-of-type {\n",
       "        vertical-align: middle;\n",
       "    }\n",
       "\n",
       "    .dataframe tbody tr th {\n",
       "        vertical-align: top;\n",
       "    }\n",
       "\n",
       "    .dataframe thead th {\n",
       "        text-align: right;\n",
       "    }\n",
       "</style>\n",
       "<table border=\"1\" class=\"dataframe\">\n",
       "  <thead>\n",
       "    <tr style=\"text-align: right;\">\n",
       "      <th></th>\n",
       "      <th>ID</th>\n",
       "      <th>target</th>\n",
       "    </tr>\n",
       "  </thead>\n",
       "  <tbody>\n",
       "    <tr>\n",
       "      <th>0</th>\n",
       "      <td>0008fdb22ddce0ce.jpg</td>\n",
       "      <td>2</td>\n",
       "    </tr>\n",
       "    <tr>\n",
       "      <th>1</th>\n",
       "      <td>00091bffdffd83de.jpg</td>\n",
       "      <td>12</td>\n",
       "    </tr>\n",
       "    <tr>\n",
       "      <th>2</th>\n",
       "      <td>00396fbc1f6cc21d.jpg</td>\n",
       "      <td>5</td>\n",
       "    </tr>\n",
       "    <tr>\n",
       "      <th>3</th>\n",
       "      <td>00471f8038d9c4b6.jpg</td>\n",
       "      <td>12</td>\n",
       "    </tr>\n",
       "    <tr>\n",
       "      <th>4</th>\n",
       "      <td>00901f504008d884.jpg</td>\n",
       "      <td>2</td>\n",
       "    </tr>\n",
       "  </tbody>\n",
       "</table>\n",
       "</div>"
      ],
      "text/plain": [
       "                     ID  target\n",
       "0  0008fdb22ddce0ce.jpg       2\n",
       "1  00091bffdffd83de.jpg      12\n",
       "2  00396fbc1f6cc21d.jpg       5\n",
       "3  00471f8038d9c4b6.jpg      12\n",
       "4  00901f504008d884.jpg       2"
      ]
     },
     "execution_count": 25,
     "metadata": {},
     "output_type": "execute_result"
    }
   ],
   "source": [
    "pred_df.head()"
   ]
  }
 ],
 "metadata": {
  "kernelspec": {
   "display_name": "base",
   "language": "python",
   "name": "python3"
  },
  "language_info": {
   "codemirror_mode": {
    "name": "ipython",
    "version": 3
   },
   "file_extension": ".py",
   "mimetype": "text/x-python",
   "name": "python",
   "nbconvert_exporter": "python",
   "pygments_lexer": "ipython3",
   "version": "3.10.13"
  }
 },
 "nbformat": 4,
 "nbformat_minor": 2
}
