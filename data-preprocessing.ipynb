{
 "cells": [
  {
   "cell_type": "code",
   "execution_count": 2,
   "metadata": {},
   "outputs": [],
   "source": [
    "import pandas as pd\n",
    "import os"
   ]
  },
  {
   "cell_type": "markdown",
   "metadata": {},
   "source": [
    "### 기존 데이터셋과 합치는 방식\n",
    "\n",
    "1. 파일명 바꾸기(동일하게 augmentation 하는 과정에서 augmented라는 파일명이 앞에 붙여져서)\n",
    "2. 기존 데이터셋에서 원본 트레이닝 데이터만 지우기(2번에서 이미 있기 때문에)\n",
    "3. 옮기려는 데이터를 기존 데이터셋 옮기기"
   ]
  },
  {
   "cell_type": "code",
   "execution_count": null,
   "metadata": {},
   "outputs": [],
   "source": [
    "#실제 파일명 변경하기\n",
    "\n",
    "import os\n",
    "import pandas as pd\n",
    "\n",
    "# 이미지가 있는 폴더 경로\n",
    "image_folder = 'data/aug_1'\n",
    "# CSV 파일 경로\n",
    "csv_file = 'data/aug_1/augmented_ljh.csv'\n",
    "\n",
    "# 이미지 파일명 변경\n",
    "for i, filename in enumerate(os.listdir(image_folder)):\n",
    "    # if \"augmented\" not in filename and filename.endswith(\".jpg\"):\n",
    "    #     os.remove(os.path.join(folder_path, filename))\n",
    "    #     print(f\"Deleted: {filename}\")  # 삭제된 파일명 출력\n",
    "    if filename.endswith((\".png\", \".jpg\", \".jpeg\")):  # 이미지 파일 확장자 확인\n",
    "        name, ext = os.path.splitext(filename)\n",
    "        new_name = f\"{name}_ljh{ext}\"  # 새 파일명 형식\n",
    "        os.rename(os.path.join(image_folder, filename), os.path.join(image_folder, new_name))\n",
    "   \n",
    "\n"
   ]
  },
  {
   "cell_type": "code",
   "execution_count": null,
   "metadata": {},
   "outputs": [],
   "source": [
    "# CSV 파일에서 이미지 파일명 업데이트\n",
    "df = pd.read_csv(csv_file)\n",
    "\n",
    "# 파일명을 업데이트할 CSV 컬럼명, 예를 들어 'image_name'\n",
    "column_name = 'ID'\n",
    "\n",
    "\n",
    "# 새로운 이미지 파일명으로 업데이트\n",
    "for i, row in df.iterrows():\n",
    "    old_name = row[column_name]\n",
    "    new_name = old_name.replace('.jpg', '_ljh.jpg')\n",
    "    df.at[i, column_name] = new_name  # 파일명 업데이트, 경로 포함 업데이트 필요 시\n",
    "        \n",
    "\n",
    "df.to_csv(\"new_aug.csv\", index = False)"
   ]
  },
  {
   "cell_type": "code",
   "execution_count": 8,
   "metadata": {},
   "outputs": [],
   "source": [
    "#원본 파일 삭제하기\n",
    "for i, filename in enumerate(os.listdir(image_folder)):\n",
    "    if \"augmented\" not in filename and filename.endswith(\".jpg\"):\n",
    "        os.remove(os.path.join(image_folder, filename))\n",
    "        print(f\"Deleted: {filename}\")  # 삭제된 파일명 출력\n"
   ]
  },
  {
   "cell_type": "code",
   "execution_count": null,
   "metadata": {},
   "outputs": [],
   "source": [
    "#파일 이동하기\n",
    "import os\n",
    "import shutil\n",
    "\n",
    "# 이미지 파일이 있는 원본 폴더 경로\n",
    "source_folder = 'sjy/'\n",
    "\n",
    "# 이미지 파일을 옮길 대상 폴더 경로\n",
    "destination_folder = 'data/aug_2/'\n",
    "\n",
    "\n",
    "# 원본 폴더에서 각 파일을 반복 처리\n",
    "for filename in os.listdir(source_folder):\n",
    "    # 파일 경로 구성\n",
    "    file_path = os.path.join(source_folder, filename)\n",
    "    \n",
    "    # 파일이 이미지인지 확인 (확장자를 통해)\n",
    "    if filename.lower().endswith(('.png', '.jpg', '.jpeg', '.gif', '.bmp')):\n",
    "        # 파일을 대상 폴더로 이동\n",
    "        shutil.move(file_path, destination_folder)"
   ]
  }
 ],
 "metadata": {
  "kernelspec": {
   "display_name": "base",
   "language": "python",
   "name": "python3"
  },
  "language_info": {
   "codemirror_mode": {
    "name": "ipython",
    "version": 3
   },
   "file_extension": ".py",
   "mimetype": "text/x-python",
   "name": "python",
   "nbconvert_exporter": "python",
   "pygments_lexer": "ipython3",
   "version": "3.10.13"
  }
 },
 "nbformat": 4,
 "nbformat_minor": 2
}
